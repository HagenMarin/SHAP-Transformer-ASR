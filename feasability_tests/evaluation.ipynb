{
 "cells": [
  {
   "cell_type": "code",
   "execution_count": 1,
   "id": "d960d8c9",
   "metadata": {},
   "outputs": [
    {
     "name": "stderr",
     "output_type": "stream",
     "text": [
      "/home/hagen/SHAP-Transformer-ASR/.shaptransformerasr/lib/python3.11/site-packages/tqdm/auto.py:21: TqdmWarning: IProgress not found. Please update jupyter and ipywidgets. See https://ipywidgets.readthedocs.io/en/stable/user_install.html\n",
      "  from .autonotebook import tqdm as notebook_tqdm\n",
      "2025-09-15 22:37:53.089618: I tensorflow/core/util/port.cc:153] oneDNN custom operations are on. You may see slightly different numerical results due to floating-point round-off errors from different computation orders. To turn them off, set the environment variable `TF_ENABLE_ONEDNN_OPTS=0`.\n",
      "2025-09-15 22:37:53.275837: E external/local_xla/xla/stream_executor/cuda/cuda_fft.cc:467] Unable to register cuFFT factory: Attempting to register factory for plugin cuFFT when one has already been registered\n",
      "WARNING: All log messages before absl::InitializeLog() is called are written to STDERR\n",
      "E0000 00:00:1757968673.345518  119567 cuda_dnn.cc:8579] Unable to register cuDNN factory: Attempting to register factory for plugin cuDNN when one has already been registered\n",
      "E0000 00:00:1757968673.365556  119567 cuda_blas.cc:1407] Unable to register cuBLAS factory: Attempting to register factory for plugin cuBLAS when one has already been registered\n",
      "W0000 00:00:1757968673.512104  119567 computation_placer.cc:177] computation placer already registered. Please check linkage and avoid linking the same target more than once.\n",
      "W0000 00:00:1757968673.512140  119567 computation_placer.cc:177] computation placer already registered. Please check linkage and avoid linking the same target more than once.\n",
      "W0000 00:00:1757968673.512143  119567 computation_placer.cc:177] computation placer already registered. Please check linkage and avoid linking the same target more than once.\n",
      "W0000 00:00:1757968673.512145  119567 computation_placer.cc:177] computation placer already registered. Please check linkage and avoid linking the same target more than once.\n",
      "2025-09-15 22:37:53.531297: I tensorflow/core/platform/cpu_feature_guard.cc:210] This TensorFlow binary is optimized to use available CPU instructions in performance-critical operations.\n",
      "To enable the following instructions: AVX2 AVX512F AVX512_VNNI AVX512_BF16 FMA, in other operations, rebuild TensorFlow with the appropriate compiler flags.\n"
     ]
    }
   ],
   "source": [
    "import torch\n",
    "import numpy as np\n",
    "import matplotlib.pyplot as plt\n",
    "import shap\n",
    "import logging\n",
    "import sys\n",
    "import os\n",
    "import soundfile as sf\n",
    "from transformers import Wav2Vec2ForCTC, Wav2Vec2Processor\n",
    "from datasets import load_dataset\n",
    "import librosa\n",
    "import librosa.display\n",
    "from scipy.stats import pearsonr\n",
    "from typing import List, Dict, Tuple\n",
    "import json\n",
    "from pathlib import Path\n",
    "from tqdm import tqdm\n",
    "import warnings\n",
    "\n",
    "# Set up logging\n",
    "logging.basicConfig(\n",
    "    level=logging.INFO,\n",
    "    format='%(asctime)s - %(levelname)s - %(message)s',\n",
    "    handlers=[\n",
    "        logging.StreamHandler(sys.stdout),\n",
    "        logging.FileHandler('evaluation.log')\n",
    "    ]\n",
    ")\n",
    "logger = logging.getLogger(__name__)\n",
    "\n",
    "model_name = \"facebook/wav2vec2-base-960h\"\n",
    "            "
   ]
  },
  {
   "cell_type": "code",
   "execution_count": 2,
   "id": "20f82024",
   "metadata": {},
   "outputs": [],
   "source": [
    "def _create_model_wrapper(model):\n",
    "    \"\"\"Create a wrapper class for the model to get properly shaped output\"\"\"\n",
    "    class ModelWrapper(torch.nn.Module):\n",
    "        def __init__(self, model):\n",
    "            super().__init__()\n",
    "            self.model = model\n",
    "        \n",
    "        def forward(self, x):\n",
    "            # Ensure input has correct shape for the model\n",
    "            if len(x.shape) == 4:\n",
    "                x = x.squeeze(1).squeeze(1)  # Remove extra dimensions\n",
    "            elif len(x.shape) == 3:\n",
    "                x = x.squeeze(1)  # Remove extra dimension\n",
    "            \n",
    "            # Add attention mask\n",
    "            attention_mask = torch.ones_like(x)\n",
    "            \n",
    "            # Forward pass with attention mask\n",
    "            logits = self.model(x, attention_mask=attention_mask).logits\n",
    "            \n",
    "            # Log the shape and statistics of logits\n",
    "            logger.debug(f\"Logits shape: {logits.shape}\")\n",
    "            logger.debug(f\"Logits mean: {torch.mean(logits).item():.6f}\")\n",
    "            logger.debug(f\"Logits std: {torch.std(logits).item():.6f}\")\n",
    "            \n",
    "            # For SHAP, aggregate over vocab to get a scalar per time step\n",
    "            return torch.max(logits,dim=-1).values  # [batch, seq_len]\n",
    "    \n",
    "    return ModelWrapper(model)"
   ]
  },
  {
   "cell_type": "code",
   "execution_count": 3,
   "id": "4548d0a7",
   "metadata": {},
   "outputs": [],
   "source": [
    "def _add_noise(audio: np.ndarray, snr_db: float) -> np.ndarray:\n",
    "    \"\"\"Add white noise to audio at specified SNR\"\"\"\n",
    "    signal_power = np.mean(audio ** 2)\n",
    "    noise_power = signal_power / (10 ** (snr_db / 10))\n",
    "    noise = np.random.normal(0, np.sqrt(noise_power), len(audio))\n",
    "    return audio + noise"
   ]
  },
  {
   "cell_type": "code",
   "execution_count": 4,
   "id": "cb3e58bb",
   "metadata": {},
   "outputs": [],
   "source": [
    "def create_test_set(num_samples: int = 10) -> Dict:\n",
    "    \"\"\"Create a controlled test set with various conditions\"\"\"\n",
    "    logger.info(f\"Creating test set with {num_samples} samples\")\n",
    "    ds = load_dataset(\"patrickvonplaten/librispeech_asr_dummy\", \"clean\", split=\"validation\")\n",
    "    test_set = []\n",
    "    dataset_index = 17\n",
    "\n",
    "    for i in tqdm(range(min(num_samples, len(ds))), desc=\"Creating test samples\"):\n",
    "        sample = ds[i+dataset_index]\n",
    "        audio = sample[\"audio\"][\"array\"]\n",
    "        while len(audio) < 100000:\n",
    "            dataset_index += 1\n",
    "            sample = ds[i+dataset_index]\n",
    "            audio = sample[\"audio\"][\"array\"]\n",
    "        text = sample[\"text\"]\n",
    "        \n",
    "        # Create clean sample\n",
    "        test_set.append({\n",
    "            \"type\": \"clean\",\n",
    "            \"audio\": audio,\n",
    "            \"text\": text,\n",
    "            \"snr\": float('inf'),\n",
    "            \"noise\": np.zeros_like(audio)\n",
    "        })\n",
    "        logger.info(f\"Added clean sample {i+1}\")\n",
    "        \n",
    "        # Create noisy samples with different SNRs [20, 10, 0, -5]\n",
    "        for snr in tqdm([5,2,1], desc=f\"Adding noise to sample {i+1}\", leave=False):\n",
    "            noisy_audio = _add_noise(audio, snr)\n",
    "            test_set.append({\n",
    "                \"type\": \"noisy\",\n",
    "                \"audio\": noisy_audio,\n",
    "                \"text\": text,\n",
    "                \"snr\": snr,\n",
    "                \"noise\": noisy_audio - audio\n",
    "            })\n",
    "            logger.info(f\"Added noisy sample {i+1} with SNR {snr}dB\")\n",
    "\n",
    "    logger.info(f\"Test set created with {len(test_set)} total samples\")\n",
    "    return test_set"
   ]
  },
  {
   "cell_type": "code",
   "execution_count": 5,
   "id": "3b0c5a68",
   "metadata": {},
   "outputs": [],
   "source": [
    "def compute_shap_values(processor, device, wrapped_model, model, vocab, audio: np.ndarray) -> Tuple[np.ndarray, np.ndarray]:\n",
    "    \"\"\"Compute SHAP values for an audio sample using GradientExplainer\"\"\"\n",
    "    logger.info(\"Computing SHAP values\")\n",
    "    # Process audio\n",
    "    inputs = processor(audio, sampling_rate=16000, return_tensors=\"pt\")\n",
    "    input_values = inputs.input_values.to(device)\n",
    "    \n",
    "    # Ensure input_values has the correct shape [batch_size, sequence_length]\n",
    "    if len(input_values.shape) == 3:\n",
    "        input_values = input_values.squeeze(1)\n",
    "    \n",
    "    # Create background samples with correct shape [batch_size, sequence_length]\n",
    "    num_background = 5\n",
    "    background = torch.zeros((num_background, input_values.shape[1]), device=device)\n",
    "    background += torch.randn_like(background) * 0.01  # Add small random noise\n",
    "    logger.info(f\"Created background samples with shape {background.shape}\")\n",
    "    logger.info(f\"Background mean: {torch.mean(background).item():.6f}\")\n",
    "    logger.info(f\"Background std: {torch.std(background).item():.6f}\")\n",
    "    \n",
    "    # Initialize GradientExplainer with the model only\n",
    "    explainer = shap.GradientExplainer(\n",
    "        wrapped_model,\n",
    "        background,\n",
    "        batch_size=1\n",
    "    )\n",
    "    \n",
    "    # Log model output before SHAP computation\n",
    "    with torch.no_grad():\n",
    "        model_output = wrapped_model(input_values)\n",
    "        logger.info(f\"Model output shape: {model_output.shape}\")\n",
    "        logger.info(f\"Model output mean: {torch.mean(model_output).item():.6f}\")\n",
    "        logger.info(f\"Model output std: {torch.std(model_output).item():.6f}\")\n",
    "        logger.info(f\"Model output sum: {torch.sum(model_output).item():.6f}\")\n",
    "    \n",
    "    # retrieve logits\n",
    "    logits = model(input_values).logits\n",
    "\n",
    "    # take argmax and decode\n",
    "    predicted_ids = torch.argmax(logits, dim=-1)\n",
    "    logger.info(f\"Predicted IDs: {predicted_ids}\")\n",
    "    transcription = processor.batch_decode(predicted_ids)\n",
    "    logger.info(f\"Transcription: {transcription}\")\n",
    "\n",
    "    output_string = ''.join([list(vocab.keys())[list(vocab.values()).index(id.item())] for id in predicted_ids[0]])\n",
    "    logger.info(f\"Decoded output string: {output_string}\")\n",
    "\n",
    "    # Get SHAP values\n",
    "    logger.info(\"Computing SHAP values with GradientExplainer\")\n",
    "    shap_values = explainer.shap_values(input_values)\n",
    "    logger.info(f\"Raw SHAP values type: {type(shap_values)}\")\n",
    "    \n",
    "    # Convert to numpy and process\n",
    "    # if isinstance(shap_values[0], torch.Tensor):\n",
    "    #     shap_values = [v.cpu().numpy() for v in shap_values]\n",
    "    \n",
    "    # Convert to numpy array and handle shapes\n",
    "    # shap_values = np.array(shap_values)  # Shape: (1, batch, seq_len)\n",
    "    logger.info(f\"SHAP values shape after conversion: {shap_values.shape}\")\n",
    "    \n",
    "    return shap_values"
   ]
  },
  {
   "cell_type": "code",
   "execution_count": 6,
   "id": "5a8f109f",
   "metadata": {},
   "outputs": [],
   "source": [
    "def compute_metrics(processor, device, wrapped_model, model, vocab, test_set: List[Dict]) -> Dict:\n",
    "    \"\"\"Compute evaluation metrics for the test set\"\"\"\n",
    "    logger.info(\"Computing metrics for test set\")\n",
    "    metrics = {\n",
    "        \"shap_noise_correlation\": [],\n",
    "        \"shap_confidence_correlation\": [],\n",
    "        \"wer_correlation\": []\n",
    "    }\n",
    "    \n",
    "    # Store SHAP values and other computed values for visualization\n",
    "    visualization_data = []\n",
    "    \n",
    "    for i, sample in enumerate(tqdm(test_set, desc=\"Computing metrics\")):\n",
    "        logger.info(f\"Processing sample {i+1}/{len(test_set)}\")\n",
    "        audio = sample[\"audio\"]\n",
    "        text = sample[\"text\"]\n",
    "        # Get model prediction and confidence\n",
    "        inputs = processor(audio, sampling_rate=16000, return_tensors=\"pt\")\n",
    "        input_values = inputs.input_values.to(device)\n",
    "        \n",
    "        with torch.no_grad():\n",
    "            logits = model(input_values).logits\n",
    "            probs = torch.softmax(logits, dim=-1)\n",
    "            confidence = torch.mean(torch.max(probs, dim=-1)[0]).item()\n",
    "        logger.info(f\"Model confidence: {confidence:.4f}\")\n",
    "        \n",
    "        # Compute SHAP values\n",
    "        shap_values = compute_shap_values(processor, device, wrapped_model, model, vocab, audio)\n",
    "        logger.info(f\"SHAP values shape: {shap_values.shape}\")\n",
    "        logger.info(f\"SHAP values range: [{np.min(shap_values):.4f}, {np.max(shap_values):.4f}]\")\n",
    "\n",
    "        np.save(f\"data/shap_values_sample_{i+1+8}_{sample['type']}_{sample['snr']}\",shap_values)\n",
    "        np.save(f\"data/audio_sample_{i+1+8}_{sample['type']}_{sample['snr']}\",sample[\"audio\"])\n",
    "        np.save(f\"data/noise_sample_{i+1+8}_{sample['type']}_{sample['snr']}\",sample[\"noise\"])\n",
    "        np.save(f\"data/text_sample_{i+1+8}_{sample['type']}_{sample['snr']}.npy\",text)"
   ]
  },
  {
   "cell_type": "code",
   "execution_count": 7,
   "id": "f489c480",
   "metadata": {},
   "outputs": [
    {
     "name": "stdout",
     "output_type": "stream",
     "text": [
      "2025-09-15 22:38:07,342 - INFO - Using device: cuda\n",
      "2025-09-15 22:38:07,343 - INFO - Loading model: facebook/wav2vec2-base-960h\n"
     ]
    },
    {
     "name": "stderr",
     "output_type": "stream",
     "text": [
      "Some weights of Wav2Vec2ForCTC were not initialized from the model checkpoint at facebook/wav2vec2-base-960h and are newly initialized: ['wav2vec2.masked_spec_embed']\n",
      "You should probably TRAIN this model on a down-stream task to be able to use it for predictions and inference.\n"
     ]
    },
    {
     "name": "stdout",
     "output_type": "stream",
     "text": [
      "2025-09-15 22:38:11,762 - INFO - Model loaded successfully\n",
      "2025-09-15 22:38:11,763 - INFO - Model wrapper created\n"
     ]
    }
   ],
   "source": [
    "\n",
    "device = torch.device('cuda' if torch.cuda.is_available() else 'cpu')\n",
    "logger.info(f\"Using device: {device}\")\n",
    "\n",
    "# Load model and processor\n",
    "logger.info(f\"Loading model: {model_name}\")\n",
    "processor = Wav2Vec2Processor.from_pretrained(model_name)\n",
    "model = Wav2Vec2ForCTC.from_pretrained(model_name)\n",
    "model = model.to(device)\n",
    "vocab = {\"<pad>\": 0, \"<s>\": 1, \"</s>\": 2, \"<unk>\": 3, \"|\": 4, \"E\": 5, \"T\": 6, \"A\": 7, \"O\": 8, \"N\": 9, \"I\": 10, \"H\": 11, \"S\": 12, \"R\": 13, \"D\": 14, \"L\": 15, \"U\": 16, \"M\": 17, \"W\": 18, \"C\": 19, \"F\": 20, \"G\": 21, \"Y\": 22, \"P\": 23, \"B\": 24, \"V\": 25, \"K\": 26, \"'\": 27, \"X\": 28, \"J\": 29, \"Q\": 30, \"Z\": 31}\n",
    "logger.info(\"Model loaded successfully\")\n",
    "\n",
    "# Create model wrapper for SHAP\n",
    "wrapped_model = _create_model_wrapper(model)\n",
    "logger.info(\"Model wrapper created\")"
   ]
  },
  {
   "cell_type": "code",
   "execution_count": 8,
   "id": "97d5cf56",
   "metadata": {},
   "outputs": [
    {
     "name": "stdout",
     "output_type": "stream",
     "text": [
      "2025-09-15 22:38:14,162 - INFO - Creating test set...\n",
      "2025-09-15 22:38:14,163 - INFO - Creating test set with 1 samples\n"
     ]
    },
    {
     "name": "stderr",
     "output_type": "stream",
     "text": [
      "Creating test samples:   0%|                                                                      | 0/1 [00:00<?, ?it/s]"
     ]
    },
    {
     "name": "stdout",
     "output_type": "stream",
     "text": [
      "2025-09-15 22:38:23,690 - INFO - Added clean sample 1\n"
     ]
    },
    {
     "name": "stderr",
     "output_type": "stream",
     "text": []
    },
    {
     "name": "stdout",
     "output_type": "stream",
     "text": [
      "2025-09-15 22:38:23,698 - INFO - Added noisy sample 1 with SNR 5dB\n",
      "2025-09-15 22:38:23,704 - INFO - Added noisy sample 1 with SNR 2dB\n",
      "2025-09-15 22:38:23,710 - INFO - Added noisy sample 1 with SNR 1dB\n"
     ]
    },
    {
     "name": "stderr",
     "output_type": "stream",
     "text": [
      "Creating test samples: 100%|██████████████████████████████████████████████████████████████| 1/1 [00:01<00:00,  1.20s/it]"
     ]
    },
    {
     "name": "stdout",
     "output_type": "stream",
     "text": [
      "2025-09-15 22:38:23,713 - INFO - Test set created with 4 total samples\n",
      "2025-09-15 22:38:23,714 - INFO - [{'type': 'clean', 'audio': array([-0.00039673, -0.00064087,  0.00296021, ...,  0.00305176,\n",
      "       -0.00045776, -0.00085449]), 'text': 'I HAVE REMAINED A PRISONER ONLY BECAUSE I WISHED TO BE ONE AND WITH THIS HE STEPPED FORWARD AND BURST THE STOUT CHAINS AS EASILY AS IF THEY HAD BEEN THREADS', 'snr': inf, 'noise': array([0., 0., 0., ..., 0., 0., 0.])}, {'type': 'noisy', 'audio': array([0.02037643, 0.010542  , 0.00720467, ..., 0.00316433, 0.03490779,\n",
      "       0.0047002 ]), 'text': 'I HAVE REMAINED A PRISONER ONLY BECAUSE I WISHED TO BE ONE AND WITH THIS HE STEPPED FORWARD AND BURST THE STOUT CHAINS AS EASILY AS IF THEY HAD BEEN THREADS', 'snr': 5, 'noise': array([0.02077316, 0.01118287, 0.00424446, ..., 0.00011257, 0.03536556,\n",
      "       0.0055547 ])}, {'type': 'noisy', 'audio': array([ 0.01691775,  0.03277654, -0.09975552, ..., -0.04221251,\n",
      "        0.03097612,  0.00542498]), 'text': 'I HAVE REMAINED A PRISONER ONLY BECAUSE I WISHED TO BE ONE AND WITH THIS HE STEPPED FORWARD AND BURST THE STOUT CHAINS AS EASILY AS IF THEY HAD BEEN THREADS', 'snr': 2, 'noise': array([ 0.01731448,  0.03341741, -0.10271573, ..., -0.04526427,\n",
      "        0.03143389,  0.00627947])}, {'type': 'noisy', 'audio': array([-0.02479933, -0.01922167, -0.05371448, ..., -0.00964257,\n",
      "        0.10529768,  0.0676158 ]), 'text': 'I HAVE REMAINED A PRISONER ONLY BECAUSE I WISHED TO BE ONE AND WITH THIS HE STEPPED FORWARD AND BURST THE STOUT CHAINS AS EASILY AS IF THEY HAD BEEN THREADS', 'snr': 1, 'noise': array([-0.0244026 , -0.0185808 , -0.05667468, ..., -0.01269433,\n",
      "        0.10575545,  0.06847029])}]\n"
     ]
    },
    {
     "name": "stderr",
     "output_type": "stream",
     "text": [
      "\n"
     ]
    }
   ],
   "source": [
    "# Initialize evaluator\n",
    "\n",
    "\n",
    "# Create test set\n",
    "logger.info(\"Creating test set...\")\n",
    "test_set = create_test_set(num_samples=1)\n",
    "logger.info(test_set)"
   ]
  },
  {
   "cell_type": "code",
   "execution_count": 19,
   "id": "cc2be844",
   "metadata": {},
   "outputs": [
    {
     "name": "stdout",
     "output_type": "stream",
     "text": [
      "44\n"
     ]
    }
   ],
   "source": [
    "print(len(test_set))\n",
    "sample = test_set[0]\n",
    "np.save(f\"data/audio_sample_{0}_{sample['type']}_{sample['snr']}\",sample[\"audio\"])\n",
    "audio = np.load(\"data/audio_sample_0_clean_inf.npy\")\n",
    "sf.write(\"data/test_audio.wav\",audio, 16000)"
   ]
  },
  {
   "cell_type": "code",
   "execution_count": 9,
   "id": "37e80624",
   "metadata": {},
   "outputs": [
    {
     "name": "stdout",
     "output_type": "stream",
     "text": [
      "2025-09-15 22:38:30,842 - INFO - Computing metrics...\n",
      "2025-09-15 22:38:30,843 - INFO - Computing metrics for test set\n"
     ]
    },
    {
     "name": "stderr",
     "output_type": "stream",
     "text": [
      "Computing metrics:   0%|                                                                          | 0/4 [00:00<?, ?it/s]"
     ]
    },
    {
     "name": "stdout",
     "output_type": "stream",
     "text": [
      "2025-09-15 22:38:30,845 - INFO - Processing sample 1/4\n",
      "2025-09-15 22:38:31,338 - INFO - Model confidence: 0.9759\n",
      "2025-09-15 22:38:31,339 - INFO - Computing SHAP values\n",
      "2025-09-15 22:38:31,371 - INFO - Created background samples with shape torch.Size([5, 183600])\n",
      "2025-09-15 22:38:31,372 - INFO - Background mean: -0.000007\n",
      "2025-09-15 22:38:31,373 - INFO - Background std: 0.010000\n",
      "2025-09-15 22:38:31,748 - INFO - Model output shape: torch.Size([1, 573])\n",
      "2025-09-15 22:38:31,749 - INFO - Model output mean: 14.526364\n",
      "2025-09-15 22:38:31,750 - INFO - Model output std: 1.641433\n",
      "2025-09-15 22:38:31,766 - INFO - Model output sum: 8323.606445\n",
      "2025-09-15 22:38:31,802 - INFO - Predicted IDs: tensor([[ 0,  0,  0,  0,  0,  0,  0,  0,  0,  0,  0,  0,  0,  0,  0,  0,  0,  0,\n",
      "          0,  0,  0,  0, 10,  0,  0,  4,  4, 11, 11,  0,  0,  7, 25,  0,  5,  4,\n",
      "          4,  4, 13, 13,  0,  0,  5,  0,  0, 17,  0,  0,  0,  7,  7, 10,  0,  9,\n",
      "          9,  0,  5,  5, 14, 14,  4,  4,  4,  0,  0,  7,  0,  4,  4, 23,  0, 13,\n",
      "         13,  0, 10, 10,  0, 12, 12,  0,  0,  8,  8,  9,  9,  0,  0,  5, 13, 13,\n",
      "          0,  4,  4,  4,  4,  0,  0,  0,  0,  0,  0,  0,  8,  9,  9,  0,  0,  0,\n",
      "         15, 15,  0,  0, 22,  4,  4,  4,  0, 24,  0,  5,  5,  0, 19,  0,  0,  0,\n",
      "          0,  7,  7, 16, 16,  0, 12,  0,  5,  5,  0,  4,  4,  4,  0,  0,  0,  0,\n",
      "          0,  0,  0, 10,  0,  0,  4,  4,  4,  4,  0,  0,  0, 18,  0,  0,  0,  0,\n",
      "         10, 12, 12, 11, 11, 11,  0,  5,  0, 14,  0,  4,  4,  0,  0,  0,  6,  0,\n",
      "          0,  8,  4,  4,  0, 24,  0,  0,  0,  0,  0,  5,  0,  0,  0,  4,  4,  4,\n",
      "          4,  4,  4,  0,  0,  0,  0,  0,  0,  0,  0,  0,  8,  0,  9,  9,  0,  5,\n",
      "          0,  4,  4,  4,  4,  4,  4,  0,  0,  0,  0,  0,  0,  0,  0,  0,  0,  0,\n",
      "          0,  0,  0,  0,  0,  0,  0,  0,  0,  0,  0,  0,  0,  0,  0,  0,  0,  0,\n",
      "          0,  0,  0,  0,  0,  0,  0,  0,  0,  0,  0,  0,  0,  0,  0,  0,  0,  0,\n",
      "          0,  0,  0,  0,  0,  0,  0,  0,  0,  0,  0,  0,  0,  0,  0,  0,  0,  0,\n",
      "          0,  7,  9,  0, 14,  0,  4,  0, 18,  0, 10,  6,  0, 11,  4,  4,  4,  6,\n",
      "          6, 11, 11,  0,  0,  0, 10,  0,  0, 12,  0,  4,  4,  4,  4,  0, 11, 11,\n",
      "          0,  5,  0,  4,  4, 12, 12,  6,  6,  0,  5, 23,  0,  0, 23,  0,  5, 14,\n",
      "          0,  4,  0, 20,  0,  0,  0,  0,  8, 13, 13,  0, 18, 18,  0,  7, 13,  0,\n",
      "         14,  0,  4,  4,  0,  7,  9, 14, 14,  4,  4,  0,  0,  0,  0,  0,  0,  0,\n",
      "          0, 24, 24,  0,  0,  0, 16,  0, 13,  0, 12, 12,  0,  6,  6,  0,  0,  4,\n",
      "          4,  4,  0,  6, 11,  0,  5,  0,  4, 12, 12,  0,  6,  0,  0,  0,  8, 16,\n",
      "         16,  0,  0,  6,  0,  0,  4,  4,  0,  0,  0, 19, 11, 11,  0,  0,  0,  0,\n",
      "          7,  7, 10,  0,  9,  9,  0,  0, 12, 12,  4,  4,  4,  0,  0,  7,  0, 12,\n",
      "          0,  4,  4,  0,  0,  0,  0,  0,  0,  0,  5,  5,  7,  0,  0, 12,  0,  0,\n",
      "         10,  0, 15, 15,  0,  0, 22,  0,  4,  4,  4,  4,  0,  7, 12, 12,  0,  4,\n",
      "          4,  0,  0,  0, 10, 20,  0,  4,  4,  6, 11,  5,  0, 22,  0,  4, 11, 11,\n",
      "          7, 14, 14,  4,  4, 24,  0,  5,  0,  0,  5,  5,  9,  4,  4,  4,  4,  4,\n",
      "          0,  6, 11,  0, 13, 13,  0,  0,  0,  0,  5,  7,  0,  0, 14,  0,  0,  0,\n",
      "         12,  0,  4,  4,  0,  0,  0,  0,  0,  0,  0,  0,  0,  0,  0,  0,  0,  0,\n",
      "          0,  0,  0,  0,  0,  0,  0,  0,  0,  0,  0,  0,  0,  0,  0]],\n",
      "       device='cuda:0')\n",
      "2025-09-15 22:38:31,804 - INFO - Transcription: ['I HAVE REMAINED A PRISONER ONLY BECAUSE I WISHED TO BE ONE AND WITH THIS HE STEPPED FORWARD AND BURST THE STOUT CHAINS AS EASILY AS IF THEY HAD BEEN THREADS']\n",
      "2025-09-15 22:38:31,821 - INFO - Decoded output string: <pad><pad><pad><pad><pad><pad><pad><pad><pad><pad><pad><pad><pad><pad><pad><pad><pad><pad><pad><pad><pad><pad>I<pad><pad>||HH<pad><pad>AV<pad>E|||RR<pad><pad>E<pad><pad>M<pad><pad><pad>AAI<pad>NN<pad>EEDD|||<pad><pad>A<pad>||P<pad>RR<pad>II<pad>SS<pad><pad>OONN<pad><pad>ERR<pad>||||<pad><pad><pad><pad><pad><pad><pad>ONN<pad><pad><pad>LL<pad><pad>Y|||<pad>B<pad>EE<pad>C<pad><pad><pad><pad>AAUU<pad>S<pad>EE<pad>|||<pad><pad><pad><pad><pad><pad><pad>I<pad><pad>||||<pad><pad><pad>W<pad><pad><pad><pad>ISSHHH<pad>E<pad>D<pad>||<pad><pad><pad>T<pad><pad>O||<pad>B<pad><pad><pad><pad><pad>E<pad><pad><pad>||||||<pad><pad><pad><pad><pad><pad><pad><pad><pad>O<pad>NN<pad>E<pad>||||||<pad><pad><pad><pad><pad><pad><pad><pad><pad><pad><pad><pad><pad><pad><pad><pad><pad><pad><pad><pad><pad><pad><pad><pad><pad><pad><pad><pad><pad><pad><pad><pad><pad><pad><pad><pad><pad><pad><pad><pad><pad><pad><pad><pad><pad><pad><pad><pad><pad><pad><pad><pad><pad><pad><pad><pad><pad><pad><pad><pad><pad><pad><pad><pad><pad><pad>AN<pad>D<pad>|<pad>W<pad>IT<pad>H|||TTHH<pad><pad><pad>I<pad><pad>S<pad>||||<pad>HH<pad>E<pad>||SSTT<pad>EP<pad><pad>P<pad>ED<pad>|<pad>F<pad><pad><pad><pad>ORR<pad>WW<pad>AR<pad>D<pad>||<pad>ANDD||<pad><pad><pad><pad><pad><pad><pad><pad>BB<pad><pad><pad>U<pad>R<pad>SS<pad>TT<pad><pad>|||<pad>TH<pad>E<pad>|SS<pad>T<pad><pad><pad>OUU<pad><pad>T<pad><pad>||<pad><pad><pad>CHH<pad><pad><pad><pad>AAI<pad>NN<pad><pad>SS|||<pad><pad>A<pad>S<pad>||<pad><pad><pad><pad><pad><pad><pad>EEA<pad><pad>S<pad><pad>I<pad>LL<pad><pad>Y<pad>||||<pad>ASS<pad>||<pad><pad><pad>IF<pad>||THE<pad>Y<pad>|HHADD||B<pad>E<pad><pad>EEN|||||<pad>TH<pad>RR<pad><pad><pad><pad>EA<pad><pad>D<pad><pad><pad>S<pad>||<pad><pad><pad><pad><pad><pad><pad><pad><pad><pad><pad><pad><pad><pad><pad><pad><pad><pad><pad><pad><pad><pad><pad><pad><pad><pad><pad><pad><pad>\n",
      "2025-09-15 22:38:31,822 - INFO - Computing SHAP values with GradientExplainer\n",
      "2025-09-16 00:11:36,467 - INFO - Raw SHAP values type: <class 'numpy.ndarray'>\n",
      "2025-09-16 00:11:36,469 - INFO - SHAP values shape after conversion: (1, 183600, 573)\n",
      "2025-09-16 00:11:36,471 - INFO - SHAP values shape: (1, 183600, 573)\n",
      "2025-09-16 00:11:36,511 - INFO - SHAP values range: [-58.3398, 72.4285]\n"
     ]
    },
    {
     "name": "stderr",
     "output_type": "stream",
     "text": [
      "Computing metrics:  25%|███████████████                                             | 1/4 [1:33:06<4:39:18, 5586.16s/it]"
     ]
    },
    {
     "name": "stdout",
     "output_type": "stream",
     "text": [
      "2025-09-16 00:11:37,006 - INFO - Processing sample 2/4\n",
      "2025-09-16 00:11:37,043 - INFO - Model confidence: 0.8287\n",
      "2025-09-16 00:11:37,045 - INFO - Computing SHAP values\n",
      "2025-09-16 00:11:37,047 - INFO - Created background samples with shape torch.Size([5, 183600])\n",
      "2025-09-16 00:11:37,048 - INFO - Background mean: -0.000002\n",
      "2025-09-16 00:11:37,050 - INFO - Background std: 0.009996\n",
      "2025-09-16 00:11:37,318 - INFO - Model output shape: torch.Size([1, 573])\n",
      "2025-09-16 00:11:37,319 - INFO - Model output mean: 8.384657\n",
      "2025-09-16 00:11:37,320 - INFO - Model output std: 3.015109\n",
      "2025-09-16 00:11:37,321 - INFO - Model output sum: 4804.408203\n",
      "2025-09-16 00:11:37,368 - INFO - Predicted IDs: tensor([[ 0,  0,  0,  0,  0,  0,  0,  0,  0,  0,  0,  0,  0,  0,  0,  0,  0,  0,\n",
      "          0,  0,  0,  0, 10,  0,  0,  4,  0, 11, 11,  0,  7,  0, 25,  5,  0,  4,\n",
      "          4,  0, 13,  0,  0,  0,  5,  0,  0,  0, 17,  0,  0,  7, 10,  0,  0,  0,\n",
      "          9,  0,  5,  5, 14,  4,  4,  0,  0,  0,  7,  6,  0,  4,  4,  0,  0,  0,\n",
      "          0,  5,  0,  0,  0,  0,  0,  0,  4,  0,  0,  0, 17,  0,  0,  0, 22,  0,\n",
      "          0,  0,  0,  0,  4,  4,  0,  0,  0,  0,  0,  0,  0,  0,  8,  9,  0,  0,\n",
      "          0,  0,  0,  0,  5,  0,  0,  4,  6,  0,  0,  5,  0,  0,  4,  4,  0,  0,\n",
      "          0,  0,  0, 10,  0,  0,  0,  0,  0,  4,  4,  0,  0,  0,  0,  0,  0,  0,\n",
      "          0,  0, 10,  0,  0,  0,  0,  0,  0,  4,  4,  4,  0, 18,  0,  0,  0,  0,\n",
      "         10,  0,  0,  6, 11,  0,  0,  4,  0,  0,  0,  0,  0,  0,  0,  0,  0,  8,\n",
      "          0,  0,  0,  4, 24, 24,  0, 10,  0,  0,  0,  0,  0,  0,  0,  5,  0,  0,\n",
      "          0,  4,  4,  0,  0,  0,  0,  0,  0,  0,  0,  0,  0,  8,  0,  9,  0,  0,\n",
      "          5,  0,  0,  4,  4,  4,  4,  4,  0,  0,  0,  0,  0,  0,  0,  0,  0,  0,\n",
      "          0,  0,  0,  0,  0,  0,  0,  0,  0,  0,  0,  0,  0,  0,  0,  0,  0,  0,\n",
      "          0,  0,  0,  0,  0,  0,  0,  0,  0,  0,  0,  0,  0,  0,  0,  0,  0,  0,\n",
      "          0,  0,  0,  0,  0,  0,  0,  0,  0,  0,  0,  0,  0,  0,  0,  0,  0,  0,\n",
      "          0,  0,  7,  9,  0,  0,  0,  4,  6,  0,  0,  5,  0,  0,  4,  0,  6,  0,\n",
      "          0,  0,  0,  5,  0,  0, 13,  0,  0,  0, 12,  0,  0,  0,  4,  0,  0,  0,\n",
      "          0, 10,  0,  0,  0,  0,  4,  0,  0,  6,  0,  0,  7,  6,  0,  0,  4,  0,\n",
      "          0,  0,  0, 20,  0,  0,  0,  0,  8, 15,  0,  0,  0, 15,  0,  7, 13,  0,\n",
      "          0, 14,  4,  0,  0,  7,  9, 14,  0,  0,  0,  4,  4,  4,  0,  0,  0,  0,\n",
      "          0, 20, 24,  0,  0,  0, 10, 13,  0,  0,  6,  0,  0,  0,  0,  4,  0,  0,\n",
      "          0,  0,  0,  0,  0,  5,  0,  0,  0,  0,  4,  0,  0,  6, 11,  0,  7,  0,\n",
      "          0,  6,  0,  0,  4,  0,  0,  0,  0,  0,  0,  6,  0,  0,  0,  0,  0,  5,\n",
      "          0,  0,  0,  0,  0,  0,  0,  0,  0,  0,  4,  0,  6,  0,  0,  7,  0,  0,\n",
      "          0,  4,  0,  0,  0,  0,  0,  0,  0,  0,  0,  8,  0,  0,  0,  0, 12,  0,\n",
      "          0,  0,  0,  0,  0,  0, 22,  0,  0,  4,  0,  0,  7,  0, 12,  0,  0,  4,\n",
      "          4,  6,  0,  0,  7,  0,  0,  4,  4,  6,  0,  0,  0,  0,  5,  0,  0,  0,\n",
      "          0,  0,  0,  4,  4, 24,  0,  5,  0,  0,  5,  0,  9,  0,  0,  0,  4,  4,\n",
      "          0,  0, 24,  0,  0,  0,  0,  0,  0,  5,  0,  0,  0,  0, 14,  0,  4,  4,\n",
      "          4,  0,  0,  0,  0,  0,  0,  0,  0,  0,  0,  0,  0,  0,  0,  0,  0,  0,\n",
      "          0,  0,  0,  0,  0,  0,  0,  0,  0,  0,  0,  0,  0,  0,  0]],\n",
      "       device='cuda:0')\n",
      "2025-09-16 00:11:37,369 - INFO - Transcription: ['I HAVE REMAINED AT E MY ONE TE I I WITH O BIE ONE AN TE TERS I TAT FOLLARD AND FBIRT E THAT TE TA OSY AS TA TE BEEN BED']\n",
      "2025-09-16 00:11:37,385 - INFO - Decoded output string: <pad><pad><pad><pad><pad><pad><pad><pad><pad><pad><pad><pad><pad><pad><pad><pad><pad><pad><pad><pad><pad><pad>I<pad><pad>|<pad>HH<pad>A<pad>VE<pad>||<pad>R<pad><pad><pad>E<pad><pad><pad>M<pad><pad>AI<pad><pad><pad>N<pad>EED||<pad><pad><pad>AT<pad>||<pad><pad><pad><pad>E<pad><pad><pad><pad><pad><pad>|<pad><pad><pad>M<pad><pad><pad>Y<pad><pad><pad><pad><pad>||<pad><pad><pad><pad><pad><pad><pad><pad>ON<pad><pad><pad><pad><pad><pad>E<pad><pad>|T<pad><pad>E<pad><pad>||<pad><pad><pad><pad><pad>I<pad><pad><pad><pad><pad>||<pad><pad><pad><pad><pad><pad><pad><pad><pad>I<pad><pad><pad><pad><pad><pad>|||<pad>W<pad><pad><pad><pad>I<pad><pad>TH<pad><pad>|<pad><pad><pad><pad><pad><pad><pad><pad><pad>O<pad><pad><pad>|BB<pad>I<pad><pad><pad><pad><pad><pad><pad>E<pad><pad><pad>||<pad><pad><pad><pad><pad><pad><pad><pad><pad><pad>O<pad>N<pad><pad>E<pad><pad>|||||<pad><pad><pad><pad><pad><pad><pad><pad><pad><pad><pad><pad><pad><pad><pad><pad><pad><pad><pad><pad><pad><pad><pad><pad><pad><pad><pad><pad><pad><pad><pad><pad><pad><pad><pad><pad><pad><pad><pad><pad><pad><pad><pad><pad><pad><pad><pad><pad><pad><pad><pad><pad><pad><pad><pad><pad><pad><pad><pad><pad><pad><pad><pad><pad><pad><pad>AN<pad><pad><pad>|T<pad><pad>E<pad><pad>|<pad>T<pad><pad><pad><pad>E<pad><pad>R<pad><pad><pad>S<pad><pad><pad>|<pad><pad><pad><pad>I<pad><pad><pad><pad>|<pad><pad>T<pad><pad>AT<pad><pad>|<pad><pad><pad><pad>F<pad><pad><pad><pad>OL<pad><pad><pad>L<pad>AR<pad><pad>D|<pad><pad>AND<pad><pad><pad>|||<pad><pad><pad><pad><pad>FB<pad><pad><pad>IR<pad><pad>T<pad><pad><pad><pad>|<pad><pad><pad><pad><pad><pad><pad>E<pad><pad><pad><pad>|<pad><pad>TH<pad>A<pad><pad>T<pad><pad>|<pad><pad><pad><pad><pad><pad>T<pad><pad><pad><pad><pad>E<pad><pad><pad><pad><pad><pad><pad><pad><pad><pad>|<pad>T<pad><pad>A<pad><pad><pad>|<pad><pad><pad><pad><pad><pad><pad><pad><pad>O<pad><pad><pad><pad>S<pad><pad><pad><pad><pad><pad><pad>Y<pad><pad>|<pad><pad>A<pad>S<pad><pad>||T<pad><pad>A<pad><pad>||T<pad><pad><pad><pad>E<pad><pad><pad><pad><pad><pad>||B<pad>E<pad><pad>E<pad>N<pad><pad><pad>||<pad><pad>B<pad><pad><pad><pad><pad><pad>E<pad><pad><pad><pad>D<pad>|||<pad><pad><pad><pad><pad><pad><pad><pad><pad><pad><pad><pad><pad><pad><pad><pad><pad><pad><pad><pad><pad><pad><pad><pad><pad><pad><pad><pad><pad><pad><pad><pad>\n",
      "2025-09-16 00:11:37,386 - INFO - Computing SHAP values with GradientExplainer\n",
      "2025-09-16 02:40:10,088 - INFO - Raw SHAP values type: <class 'numpy.ndarray'>\n",
      "2025-09-16 02:40:10,089 - INFO - SHAP values shape after conversion: (1, 183600, 573)\n",
      "2025-09-16 02:40:10,093 - INFO - SHAP values shape: (1, 183600, 573)\n",
      "2025-09-16 02:40:10,136 - INFO - SHAP values range: [-15.2310, 14.9791]\n"
     ]
    },
    {
     "name": "stderr",
     "output_type": "stream",
     "text": [
      "Computing metrics:  50%|██████████████████████████████                              | 2/4 [4:01:39<4:11:26, 7543.46s/it]"
     ]
    },
    {
     "name": "stdout",
     "output_type": "stream",
     "text": [
      "2025-09-16 02:40:10,584 - INFO - Processing sample 3/4\n",
      "2025-09-16 02:40:10,617 - INFO - Model confidence: 0.8386\n",
      "2025-09-16 02:40:10,618 - INFO - Computing SHAP values\n",
      "2025-09-16 02:40:10,620 - INFO - Created background samples with shape torch.Size([5, 183600])\n",
      "2025-09-16 02:40:10,621 - INFO - Background mean: -0.000002\n",
      "2025-09-16 02:40:10,622 - INFO - Background std: 0.009996\n",
      "2025-09-16 02:40:10,789 - INFO - Model output shape: torch.Size([1, 573])\n",
      "2025-09-16 02:40:10,790 - INFO - Model output mean: 7.901667\n",
      "2025-09-16 02:40:10,791 - INFO - Model output std: 2.484672\n",
      "2025-09-16 02:40:10,792 - INFO - Model output sum: 4527.655273\n",
      "2025-09-16 02:40:10,841 - INFO - Predicted IDs: tensor([[ 0,  0,  0,  0,  0,  0,  0,  0,  0,  0,  0,  0,  0,  0,  0,  0,  0,  0,\n",
      "          0,  0,  0,  0, 10,  0,  0,  4,  4,  0, 11,  0,  7,  0, 25,  5,  0,  4,\n",
      "          4,  0, 13,  0,  0,  5,  0,  0,  0, 17,  0,  0,  7,  0,  0,  0,  0,  0,\n",
      "          9,  0,  0,  0,  0,  4,  4,  0,  0,  0,  5,  0,  0,  4,  0,  0,  0,  0,\n",
      "          0,  0,  0,  0,  0,  0,  0,  4,  0,  0,  0,  0,  0,  0,  0,  0,  0,  0,\n",
      "          0,  0,  0,  0,  0,  4,  4,  0,  0,  0,  0,  0,  0,  0,  0,  0,  0,  0,\n",
      "          0,  0,  0,  0,  0,  0,  0,  0,  0,  0,  0,  0,  0,  0,  0,  0,  0,  0,\n",
      "          0,  0,  0, 10,  0,  0,  0,  0,  0,  4,  0,  0, 24,  0,  0,  0,  0,  0,\n",
      "          0,  0, 10,  0,  0,  0,  0,  0,  0,  0,  4,  4,  0,  0,  0,  0,  0,  0,\n",
      "          0,  5,  0,  0,  0,  4,  0,  0,  0,  0,  0,  0,  0,  0,  0,  0,  0,  0,\n",
      "          0,  0,  0,  0,  0,  0,  0,  0,  0,  0,  0,  0,  0,  0,  0,  0,  0,  0,\n",
      "          0,  0,  0,  0,  0,  0,  0,  0,  0,  0,  0,  0,  0, 10,  0,  0,  0,  0,\n",
      "          4,  4,  0,  0,  0,  0,  0,  0,  0,  0,  0,  0,  0,  0,  0,  0,  0,  0,\n",
      "          0,  0,  0,  0,  0,  0,  0,  0,  0,  0,  0,  0,  0,  0,  0,  0,  0,  0,\n",
      "          0,  0,  0,  0,  0,  0,  0,  0,  0,  0,  0,  0,  0,  0,  0,  0,  0,  0,\n",
      "          0,  0,  0,  0,  0,  0,  0,  0,  0,  0,  0,  0,  0,  0,  0,  0,  0,  0,\n",
      "          0,  0,  7,  9,  0,  0,  0,  0,  0,  0,  5,  0,  0,  0,  4,  0,  0,  0,\n",
      "          0,  0,  0,  0,  5,  0,  0,  0,  0, 14,  0,  0,  0,  4,  0,  0,  0,  0,\n",
      "          0,  5,  0,  0,  0,  0,  0,  0,  0,  6,  0,  0,  5,  0,  0,  0,  0,  0,\n",
      "          0,  0,  0,  0,  0,  0,  0,  0,  0,  0,  8,  0,  0,  0,  0,  0,  0,  0,\n",
      "          0,  4,  0,  0,  0,  0,  0,  0,  0,  0,  0,  0,  0,  0,  0,  0,  0,  0,\n",
      "          0,  0,  0,  0,  0,  0,  0, 10,  0,  0,  0,  0,  0,  4,  0,  0,  0,  0,\n",
      "          0,  0,  0,  0,  0,  0,  0,  0,  0,  0,  0,  0,  0,  0,  0,  0,  0,  5,\n",
      "          0,  0,  0,  0,  0,  0,  0,  0,  0,  0,  0,  0,  0,  0,  0,  0,  0,  0,\n",
      "          0,  0,  0,  0,  0,  0,  0,  0,  0,  0,  4,  0,  0,  0,  0,  5,  0,  0,\n",
      "          0,  0,  0,  0,  0,  0,  0,  0,  0,  0,  0,  5,  0,  0,  0,  0,  0,  0,\n",
      "          0,  0,  0,  5,  0,  0,  0,  0,  0,  0,  0,  0, 13,  0,  0,  0,  0,  4,\n",
      "          0,  0,  0,  0,  5,  0,  0,  4,  0,  0,  0,  0,  0,  5,  0,  0,  0,  0,\n",
      "          0,  0,  0,  4,  0,  0,  0,  0,  0,  5,  0,  0,  0,  0,  0,  0,  0,  4,\n",
      "          4,  0, 24,  0,  0, 13,  0,  0,  0,  5,  7,  0,  0,  0, 14,  0,  4,  4,\n",
      "          0,  0,  0,  0,  0,  0,  0,  0,  0,  0,  0,  0,  0,  0,  0,  0,  0,  0,\n",
      "          0,  0,  0,  0,  0,  0,  0,  0,  0,  0,  0,  0,  0,  0,  0]],\n",
      "       device='cuda:0')\n",
      "2025-09-16 02:40:10,843 - INFO - Transcription: ['I HAVE REMAN E   I BI E I ANE ED ETEO I E EEER E E E BREAD']\n",
      "2025-09-16 02:40:10,867 - INFO - Decoded output string: <pad><pad><pad><pad><pad><pad><pad><pad><pad><pad><pad><pad><pad><pad><pad><pad><pad><pad><pad><pad><pad><pad>I<pad><pad>||<pad>H<pad>A<pad>VE<pad>||<pad>R<pad><pad>E<pad><pad><pad>M<pad><pad>A<pad><pad><pad><pad><pad>N<pad><pad><pad><pad>||<pad><pad><pad>E<pad><pad>|<pad><pad><pad><pad><pad><pad><pad><pad><pad><pad><pad>|<pad><pad><pad><pad><pad><pad><pad><pad><pad><pad><pad><pad><pad><pad><pad>||<pad><pad><pad><pad><pad><pad><pad><pad><pad><pad><pad><pad><pad><pad><pad><pad><pad><pad><pad><pad><pad><pad><pad><pad><pad><pad><pad><pad><pad><pad><pad><pad>I<pad><pad><pad><pad><pad>|<pad><pad>B<pad><pad><pad><pad><pad><pad><pad>I<pad><pad><pad><pad><pad><pad><pad>||<pad><pad><pad><pad><pad><pad><pad>E<pad><pad><pad>|<pad><pad><pad><pad><pad><pad><pad><pad><pad><pad><pad><pad><pad><pad><pad><pad><pad><pad><pad><pad><pad><pad><pad><pad><pad><pad><pad><pad><pad><pad><pad><pad><pad><pad><pad><pad><pad><pad><pad><pad><pad><pad><pad>I<pad><pad><pad><pad>||<pad><pad><pad><pad><pad><pad><pad><pad><pad><pad><pad><pad><pad><pad><pad><pad><pad><pad><pad><pad><pad><pad><pad><pad><pad><pad><pad><pad><pad><pad><pad><pad><pad><pad><pad><pad><pad><pad><pad><pad><pad><pad><pad><pad><pad><pad><pad><pad><pad><pad><pad><pad><pad><pad><pad><pad><pad><pad><pad><pad><pad><pad><pad><pad><pad><pad><pad><pad><pad><pad><pad><pad>AN<pad><pad><pad><pad><pad><pad>E<pad><pad><pad>|<pad><pad><pad><pad><pad><pad><pad>E<pad><pad><pad><pad>D<pad><pad><pad>|<pad><pad><pad><pad><pad>E<pad><pad><pad><pad><pad><pad><pad>T<pad><pad>E<pad><pad><pad><pad><pad><pad><pad><pad><pad><pad><pad><pad><pad><pad><pad>O<pad><pad><pad><pad><pad><pad><pad><pad>|<pad><pad><pad><pad><pad><pad><pad><pad><pad><pad><pad><pad><pad><pad><pad><pad><pad><pad><pad><pad><pad><pad><pad>I<pad><pad><pad><pad><pad>|<pad><pad><pad><pad><pad><pad><pad><pad><pad><pad><pad><pad><pad><pad><pad><pad><pad><pad><pad><pad><pad>E<pad><pad><pad><pad><pad><pad><pad><pad><pad><pad><pad><pad><pad><pad><pad><pad><pad><pad><pad><pad><pad><pad><pad><pad><pad><pad><pad><pad>|<pad><pad><pad><pad>E<pad><pad><pad><pad><pad><pad><pad><pad><pad><pad><pad><pad><pad>E<pad><pad><pad><pad><pad><pad><pad><pad><pad>E<pad><pad><pad><pad><pad><pad><pad><pad>R<pad><pad><pad><pad>|<pad><pad><pad><pad>E<pad><pad>|<pad><pad><pad><pad><pad>E<pad><pad><pad><pad><pad><pad><pad>|<pad><pad><pad><pad><pad>E<pad><pad><pad><pad><pad><pad><pad>||<pad>B<pad><pad>R<pad><pad><pad>EA<pad><pad><pad>D<pad>||<pad><pad><pad><pad><pad><pad><pad><pad><pad><pad><pad><pad><pad><pad><pad><pad><pad><pad><pad><pad><pad><pad><pad><pad><pad><pad><pad><pad><pad><pad><pad><pad><pad>\n",
      "2025-09-16 02:40:10,868 - INFO - Computing SHAP values with GradientExplainer\n",
      "2025-09-16 05:10:44,788 - INFO - Raw SHAP values type: <class 'numpy.ndarray'>\n",
      "2025-09-16 05:10:44,789 - INFO - SHAP values shape after conversion: (1, 183600, 573)\n",
      "2025-09-16 05:10:44,796 - INFO - SHAP values shape: (1, 183600, 573)\n",
      "2025-09-16 05:10:44,839 - INFO - SHAP values range: [-43.4302, 46.2931]\n"
     ]
    },
    {
     "name": "stderr",
     "output_type": "stream",
     "text": [
      "Computing metrics:  75%|█████████████████████████████████████████████               | 3/4 [6:32:14<2:17:04, 8224.39s/it]"
     ]
    },
    {
     "name": "stdout",
     "output_type": "stream",
     "text": [
      "2025-09-16 05:10:45,282 - INFO - Processing sample 4/4\n",
      "2025-09-16 05:10:45,316 - INFO - Model confidence: 0.8459\n",
      "2025-09-16 05:10:45,317 - INFO - Computing SHAP values\n",
      "2025-09-16 05:10:45,319 - INFO - Created background samples with shape torch.Size([5, 183600])\n",
      "2025-09-16 05:10:45,320 - INFO - Background mean: -0.000004\n",
      "2025-09-16 05:10:45,322 - INFO - Background std: 0.010008\n",
      "2025-09-16 05:10:45,524 - INFO - Model output shape: torch.Size([1, 573])\n",
      "2025-09-16 05:10:45,525 - INFO - Model output mean: 7.786644\n",
      "2025-09-16 05:10:45,526 - INFO - Model output std: 2.288420\n",
      "2025-09-16 05:10:45,527 - INFO - Model output sum: 4461.746582\n",
      "2025-09-16 05:10:45,587 - INFO - Predicted IDs: tensor([[ 0,  0,  0,  0,  0,  0,  0,  0,  0,  0,  0,  0,  0,  0,  0,  0,  0,  0,\n",
      "          0,  0,  0,  0, 10,  0,  0,  4,  4,  0, 11,  0,  7, 25,  0,  0,  4,  4,\n",
      "          0,  6, 11,  0,  7, 25,  0,  0,  4,  0,  0,  0,  0,  0,  0,  5,  0,  0,\n",
      "          0,  0,  0,  0,  0,  4,  0,  0,  0,  0,  5,  0,  0,  4,  0,  0,  0,  0,\n",
      "          0,  5,  0,  0,  0,  0,  0,  4,  0,  0,  0,  0,  0,  0,  0,  0,  0,  7,\n",
      "          0,  0,  0,  0,  0,  4,  0,  0,  0,  0,  0,  0,  0,  0,  0,  0,  0,  0,\n",
      "          0,  0,  0,  0,  0,  0,  0,  4,  0,  0,  0,  0,  0,  0,  0,  0,  0,  0,\n",
      "          0,  0,  0,  0,  0,  0,  0,  0,  0,  0,  4,  0, 24,  0,  0,  0,  0,  0,\n",
      "          0,  0, 10,  0,  0,  0,  0,  0,  0,  0,  4,  0,  0,  0,  0,  0,  0,  0,\n",
      "          0,  0,  0,  0,  0,  0,  0,  0,  0,  0,  0,  0,  0,  0,  0,  0,  0,  0,\n",
      "          0,  0,  0,  0,  0,  0,  0,  0,  0,  0,  0,  0,  0,  0,  0,  0,  0,  0,\n",
      "          0,  0,  0,  0,  0,  0,  0,  0,  0,  0,  0,  0,  0,  0,  0,  0,  0,  0,\n",
      "          0,  0,  0,  0,  0,  0,  0,  0,  0,  0,  0,  0,  0,  0,  0,  0,  0,  0,\n",
      "          0,  0,  0,  0,  0,  0,  0,  0,  0,  0,  0,  0,  0,  0,  0,  0,  0,  0,\n",
      "          0,  0,  0,  0,  0,  0,  0,  0,  0,  0,  0,  0,  0,  0,  0,  0,  0,  0,\n",
      "          0,  0,  0,  0,  0,  0,  0,  0,  0,  0,  0,  0,  0,  0,  0,  0,  0,  0,\n",
      "          0,  0,  0,  0,  0,  0,  0,  0,  0,  0,  0,  0,  0,  0,  0,  0,  0,  0,\n",
      "          0,  0,  0,  0,  5,  0,  0,  0,  0,  0,  0,  0,  4,  0,  0,  0,  0,  0,\n",
      "          0,  0,  0,  0,  0,  4,  0,  0,  0,  0,  0,  0,  0,  0,  0,  0,  0,  0,\n",
      "          0,  0,  0,  0,  0,  0,  0,  0,  8,  0,  0,  0,  0,  0,  0,  0,  5,  0,\n",
      "          0,  4,  0,  0,  0,  0,  0,  0,  0,  0,  0,  0,  0,  0,  0,  0,  0,  0,\n",
      "          0,  0,  0,  0,  0,  0,  0,  5,  0,  0,  0,  0,  0,  0,  0,  0,  0,  0,\n",
      "          0,  0,  0,  0,  0,  0,  0,  0,  0,  0,  0,  0,  0,  0,  0,  0,  0,  5,\n",
      "          0,  0,  0,  0,  4,  0,  0,  0,  0,  0,  0,  0,  0,  0,  0,  0,  0,  0,\n",
      "          0,  0,  0,  0,  0,  0,  0,  0,  0,  0,  0,  0,  0,  0,  0,  5,  0,  0,\n",
      "          0,  4,  0,  0,  0,  0,  0,  0,  0,  0,  0,  0,  0,  0,  0,  0,  0,  0,\n",
      "          0,  0,  0,  0,  0,  0,  0,  0,  0,  0,  0,  0,  5,  0,  0,  0,  4,  0,\n",
      "          0,  0,  0,  0,  0,  0,  0,  4,  0,  0,  0,  0,  0,  0,  0,  0,  0,  0,\n",
      "          0,  0,  0,  0,  0,  0,  0,  0,  0,  0,  0,  0,  0,  0,  0,  0,  0,  0,\n",
      "          4,  0,  0, 24,  0,  0,  0,  0,  0,  5,  0,  0,  0, 14,  0,  0,  0,  4,\n",
      "          4,  0,  0,  0,  0,  0,  0,  0,  0,  0,  0,  0,  0,  0,  0,  0,  0,  0,\n",
      "          0,  0,  0,  0,  0,  0,  0,  0,  0,  0,  0,  0,  0,  0,  0]],\n",
      "       device='cuda:0')\n",
      "2025-09-16 05:10:45,588 - INFO - Transcription: ['I HAV THAV E E E A   BI E  OE EE E E   BED']\n",
      "2025-09-16 05:10:45,605 - INFO - Decoded output string: <pad><pad><pad><pad><pad><pad><pad><pad><pad><pad><pad><pad><pad><pad><pad><pad><pad><pad><pad><pad><pad><pad>I<pad><pad>||<pad>H<pad>AV<pad><pad>||<pad>TH<pad>AV<pad><pad>|<pad><pad><pad><pad><pad><pad>E<pad><pad><pad><pad><pad><pad><pad>|<pad><pad><pad><pad>E<pad><pad>|<pad><pad><pad><pad><pad>E<pad><pad><pad><pad><pad>|<pad><pad><pad><pad><pad><pad><pad><pad><pad>A<pad><pad><pad><pad><pad>|<pad><pad><pad><pad><pad><pad><pad><pad><pad><pad><pad><pad><pad><pad><pad><pad><pad><pad><pad>|<pad><pad><pad><pad><pad><pad><pad><pad><pad><pad><pad><pad><pad><pad><pad><pad><pad><pad><pad><pad>|<pad>B<pad><pad><pad><pad><pad><pad><pad>I<pad><pad><pad><pad><pad><pad><pad>|<pad><pad><pad><pad><pad><pad><pad><pad><pad><pad><pad><pad><pad><pad><pad><pad><pad><pad><pad><pad><pad><pad><pad><pad><pad><pad><pad><pad><pad><pad><pad><pad><pad><pad><pad><pad><pad><pad><pad><pad><pad><pad><pad><pad><pad><pad><pad><pad><pad><pad><pad><pad><pad><pad><pad><pad><pad><pad><pad><pad><pad><pad><pad><pad><pad><pad><pad><pad><pad><pad><pad><pad><pad><pad><pad><pad><pad><pad><pad><pad><pad><pad><pad><pad><pad><pad><pad><pad><pad><pad><pad><pad><pad><pad><pad><pad><pad><pad><pad><pad><pad><pad><pad><pad><pad><pad><pad><pad><pad><pad><pad><pad><pad><pad><pad><pad><pad><pad><pad><pad><pad><pad><pad><pad><pad><pad><pad><pad><pad><pad><pad><pad><pad><pad><pad><pad><pad><pad><pad><pad><pad><pad><pad><pad><pad><pad><pad><pad><pad><pad><pad><pad><pad><pad><pad>E<pad><pad><pad><pad><pad><pad><pad>|<pad><pad><pad><pad><pad><pad><pad><pad><pad><pad>|<pad><pad><pad><pad><pad><pad><pad><pad><pad><pad><pad><pad><pad><pad><pad><pad><pad><pad><pad><pad>O<pad><pad><pad><pad><pad><pad><pad>E<pad><pad>|<pad><pad><pad><pad><pad><pad><pad><pad><pad><pad><pad><pad><pad><pad><pad><pad><pad><pad><pad><pad><pad><pad><pad>E<pad><pad><pad><pad><pad><pad><pad><pad><pad><pad><pad><pad><pad><pad><pad><pad><pad><pad><pad><pad><pad><pad><pad><pad><pad><pad><pad>E<pad><pad><pad><pad>|<pad><pad><pad><pad><pad><pad><pad><pad><pad><pad><pad><pad><pad><pad><pad><pad><pad><pad><pad><pad><pad><pad><pad><pad><pad><pad><pad><pad>E<pad><pad><pad>|<pad><pad><pad><pad><pad><pad><pad><pad><pad><pad><pad><pad><pad><pad><pad><pad><pad><pad><pad><pad><pad><pad><pad><pad><pad><pad><pad><pad>E<pad><pad><pad>|<pad><pad><pad><pad><pad><pad><pad><pad>|<pad><pad><pad><pad><pad><pad><pad><pad><pad><pad><pad><pad><pad><pad><pad><pad><pad><pad><pad><pad><pad><pad><pad><pad><pad><pad><pad><pad>|<pad><pad>B<pad><pad><pad><pad><pad>E<pad><pad><pad>D<pad><pad><pad>||<pad><pad><pad><pad><pad><pad><pad><pad><pad><pad><pad><pad><pad><pad><pad><pad><pad><pad><pad><pad><pad><pad><pad><pad><pad><pad><pad><pad><pad><pad><pad><pad>\n",
      "2025-09-16 05:10:45,606 - INFO - Computing SHAP values with GradientExplainer\n",
      "2025-09-16 07:42:07,391 - INFO - Raw SHAP values type: <class 'numpy.ndarray'>\n",
      "2025-09-16 07:42:07,393 - INFO - SHAP values shape after conversion: (1, 183600, 573)\n",
      "2025-09-16 07:42:07,399 - INFO - SHAP values shape: (1, 183600, 573)\n",
      "2025-09-16 07:42:07,459 - INFO - SHAP values range: [-16.8789, 37.9232]\n"
     ]
    },
    {
     "name": "stderr",
     "output_type": "stream",
     "text": [
      "Computing metrics: 100%|██████████████████████████████████████████████████████████████| 4/4 [9:03:37<00:00, 8154.29s/it]\n"
     ]
    }
   ],
   "source": [
    "# Compute metrics and get visualization data\n",
    "logger.info(\"Computing metrics...\")\n",
    "compute_metrics(processor, device, wrapped_model, model, vocab, test_set)"
   ]
  }
 ],
 "metadata": {
  "kernelspec": {
   "display_name": "Python 3 (ipykernel)",
   "language": "python",
   "name": "python3"
  },
  "language_info": {
   "codemirror_mode": {
    "name": "ipython",
    "version": 3
   },
   "file_extension": ".py",
   "mimetype": "text/x-python",
   "name": "python",
   "nbconvert_exporter": "python",
   "pygments_lexer": "ipython3",
   "version": "3.11.11"
  }
 },
 "nbformat": 4,
 "nbformat_minor": 5
}
