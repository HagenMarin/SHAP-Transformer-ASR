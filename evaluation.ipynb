{
 "cells": [
  {
   "cell_type": "code",
   "execution_count": 1,
   "id": "d960d8c9",
   "metadata": {},
   "outputs": [
    {
     "name": "stderr",
     "output_type": "stream",
     "text": [
      "/home/hagen/SHAP-Transformer-ASR/.shaptransformerasr/lib/python3.11/site-packages/tqdm/auto.py:21: TqdmWarning: IProgress not found. Please update jupyter and ipywidgets. See https://ipywidgets.readthedocs.io/en/stable/user_install.html\n",
      "  from .autonotebook import tqdm as notebook_tqdm\n",
      "2025-09-12 22:41:26.788600: I tensorflow/core/util/port.cc:153] oneDNN custom operations are on. You may see slightly different numerical results due to floating-point round-off errors from different computation orders. To turn them off, set the environment variable `TF_ENABLE_ONEDNN_OPTS=0`.\n",
      "2025-09-12 22:41:26.800107: E external/local_xla/xla/stream_executor/cuda/cuda_fft.cc:467] Unable to register cuFFT factory: Attempting to register factory for plugin cuFFT when one has already been registered\n",
      "WARNING: All log messages before absl::InitializeLog() is called are written to STDERR\n",
      "E0000 00:00:1757709686.813789    8973 cuda_dnn.cc:8579] Unable to register cuDNN factory: Attempting to register factory for plugin cuDNN when one has already been registered\n",
      "E0000 00:00:1757709686.817920    8973 cuda_blas.cc:1407] Unable to register cuBLAS factory: Attempting to register factory for plugin cuBLAS when one has already been registered\n",
      "W0000 00:00:1757709686.829933    8973 computation_placer.cc:177] computation placer already registered. Please check linkage and avoid linking the same target more than once.\n",
      "W0000 00:00:1757709686.829950    8973 computation_placer.cc:177] computation placer already registered. Please check linkage and avoid linking the same target more than once.\n",
      "W0000 00:00:1757709686.829952    8973 computation_placer.cc:177] computation placer already registered. Please check linkage and avoid linking the same target more than once.\n",
      "W0000 00:00:1757709686.829953    8973 computation_placer.cc:177] computation placer already registered. Please check linkage and avoid linking the same target more than once.\n",
      "2025-09-12 22:41:26.834295: I tensorflow/core/platform/cpu_feature_guard.cc:210] This TensorFlow binary is optimized to use available CPU instructions in performance-critical operations.\n",
      "To enable the following instructions: AVX2 AVX512F AVX512_VNNI AVX512_BF16 FMA, in other operations, rebuild TensorFlow with the appropriate compiler flags.\n"
     ]
    }
   ],
   "source": [
    "import torch\n",
    "import numpy as np\n",
    "import matplotlib.pyplot as plt\n",
    "import shap\n",
    "import logging\n",
    "import sys\n",
    "import os\n",
    "import soundfile as sf\n",
    "from transformers import Wav2Vec2ForCTC, Wav2Vec2Processor\n",
    "from datasets import load_dataset\n",
    "import librosa\n",
    "import librosa.display\n",
    "from scipy.stats import pearsonr\n",
    "from typing import List, Dict, Tuple\n",
    "import json\n",
    "from pathlib import Path\n",
    "from tqdm import tqdm\n",
    "import warnings\n",
    "\n",
    "# Set up logging\n",
    "logging.basicConfig(\n",
    "    level=logging.INFO,\n",
    "    format='%(asctime)s - %(levelname)s - %(message)s',\n",
    "    handlers=[\n",
    "        logging.StreamHandler(sys.stdout),\n",
    "        logging.FileHandler('evaluation.log')\n",
    "    ]\n",
    ")\n",
    "logger = logging.getLogger(__name__)\n",
    "\n",
    "model_name = \"facebook/wav2vec2-base-960h\"\n",
    "            "
   ]
  },
  {
   "cell_type": "code",
   "execution_count": 2,
   "id": "20f82024",
   "metadata": {},
   "outputs": [],
   "source": [
    "def _create_model_wrapper(model):\n",
    "    \"\"\"Create a wrapper class for the model to get properly shaped output\"\"\"\n",
    "    class ModelWrapper(torch.nn.Module):\n",
    "        def __init__(self, model):\n",
    "            super().__init__()\n",
    "            self.model = model\n",
    "        \n",
    "        def forward(self, x):\n",
    "            # Ensure input has correct shape for the model\n",
    "            if len(x.shape) == 4:\n",
    "                x = x.squeeze(1).squeeze(1)  # Remove extra dimensions\n",
    "            elif len(x.shape) == 3:\n",
    "                x = x.squeeze(1)  # Remove extra dimension\n",
    "            \n",
    "            # Add attention mask\n",
    "            attention_mask = torch.ones_like(x)\n",
    "            \n",
    "            # Forward pass with attention mask\n",
    "            logits = self.model(x, attention_mask=attention_mask).logits\n",
    "            \n",
    "            # Log the shape and statistics of logits\n",
    "            logger.debug(f\"Logits shape: {logits.shape}\")\n",
    "            logger.debug(f\"Logits mean: {torch.mean(logits).item():.6f}\")\n",
    "            logger.debug(f\"Logits std: {torch.std(logits).item():.6f}\")\n",
    "            \n",
    "            # For SHAP, aggregate over vocab to get a scalar per time step\n",
    "            return torch.max(logits,dim=-1).values  # [batch, seq_len]\n",
    "    \n",
    "    return ModelWrapper(model)"
   ]
  },
  {
   "cell_type": "code",
   "execution_count": 3,
   "id": "4548d0a7",
   "metadata": {},
   "outputs": [],
   "source": [
    "def _add_noise(audio: np.ndarray, snr_db: float) -> np.ndarray:\n",
    "    \"\"\"Add white noise to audio at specified SNR\"\"\"\n",
    "    signal_power = np.mean(audio ** 2)\n",
    "    noise_power = signal_power / (10 ** (snr_db / 10))\n",
    "    noise = np.random.normal(0, np.sqrt(noise_power), len(audio))\n",
    "    return audio + noise"
   ]
  },
  {
   "cell_type": "code",
   "execution_count": 4,
   "id": "cb3e58bb",
   "metadata": {},
   "outputs": [],
   "source": [
    "def create_test_set(num_samples: int = 10) -> Dict:\n",
    "    \"\"\"Create a controlled test set with various conditions\"\"\"\n",
    "    logger.info(f\"Creating test set with {num_samples} samples\")\n",
    "    ds = load_dataset(\"patrickvonplaten/librispeech_asr_dummy\", \"clean\", split=\"validation\")\n",
    "    test_set = []\n",
    "\n",
    "    for i in tqdm(range(min(num_samples, len(ds))), desc=\"Creating test samples\"):\n",
    "        sample = ds[i+4]\n",
    "        audio = sample[\"audio\"][\"array\"]\n",
    "        if len(audio) > 100000:\n",
    "            continue  # Skip too long samples\n",
    "        text = sample[\"text\"]\n",
    "        \n",
    "        # Create clean sample\n",
    "        test_set.append({\n",
    "            \"type\": \"clean\",\n",
    "            \"audio\": audio,\n",
    "            \"text\": text,\n",
    "            \"snr\": float('inf'),\n",
    "            \"noise\": np.zeros_like(audio)\n",
    "        })\n",
    "        logger.info(f\"Added clean sample {i+1}\")\n",
    "        \n",
    "        # Create noisy samples with different SNRs [20, 10, 0, -5]\n",
    "        for snr in tqdm([5,2,1], desc=f\"Adding noise to sample {i+1}\", leave=False):\n",
    "            noisy_audio = _add_noise(audio, snr)\n",
    "            test_set.append({\n",
    "                \"type\": \"noisy\",\n",
    "                \"audio\": noisy_audio,\n",
    "                \"text\": text,\n",
    "                \"snr\": snr,\n",
    "                \"noise\": noisy_audio - audio\n",
    "            })\n",
    "            logger.info(f\"Added noisy sample {i+1} with SNR {snr}dB\")\n",
    "\n",
    "    logger.info(f\"Test set created with {len(test_set)} total samples\")\n",
    "    return test_set"
   ]
  },
  {
   "cell_type": "code",
   "execution_count": 5,
   "id": "3b0c5a68",
   "metadata": {},
   "outputs": [],
   "source": [
    "def compute_shap_values(processor, device, wrapped_model, model, vocab, audio: np.ndarray) -> Tuple[np.ndarray, np.ndarray]:\n",
    "    \"\"\"Compute SHAP values for an audio sample using GradientExplainer\"\"\"\n",
    "    logger.info(\"Computing SHAP values\")\n",
    "    # Process audio\n",
    "    inputs = processor(audio, sampling_rate=16000, return_tensors=\"pt\")\n",
    "    input_values = inputs.input_values.to(device)\n",
    "    \n",
    "    # Ensure input_values has the correct shape [batch_size, sequence_length]\n",
    "    if len(input_values.shape) == 3:\n",
    "        input_values = input_values.squeeze(1)\n",
    "    \n",
    "    # Create background samples with correct shape [batch_size, sequence_length]\n",
    "    num_background = 5\n",
    "    background = torch.zeros((num_background, input_values.shape[1]), device=device)\n",
    "    background += torch.randn_like(background) * 0.01  # Add small random noise\n",
    "    logger.info(f\"Created background samples with shape {background.shape}\")\n",
    "    logger.info(f\"Background mean: {torch.mean(background).item():.6f}\")\n",
    "    logger.info(f\"Background std: {torch.std(background).item():.6f}\")\n",
    "    \n",
    "    # Initialize GradientExplainer with the model only\n",
    "    explainer = shap.GradientExplainer(\n",
    "        wrapped_model,\n",
    "        background,\n",
    "        batch_size=1\n",
    "    )\n",
    "    \n",
    "    # Log model output before SHAP computation\n",
    "    with torch.no_grad():\n",
    "        model_output = wrapped_model(input_values)\n",
    "        logger.info(f\"Model output shape: {model_output.shape}\")\n",
    "        logger.info(f\"Model output mean: {torch.mean(model_output).item():.6f}\")\n",
    "        logger.info(f\"Model output std: {torch.std(model_output).item():.6f}\")\n",
    "        logger.info(f\"Model output sum: {torch.sum(model_output).item():.6f}\")\n",
    "    \n",
    "    # retrieve logits\n",
    "    logits = model(input_values).logits\n",
    "\n",
    "    # take argmax and decode\n",
    "    predicted_ids = torch.argmax(logits, dim=-1)\n",
    "    logger.info(f\"Predicted IDs: {predicted_ids}\")\n",
    "    transcription = processor.batch_decode(predicted_ids)\n",
    "    logger.info(f\"Transcription: {transcription}\")\n",
    "\n",
    "    output_string = ''.join([list(vocab.keys())[list(vocab.values()).index(id.item())] for id in predicted_ids[0]])\n",
    "    logger.info(f\"Decoded output string: {output_string}\")\n",
    "\n",
    "    # Get SHAP values\n",
    "    logger.info(\"Computing SHAP values with GradientExplainer\")\n",
    "    shap_values = explainer.shap_values(input_values)\n",
    "    logger.info(f\"Raw SHAP values type: {type(shap_values)}\")\n",
    "    \n",
    "    # Convert to numpy and process\n",
    "    # if isinstance(shap_values[0], torch.Tensor):\n",
    "    #     shap_values = [v.cpu().numpy() for v in shap_values]\n",
    "    \n",
    "    # Convert to numpy array and handle shapes\n",
    "    # shap_values = np.array(shap_values)  # Shape: (1, batch, seq_len)\n",
    "    logger.info(f\"SHAP values shape after conversion: {shap_values.shape}\")\n",
    "    \n",
    "    return shap_values"
   ]
  },
  {
   "cell_type": "code",
   "execution_count": 6,
   "id": "5a8f109f",
   "metadata": {},
   "outputs": [],
   "source": [
    "def compute_metrics(processor, device, wrapped_model, model, vocab, test_set: List[Dict]) -> Dict:\n",
    "    \"\"\"Compute evaluation metrics for the test set\"\"\"\n",
    "    logger.info(\"Computing metrics for test set\")\n",
    "    metrics = {\n",
    "        \"shap_noise_correlation\": [],\n",
    "        \"shap_confidence_correlation\": [],\n",
    "        \"wer_correlation\": []\n",
    "    }\n",
    "    \n",
    "    # Store SHAP values and other computed values for visualization\n",
    "    visualization_data = []\n",
    "    \n",
    "    for i, sample in enumerate(tqdm(test_set, desc=\"Computing metrics\")):\n",
    "        logger.info(f\"Processing sample {i+1}/{len(test_set)}\")\n",
    "        audio = sample[\"audio\"]\n",
    "        text = sample[\"text\"]\n",
    "        \n",
    "        # Get model prediction and confidence\n",
    "        inputs = processor(audio, sampling_rate=16000, return_tensors=\"pt\")\n",
    "        input_values = inputs.input_values.to(device)\n",
    "        \n",
    "        with torch.no_grad():\n",
    "            logits = model(input_values).logits\n",
    "            probs = torch.softmax(logits, dim=-1)\n",
    "            confidence = torch.mean(torch.max(probs, dim=-1)[0]).item()\n",
    "        logger.info(f\"Model confidence: {confidence:.4f}\")\n",
    "        \n",
    "        # Compute SHAP values\n",
    "        shap_values = compute_shap_values(processor, device, wrapped_model, model, vocab, audio)\n",
    "        logger.info(f\"SHAP values shape: {shap_values.shape}\")\n",
    "        logger.info(f\"SHAP values range: [{np.min(shap_values):.4f}, {np.max(shap_values):.4f}]\")\n",
    "\n",
    "        np.save(f\"data/shap_values_sample_{i+1+13}_{sample['type']}_{sample['snr']}\",shap_values)\n",
    "        np.save(f\"data/audio_sample_{i+1+13}_{sample['type']}_{sample['snr']}\",sample[\"audio\"])\n",
    "        np.save(f\"data/noise_sample_{i+1+13}_{sample['type']}_{sample['snr']}\",sample[\"noise\"])"
   ]
  },
  {
   "cell_type": "code",
   "execution_count": 7,
   "id": "f489c480",
   "metadata": {},
   "outputs": [
    {
     "name": "stdout",
     "output_type": "stream",
     "text": [
      "2025-09-12 22:41:32,656 - INFO - Using device: cuda\n",
      "2025-09-12 22:41:32,657 - INFO - Loading model: facebook/wav2vec2-base-960h\n"
     ]
    },
    {
     "name": "stderr",
     "output_type": "stream",
     "text": [
      "Some weights of Wav2Vec2ForCTC were not initialized from the model checkpoint at facebook/wav2vec2-base-960h and are newly initialized: ['wav2vec2.masked_spec_embed']\n",
      "You should probably TRAIN this model on a down-stream task to be able to use it for predictions and inference.\n"
     ]
    },
    {
     "name": "stdout",
     "output_type": "stream",
     "text": [
      "2025-09-12 22:41:33,938 - INFO - Model loaded successfully\n",
      "2025-09-12 22:41:33,939 - INFO - Model wrapper created\n"
     ]
    }
   ],
   "source": [
    "\n",
    "device = torch.device('cuda' if torch.cuda.is_available() else 'cpu')\n",
    "logger.info(f\"Using device: {device}\")\n",
    "\n",
    "# Load model and processor\n",
    "logger.info(f\"Loading model: {model_name}\")\n",
    "processor = Wav2Vec2Processor.from_pretrained(model_name)\n",
    "model = Wav2Vec2ForCTC.from_pretrained(model_name)\n",
    "model = model.to(device)\n",
    "vocab = {\"<pad>\": 0, \"<s>\": 1, \"</s>\": 2, \"<unk>\": 3, \"|\": 4, \"E\": 5, \"T\": 6, \"A\": 7, \"O\": 8, \"N\": 9, \"I\": 10, \"H\": 11, \"S\": 12, \"R\": 13, \"D\": 14, \"L\": 15, \"U\": 16, \"M\": 17, \"W\": 18, \"C\": 19, \"F\": 20, \"G\": 21, \"Y\": 22, \"P\": 23, \"B\": 24, \"V\": 25, \"K\": 26, \"'\": 27, \"X\": 28, \"J\": 29, \"Q\": 30, \"Z\": 31}\n",
    "logger.info(\"Model loaded successfully\")\n",
    "\n",
    "# Create model wrapper for SHAP\n",
    "wrapped_model = _create_model_wrapper(model)\n",
    "logger.info(\"Model wrapper created\")"
   ]
  },
  {
   "cell_type": "code",
   "execution_count": 8,
   "id": "97d5cf56",
   "metadata": {},
   "outputs": [
    {
     "name": "stdout",
     "output_type": "stream",
     "text": [
      "2025-09-12 22:41:36,513 - INFO - Creating test set...\n",
      "2025-09-12 22:41:36,514 - INFO - Creating test set with 20 samples\n"
     ]
    },
    {
     "name": "stderr",
     "output_type": "stream",
     "text": [
      "Creating test samples:   5%|███                                                          | 1/20 [00:00<00:16,  1.13it/s]"
     ]
    },
    {
     "name": "stdout",
     "output_type": "stream",
     "text": [
      "2025-09-12 22:41:38,765 - INFO - Added clean sample 3\n"
     ]
    },
    {
     "name": "stderr",
     "output_type": "stream",
     "text": []
    },
    {
     "name": "stdout",
     "output_type": "stream",
     "text": [
      "2025-09-12 22:41:38,770 - INFO - Added noisy sample 3 with SNR 5dB\n",
      "2025-09-12 22:41:38,773 - INFO - Added noisy sample 3 with SNR 2dB\n",
      "2025-09-12 22:41:38,775 - INFO - Added noisy sample 3 with SNR 1dB\n"
     ]
    },
    {
     "name": "stderr",
     "output_type": "stream",
     "text": []
    },
    {
     "name": "stdout",
     "output_type": "stream",
     "text": [
      "2025-09-12 22:41:38,782 - INFO - Added clean sample 5\n"
     ]
    },
    {
     "name": "stderr",
     "output_type": "stream",
     "text": []
    },
    {
     "name": "stdout",
     "output_type": "stream",
     "text": [
      "2025-09-12 22:41:38,786 - INFO - Added noisy sample 5 with SNR 5dB\n",
      "2025-09-12 22:41:38,788 - INFO - Added noisy sample 5 with SNR 2dB\n",
      "2025-09-12 22:41:38,790 - INFO - Added noisy sample 5 with SNR 1dB\n"
     ]
    },
    {
     "name": "stderr",
     "output_type": "stream",
     "text": []
    },
    {
     "name": "stdout",
     "output_type": "stream",
     "text": [
      "2025-09-12 22:41:38,798 - INFO - Added clean sample 7\n"
     ]
    },
    {
     "name": "stderr",
     "output_type": "stream",
     "text": []
    },
    {
     "name": "stdout",
     "output_type": "stream",
     "text": [
      "2025-09-12 22:41:38,802 - INFO - Added noisy sample 7 with SNR 5dB\n",
      "2025-09-12 22:41:38,804 - INFO - Added noisy sample 7 with SNR 2dB\n",
      "2025-09-12 22:41:38,806 - INFO - Added noisy sample 7 with SNR 1dB\n"
     ]
    },
    {
     "name": "stderr",
     "output_type": "stream",
     "text": []
    },
    {
     "name": "stdout",
     "output_type": "stream",
     "text": [
      "2025-09-12 22:41:38,813 - INFO - Added clean sample 9\n"
     ]
    },
    {
     "name": "stderr",
     "output_type": "stream",
     "text": []
    },
    {
     "name": "stdout",
     "output_type": "stream",
     "text": [
      "2025-09-12 22:41:38,817 - INFO - Added noisy sample 9 with SNR 5dB\n",
      "2025-09-12 22:41:38,820 - INFO - Added noisy sample 9 with SNR 2dB\n",
      "2025-09-12 22:41:38,822 - INFO - Added noisy sample 9 with SNR 1dB\n"
     ]
    },
    {
     "name": "stderr",
     "output_type": "stream",
     "text": []
    },
    {
     "name": "stdout",
     "output_type": "stream",
     "text": [
      "2025-09-12 22:41:38,827 - INFO - Added clean sample 11\n"
     ]
    },
    {
     "name": "stderr",
     "output_type": "stream",
     "text": []
    },
    {
     "name": "stdout",
     "output_type": "stream",
     "text": [
      "2025-09-12 22:41:38,830 - INFO - Added noisy sample 11 with SNR 5dB\n",
      "2025-09-12 22:41:38,831 - INFO - Added noisy sample 11 with SNR 2dB\n",
      "2025-09-12 22:41:38,832 - INFO - Added noisy sample 11 with SNR 1dB\n"
     ]
    },
    {
     "name": "stderr",
     "output_type": "stream",
     "text": []
    },
    {
     "name": "stdout",
     "output_type": "stream",
     "text": [
      "2025-09-12 22:41:38,842 - INFO - Added clean sample 15\n"
     ]
    },
    {
     "name": "stderr",
     "output_type": "stream",
     "text": []
    },
    {
     "name": "stdout",
     "output_type": "stream",
     "text": [
      "2025-09-12 22:41:38,845 - INFO - Added noisy sample 15 with SNR 5dB\n",
      "2025-09-12 22:41:38,847 - INFO - Added noisy sample 15 with SNR 2dB\n",
      "2025-09-12 22:41:38,849 - INFO - Added noisy sample 15 with SNR 1dB\n"
     ]
    },
    {
     "name": "stderr",
     "output_type": "stream",
     "text": []
    },
    {
     "name": "stdout",
     "output_type": "stream",
     "text": [
      "2025-09-12 22:41:38,852 - INFO - Added clean sample 16\n"
     ]
    },
    {
     "name": "stderr",
     "output_type": "stream",
     "text": []
    },
    {
     "name": "stdout",
     "output_type": "stream",
     "text": [
      "2025-09-12 22:41:38,856 - INFO - Added noisy sample 16 with SNR 5dB\n",
      "2025-09-12 22:41:38,858 - INFO - Added noisy sample 16 with SNR 2dB\n",
      "2025-09-12 22:41:38,860 - INFO - Added noisy sample 16 with SNR 1dB\n"
     ]
    },
    {
     "name": "stderr",
     "output_type": "stream",
     "text": [
      "Creating test samples:  80%|████████████████████████████████████████████████            | 16/20 [00:00<00:00, 21.83it/s]"
     ]
    },
    {
     "name": "stdout",
     "output_type": "stream",
     "text": [
      "2025-09-12 22:41:38,864 - INFO - Added clean sample 17\n"
     ]
    },
    {
     "name": "stderr",
     "output_type": "stream",
     "text": []
    },
    {
     "name": "stdout",
     "output_type": "stream",
     "text": [
      "2025-09-12 22:41:38,867 - INFO - Added noisy sample 17 with SNR 5dB\n",
      "2025-09-12 22:41:38,869 - INFO - Added noisy sample 17 with SNR 2dB\n",
      "2025-09-12 22:41:38,871 - INFO - Added noisy sample 17 with SNR 1dB\n"
     ]
    },
    {
     "name": "stderr",
     "output_type": "stream",
     "text": []
    },
    {
     "name": "stdout",
     "output_type": "stream",
     "text": [
      "2025-09-12 22:41:38,875 - INFO - Added clean sample 18\n"
     ]
    },
    {
     "name": "stderr",
     "output_type": "stream",
     "text": []
    },
    {
     "name": "stdout",
     "output_type": "stream",
     "text": [
      "2025-09-12 22:41:38,878 - INFO - Added noisy sample 18 with SNR 5dB\n",
      "2025-09-12 22:41:38,880 - INFO - Added noisy sample 18 with SNR 2dB\n",
      "2025-09-12 22:41:38,882 - INFO - Added noisy sample 18 with SNR 1dB\n"
     ]
    },
    {
     "name": "stderr",
     "output_type": "stream",
     "text": []
    },
    {
     "name": "stdout",
     "output_type": "stream",
     "text": [
      "2025-09-12 22:41:38,886 - INFO - Added clean sample 19\n"
     ]
    },
    {
     "name": "stderr",
     "output_type": "stream",
     "text": []
    },
    {
     "name": "stdout",
     "output_type": "stream",
     "text": [
      "2025-09-12 22:41:38,890 - INFO - Added noisy sample 19 with SNR 5dB\n",
      "2025-09-12 22:41:38,891 - INFO - Added noisy sample 19 with SNR 2dB\n",
      "2025-09-12 22:41:38,893 - INFO - Added noisy sample 19 with SNR 1dB\n"
     ]
    },
    {
     "name": "stderr",
     "output_type": "stream",
     "text": []
    },
    {
     "name": "stdout",
     "output_type": "stream",
     "text": [
      "2025-09-12 22:41:38,897 - INFO - Added clean sample 20\n"
     ]
    },
    {
     "name": "stderr",
     "output_type": "stream",
     "text": []
    },
    {
     "name": "stdout",
     "output_type": "stream",
     "text": [
      "2025-09-12 22:41:38,900 - INFO - Added noisy sample 20 with SNR 5dB\n",
      "2025-09-12 22:41:38,902 - INFO - Added noisy sample 20 with SNR 2dB\n",
      "2025-09-12 22:41:38,904 - INFO - Added noisy sample 20 with SNR 1dB\n"
     ]
    },
    {
     "name": "stderr",
     "output_type": "stream",
     "text": [
      "Creating test samples: 100%|████████████████████████████████████████████████████████████| 20/20 [00:01<00:00, 19.46it/s]"
     ]
    },
    {
     "name": "stdout",
     "output_type": "stream",
     "text": [
      "2025-09-12 22:41:38,906 - INFO - Test set created with 44 total samples\n",
      "2025-09-12 22:41:38,906 - INFO - [{'type': 'clean', 'audio': array([ 0.00030518,  0.00030518,  0.00018311, ...,  0.        ,\n",
      "       -0.00091553,  0.00366211]), 'text': 'ON THE GENERAL PRINCIPLES OF ART MISTER QUILTER WRITES WITH EQUAL LUCIDITY', 'snr': inf, 'noise': array([0., 0., 0., ..., 0., 0., 0.])}, {'type': 'noisy', 'audio': array([-0.04837483,  0.0246488 , -0.00958223, ..., -0.02770247,\n",
      "       -0.00319669,  0.00140494]), 'text': 'ON THE GENERAL PRINCIPLES OF ART MISTER QUILTER WRITES WITH EQUAL LUCIDITY', 'snr': 5, 'noise': array([-0.04868   ,  0.02434363, -0.00976534, ..., -0.02770247,\n",
      "       -0.00228116, -0.00225717])}, {'type': 'noisy', 'audio': array([-0.09383595, -0.0114319 , -0.04057077, ...,  0.00613443,\n",
      "       -0.02603626, -0.01330276]), 'text': 'ON THE GENERAL PRINCIPLES OF ART MISTER QUILTER WRITES WITH EQUAL LUCIDITY', 'snr': 2, 'noise': array([-0.09414112, -0.01173708, -0.04075387, ...,  0.00613443,\n",
      "       -0.02512074, -0.01696487])}, {'type': 'noisy', 'audio': array([ 0.01171087,  0.01381499, -0.03812588, ...,  0.01343719,\n",
      "        0.06434816, -0.05713894]), 'text': 'ON THE GENERAL PRINCIPLES OF ART MISTER QUILTER WRITES WITH EQUAL LUCIDITY', 'snr': 1, 'noise': array([ 0.01140569,  0.01350982, -0.03830899, ...,  0.01343719,\n",
      "        0.06526369, -0.06080105])}, {'type': 'clean', 'audio': array([-1.22070312e-03, -8.54492188e-04,  2.44140625e-04, ...,\n",
      "       -1.52587891e-04,  6.10351562e-05, -1.52587891e-04]), 'text': 'AS FOR ETCHINGS THEY ARE OF TWO KINDS BRITISH AND FOREIGN', 'snr': inf, 'noise': array([0., 0., 0., ..., 0., 0., 0.])}, {'type': 'noisy', 'audio': array([ 0.02231939,  0.00243093, -0.04086212, ...,  0.02682493,\n",
      "        0.01913605, -0.00133438]), 'text': 'AS FOR ETCHINGS THEY ARE OF TWO KINDS BRITISH AND FOREIGN', 'snr': 5, 'noise': array([ 0.02354009,  0.00328542, -0.04110626, ...,  0.02697752,\n",
      "        0.01907501, -0.00118179])}, {'type': 'noisy', 'audio': array([-0.0108811 , -0.04875882,  0.02873592, ...,  0.01385639,\n",
      "       -0.02212849, -0.06381358]), 'text': 'AS FOR ETCHINGS THEY ARE OF TWO KINDS BRITISH AND FOREIGN', 'snr': 2, 'noise': array([-0.00966039, -0.04790433,  0.02849178, ...,  0.01400898,\n",
      "       -0.02218952, -0.06366099])}, {'type': 'noisy', 'audio': array([ 0.04536378,  0.05336704, -0.0045491 , ...,  0.02001574,\n",
      "       -0.13390587, -0.08805022]), 'text': 'AS FOR ETCHINGS THEY ARE OF TWO KINDS BRITISH AND FOREIGN', 'snr': 1, 'noise': array([ 0.04658448,  0.05422153, -0.00479324, ...,  0.02016833,\n",
      "       -0.1339669 , -0.08789763])}, {'type': 'clean', 'audio': array([-0.00018311, -0.00027466, -0.00012207, ..., -0.00033569,\n",
      "       -0.00036621, -0.00036621]), 'text': 'NEAR THE FIRE AND THE ORNAMENTS FRED BROUGHT HOME FROM INDIA ON THE MANTEL BOARD', 'snr': inf, 'noise': array([0., 0., 0., ..., 0., 0., 0.])}, {'type': 'noisy', 'audio': array([-0.06749344,  0.02765246, -0.03486435, ...,  0.00194999,\n",
      "       -0.04505993,  0.01879249]), 'text': 'NEAR THE FIRE AND THE ORNAMENTS FRED BROUGHT HOME FROM INDIA ON THE MANTEL BOARD', 'snr': 5, 'noise': array([-0.06731033,  0.02792712, -0.03474228, ...,  0.00228568,\n",
      "       -0.04469372,  0.0191587 ])}, {'type': 'noisy', 'audio': array([ 0.05138532, -0.06410648, -0.00222229, ..., -0.00484242,\n",
      "        0.01966881,  0.01911788]), 'text': 'NEAR THE FIRE AND THE ORNAMENTS FRED BROUGHT HOME FROM INDIA ON THE MANTEL BOARD', 'snr': 2, 'noise': array([ 0.05156842, -0.06383182, -0.00210022, ..., -0.00450673,\n",
      "        0.02003502,  0.01948409])}, {'type': 'noisy', 'audio': array([-0.0268485 , -0.03118218, -0.0508632 , ..., -0.14131624,\n",
      "        0.0171467 ,  0.05757517]), 'text': 'NEAR THE FIRE AND THE ORNAMENTS FRED BROUGHT HOME FROM INDIA ON THE MANTEL BOARD', 'snr': 1, 'noise': array([-0.02666539, -0.03090752, -0.05074113, ..., -0.14098055,\n",
      "        0.01751291,  0.05794138])}, {'type': 'clean', 'audio': array([-6.43920898e-03, -7.01904297e-03,  1.28173828e-03, ...,\n",
      "        6.10351562e-05,  0.00000000e+00,  1.83105469e-04]), 'text': 'ONLY UNFORTUNATELY HIS OWN WORK NEVER DOES GET GOOD', 'snr': inf, 'noise': array([0., 0., 0., ..., 0., 0., 0.])}, {'type': 'noisy', 'audio': array([-0.00291061,  0.01718153, -0.03142193, ..., -0.01221717,\n",
      "       -0.03559155, -0.05065783]), 'text': 'ONLY UNFORTUNATELY HIS OWN WORK NEVER DOES GET GOOD', 'snr': 5, 'noise': array([ 0.00352859,  0.02420057, -0.03270367, ..., -0.0122782 ,\n",
      "       -0.03559155, -0.05084094])}, {'type': 'noisy', 'audio': array([ 0.01760535,  0.13093844, -0.09089776, ...,  0.01056929,\n",
      "        0.08168325, -0.03114699]), 'text': 'ONLY UNFORTUNATELY HIS OWN WORK NEVER DOES GET GOOD', 'snr': 2, 'noise': array([ 0.02404456,  0.13795748, -0.0921795 , ...,  0.01050826,\n",
      "        0.08168325, -0.03133009])}, {'type': 'noisy', 'audio': array([-0.02233371,  0.0044518 , -0.09675357, ...,  0.0024225 ,\n",
      "       -0.02655003,  0.1754829 ]), 'text': 'ONLY UNFORTUNATELY HIS OWN WORK NEVER DOES GET GOOD', 'snr': 1, 'noise': array([-0.01589451,  0.01147085, -0.09803531, ...,  0.00236147,\n",
      "       -0.02655003,  0.17529979])}, {'type': 'clean', 'audio': array([-1.52587891e-04, -9.15527344e-05, -7.01904297e-04, ...,\n",
      "        5.79833984e-04,  8.54492188e-04,  9.46044922e-04]), 'text': 'BY HARRY QUILTER M A', 'snr': inf, 'noise': array([0., 0., 0., ..., 0., 0., 0.])}, {'type': 'noisy', 'audio': array([-0.01548142,  0.03029808, -0.03054745, ...,  0.01084326,\n",
      "        0.03285851, -0.0264359 ]), 'text': 'BY HARRY QUILTER M A', 'snr': 5, 'noise': array([-0.01532883,  0.03038963, -0.02984554, ...,  0.01026343,\n",
      "        0.03200401, -0.02738195])}, {'type': 'noisy', 'audio': array([-0.01177747, -0.01749177, -0.02277492, ..., -0.05194369,\n",
      "        0.0268297 ,  0.04464938]), 'text': 'BY HARRY QUILTER M A', 'snr': 2, 'noise': array([-0.01162488, -0.01740022, -0.02207301, ..., -0.05252353,\n",
      "        0.02597521,  0.04370333])}, {'type': 'noisy', 'audio': array([ 0.0884765 , -0.10101913, -0.02769143, ...,  0.09887128,\n",
      "        0.0729081 ,  0.04434568]), 'text': 'BY HARRY QUILTER M A', 'snr': 1, 'noise': array([ 0.08862909, -0.10092758, -0.02698953, ...,  0.09829145,\n",
      "        0.07205361,  0.04339964])}, {'type': 'clean', 'audio': array([-0.00616455, -0.00497437, -0.00598145, ...,  0.00512695,\n",
      "        0.00497437,  0.00473022]), 'text': 'THE LITTLE GIRL HAD BEEN ASLEEP BUT SHE HEARD THE RAPS AND OPENED THE DOOR', 'snr': inf, 'noise': array([0., 0., 0., ..., 0., 0., 0.])}, {'type': 'noisy', 'audio': array([-0.05020558,  0.0435389 ,  0.00494014, ...,  0.03935145,\n",
      "       -0.01284656, -0.02631489]), 'text': 'THE LITTLE GIRL HAD BEEN ASLEEP BUT SHE HEARD THE RAPS AND OPENED THE DOOR', 'snr': 5, 'noise': array([-0.04404103,  0.04851327,  0.01092159, ...,  0.0342245 ,\n",
      "       -0.01782093, -0.03104511])}, {'type': 'noisy', 'audio': array([-0.03033439,  0.01758284, -0.02114745, ...,  0.04913459,\n",
      "       -0.00782891,  0.03044873]), 'text': 'THE LITTLE GIRL HAD BEEN ASLEEP BUT SHE HEARD THE RAPS AND OPENED THE DOOR', 'snr': 2, 'noise': array([-0.02416984,  0.0225572 , -0.01516601, ...,  0.04400763,\n",
      "       -0.01280328,  0.0257185 ])}, {'type': 'noisy', 'audio': array([-0.03348766,  0.05935096, -0.0339506 , ...,  0.00874028,\n",
      "        0.05852339,  0.09637242]), 'text': 'THE LITTLE GIRL HAD BEEN ASLEEP BUT SHE HEARD THE RAPS AND OPENED THE DOOR', 'snr': 1, 'noise': array([-0.02732311,  0.06432532, -0.02796916, ...,  0.00361333,\n",
      "        0.05354903,  0.0916422 ])}, {'type': 'clean', 'audio': array([-0.00137329, -0.00375366, -0.00210571, ...,  0.00491333,\n",
      "        0.00454712,  0.00610352]), 'text': 'THE KING HAS FLED IN DISGRACE AND YOUR FRIENDS ARE ASKING FOR YOU', 'snr': inf, 'noise': array([0., 0., 0., ..., 0., 0., 0.])}, {'type': 'noisy', 'audio': array([-0.04820734, -0.01550398,  0.05140118, ...,  0.03780736,\n",
      "       -0.03450454, -0.04434284]), 'text': 'THE KING HAS FLED IN DISGRACE AND YOUR FRIENDS ARE ASKING FOR YOU', 'snr': 5, 'noise': array([-0.04683405, -0.01175032,  0.0535069 , ...,  0.03289403,\n",
      "       -0.03905166, -0.05044635])}, {'type': 'noisy', 'audio': array([ 0.00831702, -0.05576256, -0.04342337, ..., -0.02727525,\n",
      "        0.02009136,  0.00733135]), 'text': 'THE KING HAS FLED IN DISGRACE AND YOUR FRIENDS ARE ASKING FOR YOU', 'snr': 2, 'noise': array([ 0.00969031, -0.0520089 , -0.04131766, ..., -0.03218858,\n",
      "        0.01554424,  0.00122783])}, {'type': 'noisy', 'audio': array([-0.01023924, -0.05350683, -0.0340989 , ...,  0.00125304,\n",
      "        0.03079853,  0.05246566]), 'text': 'THE KING HAS FLED IN DISGRACE AND YOUR FRIENDS ARE ASKING FOR YOU', 'snr': 1, 'noise': array([-0.00886595, -0.04975317, -0.03199319, ..., -0.00366029,\n",
      "        0.02625141,  0.04636215])}, {'type': 'clean', 'audio': array([-0.00485229,  0.00021362, -0.003479  , ...,  0.006073  ,\n",
      "        0.00613403,  0.0039978 ]), 'text': 'I BEGGED RUGGEDO LONG AGO TO SEND HIM AWAY BUT HE WOULD NOT DO SO', 'snr': inf, 'noise': array([0., 0., 0., ..., 0., 0., 0.])}, {'type': 'noisy', 'audio': array([ 0.0222372 , -0.01672406, -0.04033332, ..., -0.07481928,\n",
      "       -0.0216136 ,  0.01938317]), 'text': 'I BEGGED RUGGEDO LONG AGO TO SEND HIM AWAY BUT HE WOULD NOT DO SO', 'snr': 5, 'noise': array([ 0.02708949, -0.01693768, -0.03685431, ..., -0.08089228,\n",
      "       -0.02774763,  0.01538536])}, {'type': 'noisy', 'audio': array([-0.09755224,  0.01281119, -0.09752362, ...,  0.08986554,\n",
      "       -0.00891449, -0.03134702]), 'text': 'I BEGGED RUGGEDO LONG AGO TO SEND HIM AWAY BUT HE WOULD NOT DO SO', 'snr': 2, 'noise': array([-0.09269995,  0.01259757, -0.09404462, ...,  0.08379254,\n",
      "       -0.01504853, -0.03534482])}, {'type': 'noisy', 'audio': array([-0.04836117, -0.15778825,  0.11039227, ..., -0.03359407,\n",
      "        0.08766844,  0.1486177 ]), 'text': 'I BEGGED RUGGEDO LONG AGO TO SEND HIM AWAY BUT HE WOULD NOT DO SO', 'snr': 1, 'noise': array([-0.04350887, -0.15800188,  0.11387127, ..., -0.03966707,\n",
      "        0.08153441,  0.1446199 ])}, {'type': 'clean', 'audio': array([0.00112915, 0.0005188 , 0.0017395 , ..., 0.00170898, 0.00079346,\n",
      "       0.00137329]), 'text': 'I ALSO OFFERED TO HELP YOUR BROTHER TO ESCAPE BUT HE WOULD NOT GO', 'snr': inf, 'noise': array([0., 0., 0., ..., 0., 0., 0.])}, {'type': 'noisy', 'audio': array([ 0.01320014, -0.00399121,  0.02680398, ..., -0.00418748,\n",
      "        0.05015417,  0.02146406]), 'text': 'I ALSO OFFERED TO HELP YOUR BROTHER TO ESCAPE BUT HE WOULD NOT GO', 'snr': 5, 'noise': array([ 0.01207099, -0.00451   ,  0.02506447, ..., -0.00589646,\n",
      "        0.04936071,  0.02009076])}, {'type': 'noisy', 'audio': array([ 0.00465031,  0.08022547,  0.11689675, ...,  0.01417728,\n",
      "        0.00629001, -0.00618582]), 'text': 'I ALSO OFFERED TO HELP YOUR BROTHER TO ESCAPE BUT HE WOULD NOT GO', 'snr': 2, 'noise': array([ 0.00352116,  0.07970668,  0.11515724, ...,  0.01246829,\n",
      "        0.00549655, -0.00755911])}, {'type': 'noisy', 'audio': array([-0.09252647, -0.00030773,  0.00323586, ...,  0.07604391,\n",
      "       -0.04663107, -0.01753114]), 'text': 'I ALSO OFFERED TO HELP YOUR BROTHER TO ESCAPE BUT HE WOULD NOT GO', 'snr': 1, 'noise': array([-0.09365562, -0.00082653,  0.00149636, ...,  0.07433492,\n",
      "       -0.04742452, -0.01890443])}, {'type': 'clean', 'audio': array([-0.00271606,  0.00344849,  0.00183105, ...,  0.00012207,\n",
      "        0.00079346, -0.00057983]), 'text': 'HE EATS AND SLEEPS VERY STEADILY REPLIED THE NEW KING', 'snr': inf, 'noise': array([0., 0., 0., ..., 0., 0., 0.])}, {'type': 'noisy', 'audio': array([-0.02558374, -0.03477197, -0.06000017, ..., -0.01778966,\n",
      "        0.01689379,  0.02738664]), 'text': 'HE EATS AND SLEEPS VERY STEADILY REPLIED THE NEW KING', 'snr': 5, 'noise': array([-0.02286768, -0.03822046, -0.06183122, ..., -0.01791173,\n",
      "        0.01610033,  0.02796648])}, {'type': 'noisy', 'audio': array([ 0.14510782,  0.04161091,  0.01209962, ..., -0.00156333,\n",
      "        0.05270146, -0.06026689]), 'text': 'HE EATS AND SLEEPS VERY STEADILY REPLIED THE NEW KING', 'snr': 2, 'noise': array([ 0.14782388,  0.03816242,  0.01026857, ..., -0.0016854 ,\n",
      "        0.051908  , -0.05968706])}, {'type': 'noisy', 'audio': array([ 0.00439634, -0.05720867,  0.08588083, ...,  0.09069314,\n",
      "        0.14454149,  0.00282791]), 'text': 'HE EATS AND SLEEPS VERY STEADILY REPLIED THE NEW KING', 'snr': 1, 'noise': array([ 0.0071124 , -0.06065716,  0.08404978, ...,  0.09057107,\n",
      "        0.14374804,  0.00340775])}, {'type': 'clean', 'audio': array([ 0.00238037,  0.00198364, -0.00180054, ...,  0.00128174,\n",
      "        0.00189209,  0.00036621]), 'text': \"I HOPE HE DOESN'T WORK TOO HARD SAID SHAGGY\", 'snr': inf, 'noise': array([0., 0., 0., ..., 0., 0., 0.])}, {'type': 'noisy', 'audio': array([ 0.01617274,  0.02010914, -0.01217823, ...,  0.01151587,\n",
      "        0.05545782,  0.03128541]), 'text': \"I HOPE HE DOESN'T WORK TOO HARD SAID SHAGGY\", 'snr': 5, 'noise': array([ 0.01379237,  0.0181255 , -0.01037769, ...,  0.01023414,\n",
      "        0.05356573,  0.0309192 ])}, {'type': 'noisy', 'audio': array([0.0244893 , 0.00592538, 0.05387039, ..., 0.01372197, 0.07163905,\n",
      "       0.07584711]), 'text': \"I HOPE HE DOESN'T WORK TOO HARD SAID SHAGGY\", 'snr': 2, 'noise': array([0.02210893, 0.00394174, 0.05567093, ..., 0.01244023, 0.06974696,\n",
      "       0.0754809 ])}, {'type': 'noisy', 'audio': array([-0.00142611,  0.00809612, -0.07135398, ..., -0.16141005,\n",
      "        0.09419183,  0.05815533]), 'text': \"I HOPE HE DOESN'T WORK TOO HARD SAID SHAGGY\", 'snr': 1, 'noise': array([-0.00380648,  0.00611248, -0.06955345, ..., -0.16269179,\n",
      "        0.09229974,  0.05778912])}]\n"
     ]
    },
    {
     "name": "stderr",
     "output_type": "stream",
     "text": [
      "\n"
     ]
    }
   ],
   "source": [
    "# Initialize evaluator\n",
    "\n",
    "\n",
    "# Create test set\n",
    "logger.info(\"Creating test set...\")\n",
    "test_set = create_test_set(num_samples=20)\n",
    "logger.info(test_set)"
   ]
  },
  {
   "cell_type": "code",
   "execution_count": 19,
   "id": "cc2be844",
   "metadata": {},
   "outputs": [
    {
     "name": "stdout",
     "output_type": "stream",
     "text": [
      "44\n"
     ]
    }
   ],
   "source": [
    "print(len(test_set))\n",
    "sample = test_set[0]\n",
    "np.save(f\"data/audio_sample_{0}_{sample['type']}_{sample['snr']}\",sample[\"audio\"])\n",
    "audio = np.load(\"data/audio_sample_0_clean_inf.npy\")\n",
    "sf.write(\"data/test_audio.wav\",audio, 16000)"
   ]
  },
  {
   "cell_type": "code",
   "execution_count": 9,
   "id": "37e80624",
   "metadata": {},
   "outputs": [
    {
     "name": "stdout",
     "output_type": "stream",
     "text": [
      "2025-09-12 22:41:47,227 - INFO - Computing metrics...\n",
      "2025-09-12 22:41:47,228 - INFO - Computing metrics for test set\n"
     ]
    },
    {
     "name": "stderr",
     "output_type": "stream",
     "text": [
      "Computing metrics:   0%|                                                                         | 0/44 [00:00<?, ?it/s]"
     ]
    },
    {
     "name": "stdout",
     "output_type": "stream",
     "text": [
      "2025-09-12 22:41:47,230 - INFO - Processing sample 1/44\n",
      "2025-09-12 22:41:47,586 - INFO - Model confidence: 0.9816\n",
      "2025-09-12 22:41:47,587 - INFO - Computing SHAP values\n",
      "2025-09-12 22:41:47,610 - INFO - Created background samples with shape torch.Size([5, 90240])\n",
      "2025-09-12 22:41:47,612 - INFO - Background mean: 0.000008\n",
      "2025-09-12 22:41:47,614 - INFO - Background std: 0.010011\n",
      "2025-09-12 22:41:48,079 - INFO - Model output shape: torch.Size([1, 281])\n",
      "2025-09-12 22:41:48,080 - INFO - Model output mean: 13.266081\n",
      "2025-09-12 22:41:48,081 - INFO - Model output std: 1.645514\n",
      "2025-09-12 22:41:48,092 - INFO - Model output sum: 3727.768799\n",
      "2025-09-12 22:41:48,135 - INFO - Predicted IDs: tensor([[ 0,  0,  0,  0,  0,  0,  0,  0,  0,  0,  0,  0,  0,  0,  0,  0,  0,  0,\n",
      "          0,  0,  0,  0,  0,  0,  0,  0,  0,  0,  0,  8,  9,  0,  4,  4,  6, 11,\n",
      "          5,  0,  4,  4, 21,  0,  0,  5,  0,  9,  9,  0,  5, 13,  0,  7,  0, 15,\n",
      "          0,  0,  4,  4,  0,  0,  0,  0,  0, 23,  0, 13,  0, 10,  9,  0,  0,  0,\n",
      "         19,  0,  0, 10,  0,  0, 23,  0,  0, 15, 15,  0,  5,  0, 12, 12,  4,  4,\n",
      "          4,  0,  8, 20,  4,  4,  4,  4,  0,  0,  7,  0, 13,  0,  0,  0,  6,  0,\n",
      "          4,  4,  0,  0,  0,  0,  0,  0,  0,  0, 17,  0, 10, 12, 12,  0,  6,  0,\n",
      "          5, 13,  4,  4,  0, 30,  0,  0, 16,  0,  0, 10,  0, 15, 15,  0,  0,  6,\n",
      "          0,  0,  0,  5, 13, 13,  0,  0,  4,  4,  0,  0,  0,  0,  0,  0,  0,  0,\n",
      "          0,  0, 18,  0, 13,  0,  0, 10,  0,  0,  6,  5,  0, 12,  4,  4,  0,  0,\n",
      "         18,  0,  0, 10,  6, 11,  4,  4,  0,  0,  0,  0,  0,  0,  0,  5,  0,  0,\n",
      "          0, 30, 16, 16,  0,  7,  0, 15,  0,  0,  4,  4,  0,  0,  0,  0, 15,  0,\n",
      "          0,  0,  0, 16,  0,  0,  0, 19,  0,  0,  0,  0,  0, 10,  0,  0,  0, 14,\n",
      "          0,  0, 10,  0,  0,  0,  6,  0,  0,  0,  0,  0,  0, 22,  0,  0,  4,  4,\n",
      "          4,  4,  4,  4,  0,  0,  0,  0,  0,  0,  0,  0,  0,  0,  0,  0,  0,  0,\n",
      "          0,  0,  0,  0,  0,  0,  0,  0,  0,  0,  0]], device='cuda:0')\n",
      "2025-09-12 22:41:48,136 - INFO - Transcription: ['ON THE GENERAL PRINCIPLES OF ART MISTER QUILTER WRITES WITH EQUAL LUCIDITY']\n",
      "2025-09-12 22:41:48,144 - INFO - Decoded output string: <pad><pad><pad><pad><pad><pad><pad><pad><pad><pad><pad><pad><pad><pad><pad><pad><pad><pad><pad><pad><pad><pad><pad><pad><pad><pad><pad><pad><pad>ON<pad>||THE<pad>||G<pad><pad>E<pad>NN<pad>ER<pad>A<pad>L<pad><pad>||<pad><pad><pad><pad><pad>P<pad>R<pad>IN<pad><pad><pad>C<pad><pad>I<pad><pad>P<pad><pad>LL<pad>E<pad>SS|||<pad>OF||||<pad><pad>A<pad>R<pad><pad><pad>T<pad>||<pad><pad><pad><pad><pad><pad><pad><pad>M<pad>ISS<pad>T<pad>ER||<pad>Q<pad><pad>U<pad><pad>I<pad>LL<pad><pad>T<pad><pad><pad>ERR<pad><pad>||<pad><pad><pad><pad><pad><pad><pad><pad><pad><pad>W<pad>R<pad><pad>I<pad><pad>TE<pad>S||<pad><pad>W<pad><pad>ITH||<pad><pad><pad><pad><pad><pad><pad>E<pad><pad><pad>QUU<pad>A<pad>L<pad><pad>||<pad><pad><pad><pad>L<pad><pad><pad><pad>U<pad><pad><pad>C<pad><pad><pad><pad><pad>I<pad><pad><pad>D<pad><pad>I<pad><pad><pad>T<pad><pad><pad><pad><pad><pad>Y<pad><pad>||||||<pad><pad><pad><pad><pad><pad><pad><pad><pad><pad><pad><pad><pad><pad><pad><pad><pad><pad><pad><pad><pad><pad><pad><pad><pad>\n",
      "2025-09-12 22:41:48,144 - INFO - Computing SHAP values with GradientExplainer\n",
      "2025-09-12 22:59:57,492 - INFO - Raw SHAP values type: <class 'numpy.ndarray'>\n",
      "2025-09-12 22:59:57,493 - INFO - SHAP values shape after conversion: (1, 90240, 281)\n",
      "2025-09-12 22:59:57,495 - INFO - SHAP values shape: (1, 90240, 281)\n",
      "2025-09-12 22:59:57,504 - INFO - SHAP values range: [-32.5773, 30.0395]\n"
     ]
    },
    {
     "name": "stderr",
     "output_type": "stream",
     "text": [
      "Computing metrics:   2%|█▎                                                          | 1/44 [18:10<13:01:26, 1090.38s/it]"
     ]
    },
    {
     "name": "stdout",
     "output_type": "stream",
     "text": [
      "2025-09-12 22:59:57,607 - INFO - Processing sample 2/44\n",
      "2025-09-12 22:59:57,616 - INFO - Model confidence: 0.8777\n",
      "2025-09-12 22:59:57,617 - INFO - Computing SHAP values\n",
      "2025-09-12 22:59:57,618 - INFO - Created background samples with shape torch.Size([5, 90240])\n",
      "2025-09-12 22:59:57,618 - INFO - Background mean: 0.000013\n",
      "2025-09-12 22:59:57,619 - INFO - Background std: 0.010005\n",
      "2025-09-12 22:59:57,657 - INFO - Model output shape: torch.Size([1, 281])\n",
      "2025-09-12 22:59:57,658 - INFO - Model output mean: 8.835357\n",
      "2025-09-12 22:59:57,659 - INFO - Model output std: 2.657515\n",
      "2025-09-12 22:59:57,659 - INFO - Model output sum: 2482.735352\n",
      "2025-09-12 22:59:57,673 - INFO - Predicted IDs: tensor([[ 0,  0,  0,  0,  0,  0,  0,  0,  0,  0,  0,  0,  0,  0,  0,  0,  0,  0,\n",
      "          0,  0,  0,  0,  0,  0,  0,  0,  0,  0,  0,  8,  9,  0,  4,  4,  6, 11,\n",
      "          5,  0,  4,  4, 21,  0,  0,  5,  0,  9,  0,  0,  5,  0, 13,  0,  7, 15,\n",
      "         15,  0,  4,  4,  4,  0,  0,  0, 23,  0,  0, 13,  0, 10,  9,  0,  0, 19,\n",
      "          0,  0,  0, 10,  0,  0, 23,  0,  0,  0, 15, 15,  5,  0,  0, 12, 12,  4,\n",
      "          4,  0,  0,  8, 20,  0,  4,  0,  0,  0,  8, 16,  0, 13,  0,  6,  0,  0,\n",
      "          4,  4,  4,  4,  0,  0,  0,  0, 18,  0,  0,  0, 10,  6,  0,  0,  4,  6,\n",
      "         11,  5,  0,  0,  0,  0,  0, 23,  0,  0,  0,  0,  8,  0,  0,  0,  0,  6,\n",
      "          0,  0,  0,  5,  0, 13, 13,  0,  4,  4,  4,  4,  4,  0,  0,  0,  0,  0,\n",
      "         21,  0,  0, 13,  0,  0,  0,  5,  7,  0,  0,  6,  0,  0,  4,  4,  0,  0,\n",
      "         18,  0,  0, 10,  0,  0,  0,  4,  0,  0,  0, 23,  5,  5,  0,  8,  0,  0,\n",
      "          0, 23,  0,  0,  0, 15, 15,  5,  0,  4,  4,  0,  0,  0,  0, 18,  0,  0,\n",
      "          0,  8,  0,  0,  0,  4,  0,  0, 12,  0,  0,  5,  0,  5,  0,  0,  4,  6,\n",
      "          0,  5,  0,  0,  0,  4,  4, 24,  0,  0,  0,  0,  5,  0,  0,  0,  0,  0,\n",
      "          4,  4,  4,  0,  0,  0,  0,  0,  0,  0,  0,  0,  0,  0,  0,  0,  0,  0,\n",
      "          0,  0,  0,  0,  0,  0,  0,  0,  0,  0,  0]], device='cuda:0')\n",
      "2025-09-12 22:59:57,674 - INFO - Transcription: ['ON THE GENERAL PRINCIPLES OF OURT WIT THEPOTER GREAT WI PEOPLE WO SEE TE BE']\n",
      "2025-09-12 22:59:57,681 - INFO - Decoded output string: <pad><pad><pad><pad><pad><pad><pad><pad><pad><pad><pad><pad><pad><pad><pad><pad><pad><pad><pad><pad><pad><pad><pad><pad><pad><pad><pad><pad><pad>ON<pad>||THE<pad>||G<pad><pad>E<pad>N<pad><pad>E<pad>R<pad>ALL<pad>|||<pad><pad><pad>P<pad><pad>R<pad>IN<pad><pad>C<pad><pad><pad>I<pad><pad>P<pad><pad><pad>LLE<pad><pad>SS||<pad><pad>OF<pad>|<pad><pad><pad>OU<pad>R<pad>T<pad><pad>||||<pad><pad><pad><pad>W<pad><pad><pad>IT<pad><pad>|THE<pad><pad><pad><pad><pad>P<pad><pad><pad><pad>O<pad><pad><pad><pad>T<pad><pad><pad>E<pad>RR<pad>|||||<pad><pad><pad><pad><pad>G<pad><pad>R<pad><pad><pad>EA<pad><pad>T<pad><pad>||<pad><pad>W<pad><pad>I<pad><pad><pad>|<pad><pad><pad>PEE<pad>O<pad><pad><pad>P<pad><pad><pad>LLE<pad>||<pad><pad><pad><pad>W<pad><pad><pad>O<pad><pad><pad>|<pad><pad>S<pad><pad>E<pad>E<pad><pad>|T<pad>E<pad><pad><pad>||B<pad><pad><pad><pad>E<pad><pad><pad><pad><pad>|||<pad><pad><pad><pad><pad><pad><pad><pad><pad><pad><pad><pad><pad><pad><pad><pad><pad><pad><pad><pad><pad><pad><pad><pad><pad><pad>\n",
      "2025-09-12 22:59:57,682 - INFO - Computing SHAP values with GradientExplainer\n",
      "2025-09-12 23:17:49,174 - INFO - Raw SHAP values type: <class 'numpy.ndarray'>\n",
      "2025-09-12 23:17:49,175 - INFO - SHAP values shape after conversion: (1, 90240, 281)\n",
      "2025-09-12 23:17:49,177 - INFO - SHAP values shape: (1, 90240, 281)\n",
      "2025-09-12 23:17:49,188 - INFO - SHAP values range: [-12.7679, 22.6454]\n"
     ]
    },
    {
     "name": "stderr",
     "output_type": "stream",
     "text": [
      "Computing metrics:   5%|██▋                                                         | 2/44 [36:02<12:35:34, 1079.38s/it]"
     ]
    },
    {
     "name": "stdout",
     "output_type": "stream",
     "text": [
      "2025-09-12 23:17:49,292 - INFO - Processing sample 3/44\n",
      "2025-09-12 23:17:49,300 - INFO - Model confidence: 0.7867\n",
      "2025-09-12 23:17:49,301 - INFO - Computing SHAP values\n",
      "2025-09-12 23:17:49,302 - INFO - Created background samples with shape torch.Size([5, 90240])\n",
      "2025-09-12 23:17:49,303 - INFO - Background mean: 0.000003\n",
      "2025-09-12 23:17:49,304 - INFO - Background std: 0.010001\n",
      "2025-09-12 23:17:49,337 - INFO - Model output shape: torch.Size([1, 281])\n",
      "2025-09-12 23:17:49,338 - INFO - Model output mean: 7.426815\n",
      "2025-09-12 23:17:49,339 - INFO - Model output std: 2.751470\n",
      "2025-09-12 23:17:49,339 - INFO - Model output sum: 2086.935059\n",
      "2025-09-12 23:17:49,354 - INFO - Predicted IDs: tensor([[ 0,  0,  0,  0,  0,  0,  0,  0,  0,  0,  0,  0,  0,  0,  0,  0,  0,  0,\n",
      "          0,  0,  0,  0,  0,  0,  0,  0,  0,  0,  0,  8,  9,  0,  4,  4,  6, 11,\n",
      "          5,  0,  4,  0, 21,  0,  0, 10,  9,  0,  0,  0,  0,  0,  0,  0,  8, 15,\n",
      "          0,  0,  0,  0,  0,  4,  0,  0,  0,  0,  0,  0,  0, 10,  0,  0,  0,  0,\n",
      "          4,  0,  0,  0,  8,  0,  4,  0,  0,  0,  0,  8,  0,  0,  6,  0,  0,  4,\n",
      "          0,  0,  8,  0,  0,  4,  4,  0,  0,  0,  0,  7, 13,  0,  0,  6,  0,  0,\n",
      "          0,  4,  4,  0,  0,  0,  0,  0, 18,  0,  0, 10,  0,  0,  0,  0,  4,  0,\n",
      "          0,  0,  0,  0,  0,  0,  0,  0,  0,  0,  0,  0,  8,  0,  0,  0,  0,  0,\n",
      "          0,  0,  0,  0,  5,  0, 13,  0,  0,  0,  0,  0,  0,  4,  0,  0,  0,  0,\n",
      "          0,  0, 20,  0,  0,  0, 10,  0,  0,  0,  6,  0,  0,  0,  4,  4,  0,  0,\n",
      "          0,  0,  0,  0,  0,  0,  0,  4,  0,  0,  0,  0,  0,  0,  5,  0,  0,  0,\n",
      "          0,  0,  0,  0,  0,  0,  0,  0,  0,  0,  0,  0,  0,  0,  0,  0,  0,  0,\n",
      "          0,  5,  0,  0,  0,  0,  0,  4,  4,  0,  0,  0,  0,  5,  0,  0,  4,  0,\n",
      "          0,  5,  0,  0,  0,  4,  0,  0,  0,  0,  0,  5,  0,  0,  0,  0,  0,  4,\n",
      "          0,  0,  0,  0,  0,  0,  0,  0,  0,  0,  0,  0,  0,  0,  0,  0,  0,  0,\n",
      "          0,  0,  0,  0,  0,  0,  0,  0,  0,  0,  0]], device='cuda:0')\n",
      "2025-09-12 23:17:49,355 - INFO - Transcription: ['ON THE GINOL I O OT O ART WI OER FIT  EE E E E']\n",
      "2025-09-12 23:17:49,362 - INFO - Decoded output string: <pad><pad><pad><pad><pad><pad><pad><pad><pad><pad><pad><pad><pad><pad><pad><pad><pad><pad><pad><pad><pad><pad><pad><pad><pad><pad><pad><pad><pad>ON<pad>||THE<pad>|<pad>G<pad><pad>IN<pad><pad><pad><pad><pad><pad><pad>OL<pad><pad><pad><pad><pad>|<pad><pad><pad><pad><pad><pad><pad>I<pad><pad><pad><pad>|<pad><pad><pad>O<pad>|<pad><pad><pad><pad>O<pad><pad>T<pad><pad>|<pad><pad>O<pad><pad>||<pad><pad><pad><pad>AR<pad><pad>T<pad><pad><pad>||<pad><pad><pad><pad><pad>W<pad><pad>I<pad><pad><pad><pad>|<pad><pad><pad><pad><pad><pad><pad><pad><pad><pad><pad><pad><pad>O<pad><pad><pad><pad><pad><pad><pad><pad><pad>E<pad>R<pad><pad><pad><pad><pad><pad>|<pad><pad><pad><pad><pad><pad>F<pad><pad><pad>I<pad><pad><pad>T<pad><pad><pad>||<pad><pad><pad><pad><pad><pad><pad><pad><pad>|<pad><pad><pad><pad><pad><pad>E<pad><pad><pad><pad><pad><pad><pad><pad><pad><pad><pad><pad><pad><pad><pad><pad><pad><pad><pad><pad><pad><pad>E<pad><pad><pad><pad><pad>||<pad><pad><pad><pad>E<pad><pad>|<pad><pad>E<pad><pad><pad>|<pad><pad><pad><pad><pad>E<pad><pad><pad><pad><pad>|<pad><pad><pad><pad><pad><pad><pad><pad><pad><pad><pad><pad><pad><pad><pad><pad><pad><pad><pad><pad><pad><pad><pad><pad><pad><pad><pad><pad><pad>\n",
      "2025-09-12 23:17:49,362 - INFO - Computing SHAP values with GradientExplainer\n",
      "2025-09-12 23:35:37,601 - INFO - Raw SHAP values type: <class 'numpy.ndarray'>\n",
      "2025-09-12 23:35:37,602 - INFO - SHAP values shape after conversion: (1, 90240, 281)\n",
      "2025-09-12 23:35:37,604 - INFO - SHAP values shape: (1, 90240, 281)\n",
      "2025-09-12 23:35:37,614 - INFO - SHAP values range: [-17.5858, 9.6474]\n"
     ]
    },
    {
     "name": "stderr",
     "output_type": "stream",
     "text": [
      "Computing metrics:   7%|████                                                        | 3/44 [53:50<12:14:10, 1074.40s/it]"
     ]
    },
    {
     "name": "stdout",
     "output_type": "stream",
     "text": [
      "2025-09-12 23:35:37,756 - INFO - Processing sample 4/44\n",
      "2025-09-12 23:35:37,765 - INFO - Model confidence: 0.7995\n",
      "2025-09-12 23:35:37,765 - INFO - Computing SHAP values\n",
      "2025-09-12 23:35:37,767 - INFO - Created background samples with shape torch.Size([5, 90240])\n",
      "2025-09-12 23:35:37,767 - INFO - Background mean: 0.000001\n",
      "2025-09-12 23:35:37,768 - INFO - Background std: 0.010000\n",
      "2025-09-12 23:35:37,802 - INFO - Model output shape: torch.Size([1, 281])\n",
      "2025-09-12 23:35:37,802 - INFO - Model output mean: 7.144875\n",
      "2025-09-12 23:35:37,803 - INFO - Model output std: 2.463974\n",
      "2025-09-12 23:35:37,804 - INFO - Model output sum: 2007.709717\n",
      "2025-09-12 23:35:37,818 - INFO - Predicted IDs: tensor([[ 0,  0,  0,  0,  0,  0,  0,  0,  0,  0,  0,  0,  0,  0,  0,  0,  0,  0,\n",
      "          0,  0,  0,  0,  0,  0,  0,  0,  0,  0,  0,  7,  9,  0,  0,  4,  0,  0,\n",
      "          0,  0,  0,  0,  6,  0,  0,  5,  0,  0,  0,  0,  4,  0, 18,  0,  8,  9,\n",
      "          0,  0,  0,  0,  4,  0,  0,  0,  0,  0,  0,  0,  0,  0,  0,  0,  0,  0,\n",
      "          4,  0,  0,  0,  8,  0,  0,  0,  0,  0,  0,  8,  0,  0,  0,  0,  4,  0,\n",
      "          0,  0,  5,  0,  0,  0,  4,  0,  0,  0,  8,  0,  0,  0,  0,  0,  0,  0,\n",
      "          4,  4,  0,  0,  0,  0,  0,  0,  0,  0,  0,  0,  0,  0,  0,  0,  4,  0,\n",
      "          0,  0,  0,  0,  0,  0,  0,  0,  0,  0,  0,  0,  8,  0,  0,  0,  0,  0,\n",
      "          0,  0,  0,  0,  5,  0,  0,  0,  0,  0,  0,  0,  0,  0,  0,  0,  0,  0,\n",
      "          0,  0,  0, 13,  0,  0, 10,  0,  0,  0,  0,  0,  0,  4,  0,  0,  0,  0,\n",
      "          0,  0,  0,  0,  0,  0,  0,  0,  0,  0,  0,  0,  0,  0,  0,  0,  0,  0,\n",
      "          0,  0,  0,  0,  0,  0,  0,  0,  0,  0,  0,  0,  0,  0,  0,  0,  0,  0,\n",
      "          0,  0,  0,  0,  0,  0,  4,  0,  0,  0,  0,  0,  0,  0,  0,  0,  0,  0,\n",
      "          0,  0,  0,  0,  0,  4,  0,  0,  0,  0,  0,  0,  0,  0,  0,  0,  0,  4,\n",
      "          4,  0,  0,  0,  0,  0,  0,  0,  0,  0,  0,  0,  0,  0,  0,  0,  0,  0,\n",
      "          0,  0,  0,  0,  0,  0,  0,  0,  0,  0,  0]], device='cuda:0')\n",
      "2025-09-12 23:35:37,819 - INFO - Transcription: ['AN TE WON  OO E O  OERI']\n",
      "2025-09-12 23:35:37,827 - INFO - Decoded output string: <pad><pad><pad><pad><pad><pad><pad><pad><pad><pad><pad><pad><pad><pad><pad><pad><pad><pad><pad><pad><pad><pad><pad><pad><pad><pad><pad><pad><pad>AN<pad><pad>|<pad><pad><pad><pad><pad><pad>T<pad><pad>E<pad><pad><pad><pad>|<pad>W<pad>ON<pad><pad><pad><pad>|<pad><pad><pad><pad><pad><pad><pad><pad><pad><pad><pad><pad><pad>|<pad><pad><pad>O<pad><pad><pad><pad><pad><pad>O<pad><pad><pad><pad>|<pad><pad><pad>E<pad><pad><pad>|<pad><pad><pad>O<pad><pad><pad><pad><pad><pad><pad>||<pad><pad><pad><pad><pad><pad><pad><pad><pad><pad><pad><pad><pad><pad>|<pad><pad><pad><pad><pad><pad><pad><pad><pad><pad><pad><pad><pad>O<pad><pad><pad><pad><pad><pad><pad><pad><pad>E<pad><pad><pad><pad><pad><pad><pad><pad><pad><pad><pad><pad><pad><pad><pad><pad>R<pad><pad>I<pad><pad><pad><pad><pad><pad>|<pad><pad><pad><pad><pad><pad><pad><pad><pad><pad><pad><pad><pad><pad><pad><pad><pad><pad><pad><pad><pad><pad><pad><pad><pad><pad><pad><pad><pad><pad><pad><pad><pad><pad><pad><pad><pad><pad><pad><pad><pad><pad><pad><pad><pad><pad>|<pad><pad><pad><pad><pad><pad><pad><pad><pad><pad><pad><pad><pad><pad><pad><pad>|<pad><pad><pad><pad><pad><pad><pad><pad><pad><pad><pad>||<pad><pad><pad><pad><pad><pad><pad><pad><pad><pad><pad><pad><pad><pad><pad><pad><pad><pad><pad><pad><pad><pad><pad><pad><pad><pad><pad><pad>\n",
      "2025-09-12 23:35:37,827 - INFO - Computing SHAP values with GradientExplainer\n",
      "2025-09-12 23:53:21,814 - INFO - Raw SHAP values type: <class 'numpy.ndarray'>\n",
      "2025-09-12 23:53:21,815 - INFO - SHAP values shape after conversion: (1, 90240, 281)\n",
      "2025-09-12 23:53:21,817 - INFO - SHAP values shape: (1, 90240, 281)\n",
      "2025-09-12 23:53:21,827 - INFO - SHAP values range: [-11.9122, 9.2354]\n"
     ]
    },
    {
     "name": "stderr",
     "output_type": "stream",
     "text": [
      "Computing metrics:   9%|█████▎                                                    | 4/44 [1:11:34<11:53:34, 1070.37s/it]"
     ]
    },
    {
     "name": "stdout",
     "output_type": "stream",
     "text": [
      "2025-09-12 23:53:21,961 - INFO - Processing sample 5/44\n",
      "2025-09-12 23:53:21,978 - INFO - Model confidence: 0.9810\n",
      "2025-09-12 23:53:21,979 - INFO - Computing SHAP values\n",
      "2025-09-12 23:53:21,980 - INFO - Created background samples with shape torch.Size([5, 81920])\n",
      "2025-09-12 23:53:21,981 - INFO - Background mean: 0.000012\n",
      "2025-09-12 23:53:21,981 - INFO - Background std: 0.009986\n",
      "2025-09-12 23:53:22,014 - INFO - Model output shape: torch.Size([1, 255])\n",
      "2025-09-12 23:53:22,015 - INFO - Model output mean: 14.143989\n",
      "2025-09-12 23:53:22,016 - INFO - Model output std: 1.432699\n",
      "2025-09-12 23:53:22,016 - INFO - Model output sum: 3606.716797\n",
      "2025-09-12 23:53:22,030 - INFO - Predicted IDs: tensor([[ 0,  0,  0,  0,  0,  0,  0,  0,  0,  0,  0,  0,  0,  0,  0,  0,  0,  0,\n",
      "          0,  0,  0,  0,  0,  0,  0,  0,  0,  0,  0,  0,  0,  0,  7, 12, 12,  0,\n",
      "          4,  4,  0, 20, 20,  0,  8, 13, 13,  4,  4,  0,  0,  0,  0,  5,  6,  0,\n",
      "          0, 19, 11, 11,  0,  0,  0, 10,  9,  9, 21,  0,  0,  0,  0, 12,  4,  4,\n",
      "          4,  0,  0,  0,  0,  0,  0,  0,  0,  0,  6, 11,  0,  5, 22,  0,  4,  4,\n",
      "          0,  7, 13,  0,  5,  4,  4,  8, 20, 20,  4,  4,  4,  4,  0,  0,  6, 18,\n",
      "          0,  0,  0,  0,  8,  0,  0,  0,  4,  0,  0,  0, 26,  0,  0,  0,  0,  0,\n",
      "          0,  0,  0, 10, 10,  9,  9,  0, 14,  0,  0, 12, 12,  4,  4,  4,  0,  0,\n",
      "          0,  0,  0,  0,  0,  0,  0,  0,  0,  0,  0,  0,  0,  0,  0,  0,  0,  0,\n",
      "          0, 24,  0, 13,  0,  0, 10,  0,  0,  6,  0,  0, 10, 12, 11, 11,  0,  0,\n",
      "          4,  4,  0,  0,  0,  0,  0,  0,  0,  0,  0,  0,  0,  0,  0,  0,  0,  0,\n",
      "          0,  0,  0,  0,  7,  9,  0, 14,  4,  4,  4,  0,  0, 20,  0,  0,  0,  0,\n",
      "          0,  8, 13, 13,  5,  5, 10, 10, 21,  9,  9,  0,  4,  4,  4,  0,  0,  0,\n",
      "          0,  0,  0,  0,  0,  0,  0,  0,  0,  0,  0,  0,  0,  0,  0,  0,  0,  0,\n",
      "          0,  0,  0]], device='cuda:0')\n",
      "2025-09-12 23:53:22,031 - INFO - Transcription: ['AS FOR ETCHINGS THEY ARE OF TWO KINDS BRITISH AND FOREIGN']\n",
      "2025-09-12 23:53:22,037 - INFO - Decoded output string: <pad><pad><pad><pad><pad><pad><pad><pad><pad><pad><pad><pad><pad><pad><pad><pad><pad><pad><pad><pad><pad><pad><pad><pad><pad><pad><pad><pad><pad><pad><pad><pad>ASS<pad>||<pad>FF<pad>ORR||<pad><pad><pad><pad>ET<pad><pad>CHH<pad><pad><pad>INNG<pad><pad><pad><pad>S|||<pad><pad><pad><pad><pad><pad><pad><pad><pad>TH<pad>EY<pad>||<pad>AR<pad>E||OFF||||<pad><pad>TW<pad><pad><pad><pad>O<pad><pad><pad>|<pad><pad><pad>K<pad><pad><pad><pad><pad><pad><pad><pad>IINN<pad>D<pad><pad>SS|||<pad><pad><pad><pad><pad><pad><pad><pad><pad><pad><pad><pad><pad><pad><pad><pad><pad><pad><pad><pad><pad>B<pad>R<pad><pad>I<pad><pad>T<pad><pad>ISHH<pad><pad>||<pad><pad><pad><pad><pad><pad><pad><pad><pad><pad><pad><pad><pad><pad><pad><pad><pad><pad><pad><pad>AN<pad>D|||<pad><pad>F<pad><pad><pad><pad><pad>ORREEIIGNN<pad>|||<pad><pad><pad><pad><pad><pad><pad><pad><pad><pad><pad><pad><pad><pad><pad><pad><pad><pad><pad><pad><pad><pad><pad><pad>\n",
      "2025-09-12 23:53:22,037 - INFO - Computing SHAP values with GradientExplainer\n",
      "2025-09-13 00:07:47,657 - INFO - Raw SHAP values type: <class 'numpy.ndarray'>\n",
      "2025-09-13 00:07:47,657 - INFO - SHAP values shape after conversion: (1, 81920, 255)\n",
      "2025-09-13 00:07:47,660 - INFO - SHAP values shape: (1, 81920, 255)\n",
      "2025-09-13 00:07:47,668 - INFO - SHAP values range: [-12.2559, 12.6496]\n"
     ]
    },
    {
     "name": "stderr",
     "output_type": "stream",
     "text": [
      "Computing metrics:  11%|██████▋                                                    | 5/44 [1:26:00<10:47:47, 996.60s/it]"
     ]
    },
    {
     "name": "stdout",
     "output_type": "stream",
     "text": [
      "2025-09-13 00:07:47,761 - INFO - Processing sample 6/44\n",
      "2025-09-13 00:07:47,777 - INFO - Model confidence: 0.9338\n",
      "2025-09-13 00:07:47,778 - INFO - Computing SHAP values\n",
      "2025-09-13 00:07:47,779 - INFO - Created background samples with shape torch.Size([5, 81920])\n",
      "2025-09-13 00:07:47,780 - INFO - Background mean: -0.000015\n",
      "2025-09-13 00:07:47,780 - INFO - Background std: 0.010010\n",
      "2025-09-13 00:07:47,811 - INFO - Model output shape: torch.Size([1, 255])\n",
      "2025-09-13 00:07:47,812 - INFO - Model output mean: 10.578339\n",
      "2025-09-13 00:07:47,813 - INFO - Model output std: 2.454295\n",
      "2025-09-13 00:07:47,813 - INFO - Model output sum: 2697.476074\n",
      "2025-09-13 00:07:47,826 - INFO - Predicted IDs: tensor([[ 0,  0,  0,  0,  0,  0,  0,  0,  0,  0,  0,  0,  0,  0,  0,  0,  0,  0,\n",
      "          0,  0,  0,  0,  0,  0,  0,  0,  0,  0,  0,  0,  0,  0,  7, 12, 12,  0,\n",
      "          4,  4,  0, 20,  0,  0,  8, 13, 13,  0,  4,  4,  0,  0,  0,  0,  5,  0,\n",
      "          0,  0, 19,  0, 11,  0,  0,  0,  0,  7,  0,  0,  0,  0, 12,  0,  5,  0,\n",
      "          0,  4,  0,  0,  0,  0,  0,  0,  0,  0, 18,  0,  5,  0,  0,  0,  4,  0,\n",
      "          0,  7, 13, 13,  5,  5,  4,  4,  8, 20,  4,  4,  4,  0,  0,  0,  6, 18,\n",
      "          0,  0,  0,  0,  8,  0,  0,  0,  0,  4,  0,  0,  0, 26,  0,  0,  0,  0,\n",
      "          0,  0,  0, 10,  0,  9,  0, 14,  0,  0, 12, 12,  4,  4,  0,  0,  0,  0,\n",
      "          0,  0,  0,  0,  0,  0,  0,  0,  0,  0,  0,  0,  0,  0,  0,  0,  0,  0,\n",
      "          0, 18,  0,  0,  0, 10,  0,  0,  0,  6,  0,  0, 10, 12,  0,  0,  0,  0,\n",
      "          4,  0,  0,  0,  0,  0,  0,  0,  0,  0,  0,  0,  0,  0,  0,  0,  0,  0,\n",
      "          0,  0,  0,  7,  9,  0, 14, 14,  0,  4,  4,  0,  0, 20,  0,  0,  0,  0,\n",
      "          0,  0,  0,  7,  0, 13,  0, 17,  0,  0,  0,  4,  4,  0,  0,  0,  0,  0,\n",
      "          0,  0,  0,  0,  0,  0,  0,  0,  0,  0,  0,  0,  0,  0,  0,  0,  0,  0,\n",
      "          0,  0,  0]], device='cuda:0')\n",
      "2025-09-13 00:07:47,828 - INFO - Transcription: ['AS FOR ECHASE WE ARE OF TWO KINDS WITIS AND FARM']\n",
      "2025-09-13 00:07:47,834 - INFO - Decoded output string: <pad><pad><pad><pad><pad><pad><pad><pad><pad><pad><pad><pad><pad><pad><pad><pad><pad><pad><pad><pad><pad><pad><pad><pad><pad><pad><pad><pad><pad><pad><pad><pad>ASS<pad>||<pad>F<pad><pad>ORR<pad>||<pad><pad><pad><pad>E<pad><pad><pad>C<pad>H<pad><pad><pad><pad>A<pad><pad><pad><pad>S<pad>E<pad><pad>|<pad><pad><pad><pad><pad><pad><pad><pad>W<pad>E<pad><pad><pad>|<pad><pad>ARREE||OF|||<pad><pad><pad>TW<pad><pad><pad><pad>O<pad><pad><pad><pad>|<pad><pad><pad>K<pad><pad><pad><pad><pad><pad><pad>I<pad>N<pad>D<pad><pad>SS||<pad><pad><pad><pad><pad><pad><pad><pad><pad><pad><pad><pad><pad><pad><pad><pad><pad><pad><pad><pad><pad><pad><pad>W<pad><pad><pad>I<pad><pad><pad>T<pad><pad>IS<pad><pad><pad><pad>|<pad><pad><pad><pad><pad><pad><pad><pad><pad><pad><pad><pad><pad><pad><pad><pad><pad><pad><pad><pad>AN<pad>DD<pad>||<pad><pad>F<pad><pad><pad><pad><pad><pad><pad>A<pad>R<pad>M<pad><pad><pad>||<pad><pad><pad><pad><pad><pad><pad><pad><pad><pad><pad><pad><pad><pad><pad><pad><pad><pad><pad><pad><pad><pad><pad><pad><pad><pad>\n",
      "2025-09-13 00:07:47,835 - INFO - Computing SHAP values with GradientExplainer\n",
      "2025-09-13 00:22:12,148 - INFO - Raw SHAP values type: <class 'numpy.ndarray'>\n",
      "2025-09-13 00:22:12,149 - INFO - SHAP values shape after conversion: (1, 81920, 255)\n",
      "2025-09-13 00:22:12,150 - INFO - SHAP values shape: (1, 81920, 255)\n",
      "2025-09-13 00:22:12,159 - INFO - SHAP values range: [-17.0198, 21.8064]\n"
     ]
    },
    {
     "name": "stderr",
     "output_type": "stream",
     "text": [
      "Computing metrics:  14%|████████                                                   | 6/44 [1:40:25<10:02:43, 951.68s/it]"
     ]
    },
    {
     "name": "stdout",
     "output_type": "stream",
     "text": [
      "2025-09-13 00:22:12,249 - INFO - Processing sample 7/44\n",
      "2025-09-13 00:22:12,257 - INFO - Model confidence: 0.8776\n",
      "2025-09-13 00:22:12,257 - INFO - Computing SHAP values\n",
      "2025-09-13 00:22:12,259 - INFO - Created background samples with shape torch.Size([5, 81920])\n",
      "2025-09-13 00:22:12,260 - INFO - Background mean: -0.000016\n",
      "2025-09-13 00:22:12,260 - INFO - Background std: 0.009997\n",
      "2025-09-13 00:22:12,291 - INFO - Model output shape: torch.Size([1, 255])\n",
      "2025-09-13 00:22:12,292 - INFO - Model output mean: 8.624298\n",
      "2025-09-13 00:22:12,293 - INFO - Model output std: 2.555825\n",
      "2025-09-13 00:22:12,293 - INFO - Model output sum: 2199.195801\n",
      "2025-09-13 00:22:12,306 - INFO - Predicted IDs: tensor([[ 0,  0,  0,  0,  0,  0,  0,  0,  0,  0,  0,  0,  0,  0,  0,  0,  0,  0,\n",
      "          0,  0,  0,  0,  0,  0,  0,  0,  0,  0,  0,  0,  0,  0,  7, 12,  0,  0,\n",
      "          4,  4,  0, 20,  0,  0,  8, 13,  0,  0,  4,  0,  0,  0,  0,  0,  7,  0,\n",
      "          0,  4, 19,  0,  0,  0,  0,  7,  0,  9,  9,  0,  0,  0,  0,  0,  0,  0,\n",
      "          4,  4,  0,  0,  0,  0,  0,  0,  0,  0,  0,  0,  0,  0,  5,  0,  0,  0,\n",
      "          0, 13,  0,  0,  0,  4,  0,  8, 20,  0,  4,  4,  0,  0,  0,  6,  0,  0,\n",
      "          0,  0,  0,  0,  8,  0,  0,  0,  0,  0,  4,  0,  0, 26,  0,  0,  0,  0,\n",
      "          0,  0,  0, 10,  0,  9,  0, 14,  0,  0,  4,  4,  0,  0,  0,  0,  0,  0,\n",
      "          0,  0,  0,  0,  0,  0,  0,  0,  0,  0,  0,  0,  0,  0,  0,  0,  0,  0,\n",
      "          0,  0, 13,  0,  0,  5,  0,  0,  0,  6,  0,  0,  5,  0,  0,  0,  0,  4,\n",
      "          0,  0,  0,  0,  0,  0,  0,  0,  0,  0,  0,  0,  0,  0,  0,  0,  0,  0,\n",
      "          0,  0,  0,  0,  7,  9,  0,  0,  0,  0,  4,  0,  0, 24,  0,  0,  0,  0,\n",
      "          0,  0,  8,  0,  0,  0,  0,  9,  0,  0,  0,  4,  4,  0,  0,  0,  0,  0,\n",
      "          0,  0,  0,  0,  0,  0,  0,  0,  0,  0,  0,  0,  0,  0,  0,  0,  0,  0,\n",
      "          0,  0,  0]], device='cuda:0')\n",
      "2025-09-13 00:22:12,308 - INFO - Transcription: ['AS FOR A CAN ER OF TO KIND RETE AN BON']\n",
      "2025-09-13 00:22:12,314 - INFO - Decoded output string: <pad><pad><pad><pad><pad><pad><pad><pad><pad><pad><pad><pad><pad><pad><pad><pad><pad><pad><pad><pad><pad><pad><pad><pad><pad><pad><pad><pad><pad><pad><pad><pad>AS<pad><pad>||<pad>F<pad><pad>OR<pad><pad>|<pad><pad><pad><pad><pad>A<pad><pad>|C<pad><pad><pad><pad>A<pad>NN<pad><pad><pad><pad><pad><pad><pad>||<pad><pad><pad><pad><pad><pad><pad><pad><pad><pad><pad><pad>E<pad><pad><pad><pad>R<pad><pad><pad>|<pad>OF<pad>||<pad><pad><pad>T<pad><pad><pad><pad><pad><pad>O<pad><pad><pad><pad><pad>|<pad><pad>K<pad><pad><pad><pad><pad><pad><pad>I<pad>N<pad>D<pad><pad>||<pad><pad><pad><pad><pad><pad><pad><pad><pad><pad><pad><pad><pad><pad><pad><pad><pad><pad><pad><pad><pad><pad><pad><pad><pad><pad>R<pad><pad>E<pad><pad><pad>T<pad><pad>E<pad><pad><pad><pad>|<pad><pad><pad><pad><pad><pad><pad><pad><pad><pad><pad><pad><pad><pad><pad><pad><pad><pad><pad><pad><pad><pad>AN<pad><pad><pad><pad>|<pad><pad>B<pad><pad><pad><pad><pad><pad>O<pad><pad><pad><pad>N<pad><pad><pad>||<pad><pad><pad><pad><pad><pad><pad><pad><pad><pad><pad><pad><pad><pad><pad><pad><pad><pad><pad><pad><pad><pad><pad><pad><pad><pad>\n",
      "2025-09-13 00:22:12,315 - INFO - Computing SHAP values with GradientExplainer\n",
      "2025-09-13 00:36:38,924 - INFO - Raw SHAP values type: <class 'numpy.ndarray'>\n",
      "2025-09-13 00:36:38,926 - INFO - SHAP values shape after conversion: (1, 81920, 255)\n",
      "2025-09-13 00:36:38,928 - INFO - SHAP values shape: (1, 81920, 255)\n",
      "2025-09-13 00:36:38,937 - INFO - SHAP values range: [-14.1081, 19.9752]\n"
     ]
    },
    {
     "name": "stderr",
     "output_type": "stream",
     "text": [
      "Computing metrics:  16%|█████████▌                                                  | 7/44 [1:54:51<9:29:45, 923.93s/it]"
     ]
    },
    {
     "name": "stdout",
     "output_type": "stream",
     "text": [
      "2025-09-13 00:36:39,030 - INFO - Processing sample 8/44\n",
      "2025-09-13 00:36:39,038 - INFO - Model confidence: 0.8884\n",
      "2025-09-13 00:36:39,038 - INFO - Computing SHAP values\n",
      "2025-09-13 00:36:39,040 - INFO - Created background samples with shape torch.Size([5, 81920])\n",
      "2025-09-13 00:36:39,040 - INFO - Background mean: 0.000011\n",
      "2025-09-13 00:36:39,041 - INFO - Background std: 0.010001\n",
      "2025-09-13 00:36:39,072 - INFO - Model output shape: torch.Size([1, 255])\n",
      "2025-09-13 00:36:39,073 - INFO - Model output mean: 8.501251\n",
      "2025-09-13 00:36:39,074 - INFO - Model output std: 2.374199\n",
      "2025-09-13 00:36:39,074 - INFO - Model output sum: 2167.818848\n",
      "2025-09-13 00:36:39,088 - INFO - Predicted IDs: tensor([[ 0,  0,  0,  0,  0,  0,  0,  0,  0,  0,  0,  0,  0,  0,  0,  0,  0,  0,\n",
      "          0,  0,  0,  0,  0,  0,  0,  0,  0,  0,  0,  0,  0,  0,  7, 12,  0,  0,\n",
      "          4,  4,  0,  0,  0,  0,  0,  0,  0,  0,  0,  0,  0,  0,  0,  0,  7,  0,\n",
      "          0,  4, 19,  0,  0,  0,  0,  7,  0,  9,  0,  0,  0,  0,  0,  0,  0,  4,\n",
      "          0,  0,  0,  0,  0,  0,  0,  0,  0,  0,  0, 18,  0,  0,  5,  0,  0, 13,\n",
      "          0,  0,  0,  0,  4,  0,  8,  0,  0,  0,  4,  4,  0,  0,  0,  0,  0,  0,\n",
      "          0,  0,  0,  8,  0,  0,  0,  0,  0,  4,  0,  0,  0,  6,  0,  0,  0,  0,\n",
      "          0,  0, 10,  0,  9,  0,  5,  0,  0,  0,  4,  4,  0,  0,  0,  0,  0,  0,\n",
      "          0,  0,  0,  0,  0,  0,  0,  0,  0,  0,  0,  0,  0,  0,  0,  0,  0,  0,\n",
      "          0, 18,  0,  0,  0,  5, 13,  5,  0,  4,  0,  0,  5,  0,  0,  4,  4,  0,\n",
      "          0,  0,  0,  0,  0,  0,  0,  0,  0,  0,  0,  0,  0,  0,  0,  0,  0,  0,\n",
      "          0,  0,  0,  0,  0,  8,  0,  0,  0,  0,  4,  0,  0,  0, 24,  0,  0,  0,\n",
      "          0,  0,  0,  8,  0,  0,  9,  0,  0,  0,  4,  4,  0,  0,  0,  0,  0,  0,\n",
      "          0,  0,  0,  0,  0,  0,  0,  0,  0,  0,  0,  0,  0,  0,  0,  0,  0,  0,\n",
      "          0,  0,  0]], device='cuda:0')\n",
      "2025-09-13 00:36:39,089 - INFO - Transcription: ['AS A CAN WER O O TINE WERE E O BON']\n",
      "2025-09-13 00:36:39,095 - INFO - Decoded output string: <pad><pad><pad><pad><pad><pad><pad><pad><pad><pad><pad><pad><pad><pad><pad><pad><pad><pad><pad><pad><pad><pad><pad><pad><pad><pad><pad><pad><pad><pad><pad><pad>AS<pad><pad>||<pad><pad><pad><pad><pad><pad><pad><pad><pad><pad><pad><pad><pad><pad>A<pad><pad>|C<pad><pad><pad><pad>A<pad>N<pad><pad><pad><pad><pad><pad><pad>|<pad><pad><pad><pad><pad><pad><pad><pad><pad><pad><pad>W<pad><pad>E<pad><pad>R<pad><pad><pad><pad>|<pad>O<pad><pad><pad>||<pad><pad><pad><pad><pad><pad><pad><pad><pad>O<pad><pad><pad><pad><pad>|<pad><pad><pad>T<pad><pad><pad><pad><pad><pad>I<pad>N<pad>E<pad><pad><pad>||<pad><pad><pad><pad><pad><pad><pad><pad><pad><pad><pad><pad><pad><pad><pad><pad><pad><pad><pad><pad><pad><pad><pad><pad><pad>W<pad><pad><pad>ERE<pad>|<pad><pad>E<pad><pad>||<pad><pad><pad><pad><pad><pad><pad><pad><pad><pad><pad><pad><pad><pad><pad><pad><pad><pad><pad><pad><pad><pad><pad><pad>O<pad><pad><pad><pad>|<pad><pad><pad>B<pad><pad><pad><pad><pad><pad>O<pad><pad>N<pad><pad><pad>||<pad><pad><pad><pad><pad><pad><pad><pad><pad><pad><pad><pad><pad><pad><pad><pad><pad><pad><pad><pad><pad><pad><pad><pad><pad><pad><pad>\n",
      "2025-09-13 00:36:39,095 - INFO - Computing SHAP values with GradientExplainer\n",
      "2025-09-13 00:51:02,654 - INFO - Raw SHAP values type: <class 'numpy.ndarray'>\n",
      "2025-09-13 00:51:02,655 - INFO - SHAP values shape after conversion: (1, 81920, 255)\n",
      "2025-09-13 00:51:02,657 - INFO - SHAP values shape: (1, 81920, 255)\n",
      "2025-09-13 00:51:02,665 - INFO - SHAP values range: [-10.6294, 12.6505]\n"
     ]
    },
    {
     "name": "stderr",
     "output_type": "stream",
     "text": [
      "Computing metrics:  18%|██████████▉                                                 | 8/44 [2:09:15<9:02:51, 904.76s/it]"
     ]
    },
    {
     "name": "stdout",
     "output_type": "stream",
     "text": [
      "2025-09-13 00:51:02,752 - INFO - Processing sample 9/44\n",
      "2025-09-13 00:51:02,762 - INFO - Model confidence: 0.9770\n",
      "2025-09-13 00:51:02,763 - INFO - Computing SHAP values\n",
      "2025-09-13 00:51:02,764 - INFO - Created background samples with shape torch.Size([5, 89600])\n",
      "2025-09-13 00:51:02,765 - INFO - Background mean: -0.000015\n",
      "2025-09-13 00:51:02,765 - INFO - Background std: 0.009996\n",
      "2025-09-13 00:51:02,799 - INFO - Model output shape: torch.Size([1, 279])\n",
      "2025-09-13 00:51:02,800 - INFO - Model output mean: 13.732576\n",
      "2025-09-13 00:51:02,801 - INFO - Model output std: 1.488167\n",
      "2025-09-13 00:51:02,802 - INFO - Model output sum: 3831.388916\n",
      "2025-09-13 00:51:02,816 - INFO - Predicted IDs: tensor([[ 0,  0,  0,  0,  0,  0,  0,  0,  0,  0,  0,  9,  9,  5,  5,  7, 13, 13,\n",
      "          4,  4,  6, 11,  5,  4,  4, 20,  0,  0,  0,  0,  0, 10,  0,  0, 13, 13,\n",
      "          5,  5,  4,  4,  4,  4,  0,  0,  0,  0,  0,  0,  0,  0,  0,  0,  0,  0,\n",
      "          0,  0,  0,  0,  0,  0,  0,  0,  0,  0,  0,  0,  0,  0,  0,  0,  0,  0,\n",
      "          0,  0,  0,  0,  0,  0,  0,  0,  0,  7,  9, 14, 14,  4,  4,  6, 11,  5,\n",
      "          4,  4,  0,  0,  0,  8,  0, 13,  0,  9,  0,  0,  7,  0,  0, 17,  0,  0,\n",
      "          5,  9,  0,  6,  0, 12, 12,  4,  4,  4,  0,  0,  0,  0,  0,  0,  0, 20,\n",
      "          0, 13, 13,  0,  0,  5,  5,  0,  0, 14,  0,  0,  4,  4,  0,  0, 24,  0,\n",
      "         13,  0,  8,  8, 16, 21, 21, 11,  6,  6,  4,  4,  0, 11,  0,  0,  8,  0,\n",
      "         17,  5,  5,  4,  4,  0, 20, 13, 13,  8,  0, 17,  4,  4,  4,  4,  0,  0,\n",
      "          0, 10,  9,  0,  0, 14,  0,  0, 10, 10,  0,  0,  7,  7,  0,  0,  4,  4,\n",
      "          0,  0,  0,  0,  0,  0,  0,  0,  0,  0,  0,  0,  8,  9,  0,  4,  4,  6,\n",
      "         11,  5,  4,  4, 17,  0,  0,  7,  9,  9,  0,  6,  0,  0,  5, 15,  0,  0,\n",
      "          0, 24,  0,  0,  0,  0,  0,  8,  7,  0, 13, 13,  0, 14,  0,  4,  4,  4,\n",
      "          4,  0,  0,  0,  0,  0,  0,  0,  0,  0,  0,  0,  0,  0,  0,  0,  0,  0,\n",
      "          0,  0,  0,  0,  0,  0,  0,  0,  0]], device='cuda:0')\n",
      "2025-09-13 00:51:02,817 - INFO - Transcription: ['NEAR THE FIRE AND THE ORNAMENTS FRED BROUGHT HOME FROM INDIA ON THE MANTELBOARD']\n",
      "2025-09-13 00:51:02,825 - INFO - Decoded output string: <pad><pad><pad><pad><pad><pad><pad><pad><pad><pad><pad>NNEEARR||THE||F<pad><pad><pad><pad><pad>I<pad><pad>RREE||||<pad><pad><pad><pad><pad><pad><pad><pad><pad><pad><pad><pad><pad><pad><pad><pad><pad><pad><pad><pad><pad><pad><pad><pad><pad><pad><pad><pad><pad><pad><pad><pad><pad><pad><pad><pad><pad><pad><pad>ANDD||THE||<pad><pad><pad>O<pad>R<pad>N<pad><pad>A<pad><pad>M<pad><pad>EN<pad>T<pad>SS|||<pad><pad><pad><pad><pad><pad><pad>F<pad>RR<pad><pad>EE<pad><pad>D<pad><pad>||<pad><pad>B<pad>R<pad>OOUGGHTT||<pad>H<pad><pad>O<pad>MEE||<pad>FRRO<pad>M||||<pad><pad><pad>IN<pad><pad>D<pad><pad>II<pad><pad>AA<pad><pad>||<pad><pad><pad><pad><pad><pad><pad><pad><pad><pad><pad><pad>ON<pad>||THE||M<pad><pad>ANN<pad>T<pad><pad>EL<pad><pad><pad>B<pad><pad><pad><pad><pad>OA<pad>RR<pad>D<pad>||||<pad><pad><pad><pad><pad><pad><pad><pad><pad><pad><pad><pad><pad><pad><pad><pad><pad><pad><pad><pad><pad><pad><pad><pad><pad><pad>\n",
      "2025-09-13 00:51:02,825 - INFO - Computing SHAP values with GradientExplainer\n",
      "2025-09-13 01:08:40,650 - INFO - Raw SHAP values type: <class 'numpy.ndarray'>\n",
      "2025-09-13 01:08:40,651 - INFO - SHAP values shape after conversion: (1, 89600, 279)\n",
      "2025-09-13 01:08:40,653 - INFO - SHAP values shape: (1, 89600, 279)\n",
      "2025-09-13 01:08:40,663 - INFO - SHAP values range: [-35.4341, 23.1052]\n"
     ]
    },
    {
     "name": "stderr",
     "output_type": "stream",
     "text": [
      "Computing metrics:  20%|████████████▎                                               | 9/44 [2:26:53<9:15:43, 952.67s/it]"
     ]
    },
    {
     "name": "stdout",
     "output_type": "stream",
     "text": [
      "2025-09-13 01:08:40,768 - INFO - Processing sample 10/44\n",
      "2025-09-13 01:08:40,777 - INFO - Model confidence: 0.9131\n",
      "2025-09-13 01:08:40,778 - INFO - Computing SHAP values\n",
      "2025-09-13 01:08:40,780 - INFO - Created background samples with shape torch.Size([5, 89600])\n",
      "2025-09-13 01:08:40,781 - INFO - Background mean: -0.000022\n",
      "2025-09-13 01:08:40,781 - INFO - Background std: 0.010007\n",
      "2025-09-13 01:08:40,816 - INFO - Model output shape: torch.Size([1, 279])\n",
      "2025-09-13 01:08:40,817 - INFO - Model output mean: 10.263146\n",
      "2025-09-13 01:08:40,817 - INFO - Model output std: 2.899133\n",
      "2025-09-13 01:08:40,818 - INFO - Model output sum: 2863.417969\n",
      "2025-09-13 01:08:40,833 - INFO - Predicted IDs: tensor([[ 0,  0,  0,  0,  0,  0,  0,  0,  0,  0, 11,  0,  0,  5,  0,  0, 13,  0,\n",
      "          0,  0,  0,  0,  0,  0,  0, 23,  0,  0,  0,  0,  0,  0, 10,  0,  0,  0,\n",
      "          0, 15,  5,  0,  0,  4,  4,  0,  0,  0,  0,  0,  0,  0,  0,  0,  0,  0,\n",
      "          0,  0,  0,  0,  0,  0,  0,  0,  0,  0,  0,  0,  0,  0,  0,  0,  0,  0,\n",
      "          0,  0,  0,  0,  0,  0,  0,  0,  0,  7,  9, 14,  0,  4,  0,  6, 11,  5,\n",
      "          4,  4,  0,  0,  0,  8,  0, 13,  0,  9,  0,  0,  7,  0,  0, 17,  0,  0,\n",
      "          5,  9,  0,  6,  0, 12, 12,  4,  0,  0,  0,  0,  0,  0,  0,  0,  0, 20,\n",
      "          0, 13,  0,  0,  0,  5,  7,  0,  0, 14,  0,  0,  4,  4,  0,  0, 24,  0,\n",
      "         13,  0,  8, 16,  0, 21, 11,  0,  6,  4,  4,  0, 11,  0,  0,  0,  8,  0,\n",
      "         17,  5,  0,  0,  4,  4, 20, 13,  0,  8, 17,  0,  4,  4,  4,  4,  4,  0,\n",
      "          0, 10,  9,  0,  0, 14,  0,  0, 10, 10,  0,  0,  7,  0,  0,  0,  4,  4,\n",
      "          0,  0,  0,  0,  0,  0,  0,  0,  0,  0,  0,  0,  0,  8,  9,  4,  4,  6,\n",
      "          4,  4,  4,  4,  9,  0,  0, 10,  0,  0,  0, 21,  0,  0,  5, 13,  0,  0,\n",
      "          4, 24,  0,  0,  0,  0,  0,  8,  0,  0, 13,  0, 14,  0,  4,  0,  0,  0,\n",
      "          0,  0,  0,  0,  0,  0,  0,  0,  0,  0,  0,  0,  0,  0,  0,  0,  0,  0,\n",
      "          0,  0,  0,  0,  0,  0,  0,  0,  0]], device='cuda:0')\n",
      "2025-09-13 01:08:40,834 - INFO - Transcription: ['HERPILE AND THE ORNAMENTS FREAD BROUGHT HOME FROM INDIA ON T NIGER BORD']\n",
      "2025-09-13 01:08:40,841 - INFO - Decoded output string: <pad><pad><pad><pad><pad><pad><pad><pad><pad><pad>H<pad><pad>E<pad><pad>R<pad><pad><pad><pad><pad><pad><pad><pad>P<pad><pad><pad><pad><pad><pad>I<pad><pad><pad><pad>LE<pad><pad>||<pad><pad><pad><pad><pad><pad><pad><pad><pad><pad><pad><pad><pad><pad><pad><pad><pad><pad><pad><pad><pad><pad><pad><pad><pad><pad><pad><pad><pad><pad><pad><pad><pad><pad><pad><pad><pad><pad>AND<pad>|<pad>THE||<pad><pad><pad>O<pad>R<pad>N<pad><pad>A<pad><pad>M<pad><pad>EN<pad>T<pad>SS|<pad><pad><pad><pad><pad><pad><pad><pad><pad>F<pad>R<pad><pad><pad>EA<pad><pad>D<pad><pad>||<pad><pad>B<pad>R<pad>OU<pad>GH<pad>T||<pad>H<pad><pad><pad>O<pad>ME<pad><pad>||FR<pad>OM<pad>|||||<pad><pad>IN<pad><pad>D<pad><pad>II<pad><pad>A<pad><pad><pad>||<pad><pad><pad><pad><pad><pad><pad><pad><pad><pad><pad><pad><pad>ON||T||||N<pad><pad>I<pad><pad><pad>G<pad><pad>ER<pad><pad>|B<pad><pad><pad><pad><pad>O<pad><pad>R<pad>D<pad>|<pad><pad><pad><pad><pad><pad><pad><pad><pad><pad><pad><pad><pad><pad><pad><pad><pad><pad><pad><pad><pad><pad><pad><pad><pad><pad><pad><pad><pad><pad>\n",
      "2025-09-13 01:08:40,841 - INFO - Computing SHAP values with GradientExplainer\n",
      "2025-09-13 01:26:16,101 - INFO - Raw SHAP values type: <class 'numpy.ndarray'>\n",
      "2025-09-13 01:26:16,102 - INFO - SHAP values shape after conversion: (1, 89600, 279)\n",
      "2025-09-13 01:26:16,104 - INFO - SHAP values shape: (1, 89600, 279)\n",
      "2025-09-13 01:26:16,114 - INFO - SHAP values range: [-28.3960, 40.3919]\n"
     ]
    },
    {
     "name": "stderr",
     "output_type": "stream",
     "text": [
      "Computing metrics:  23%|█████████████▍                                             | 10/44 [2:44:28<9:17:49, 984.40s/it]"
     ]
    },
    {
     "name": "stdout",
     "output_type": "stream",
     "text": [
      "2025-09-13 01:26:16,220 - INFO - Processing sample 11/44\n",
      "2025-09-13 01:26:16,229 - INFO - Model confidence: 0.8692\n",
      "2025-09-13 01:26:16,230 - INFO - Computing SHAP values\n",
      "2025-09-13 01:26:16,231 - INFO - Created background samples with shape torch.Size([5, 89600])\n",
      "2025-09-13 01:26:16,231 - INFO - Background mean: -0.000030\n",
      "2025-09-13 01:26:16,232 - INFO - Background std: 0.010005\n",
      "2025-09-13 01:26:16,266 - INFO - Model output shape: torch.Size([1, 279])\n",
      "2025-09-13 01:26:16,267 - INFO - Model output mean: 8.877180\n",
      "2025-09-13 01:26:16,268 - INFO - Model output std: 2.979245\n",
      "2025-09-13 01:26:16,268 - INFO - Model output sum: 2476.733154\n",
      "2025-09-13 01:26:16,283 - INFO - Predicted IDs: tensor([[ 0,  0,  0,  0,  0,  0,  0,  0,  0,  0, 11,  0,  5,  0,  0, 13,  0,  0,\n",
      "          0,  0,  0,  0,  0,  0,  0, 23,  0,  0,  0,  0,  0,  0,  0, 10,  0,  0,\n",
      "          0,  0,  0,  0,  4,  4,  0,  0,  0,  0,  0,  0,  0,  0,  0,  0,  0,  0,\n",
      "          0,  0,  0,  0,  0,  0,  0,  0,  0,  0,  0,  0,  0,  0,  0,  0,  0,  0,\n",
      "          0,  0,  0,  0,  0,  0,  0,  0,  0,  7,  9,  0,  0,  4,  0,  6, 11,  5,\n",
      "          0,  4,  4,  0,  0,  0,  8, 13,  0,  9,  0,  0,  7,  0,  0, 17,  0,  0,\n",
      "          5,  9,  6,  4,  0,  0,  0,  0,  0,  0,  0,  0,  0,  0,  0,  0,  0,  0,\n",
      "         24,  0,  0,  0,  5,  0,  0,  0,  0, 14,  0,  0,  4,  0,  0,  0,  0, 24,\n",
      "         13,  0,  8, 16,  0,  0, 11,  6,  0,  0,  4,  0,  0,  0,  0,  8,  0,  9,\n",
      "          0,  0,  0,  0,  4,  0,  0,  0,  0,  0,  8,  0,  0,  0,  0, 20,  0,  0,\n",
      "          0, 10,  0,  0,  0, 21,  0,  0,  0,  0, 16,  0, 13,  0,  0,  4,  4,  4,\n",
      "          0,  0,  0,  0,  0,  0,  0,  0,  0,  0,  0,  0,  0,  7,  9,  0,  0,  0,\n",
      "          0,  0,  0,  4,  0, 17,  0,  5,  9,  0,  0,  6,  0,  0,  0,  7,  0,  0,\n",
      "          0, 24,  0,  0,  0, 15,  0,  5,  0,  0,  4,  4,  4,  0,  0,  0,  0,  0,\n",
      "          0,  0,  0,  0,  0,  0,  0,  0,  0,  0,  0,  0,  0,  0,  0,  0,  0,  0,\n",
      "          0,  0,  0,  0,  0,  0,  0,  0,  0]], device='cuda:0')\n",
      "2025-09-13 01:26:16,284 - INFO - Transcription: ['HERPI AN THE ORNAMENT BED BROUHT ON OFIGUR AN MENTABLE']\n",
      "2025-09-13 01:26:16,292 - INFO - Decoded output string: <pad><pad><pad><pad><pad><pad><pad><pad><pad><pad>H<pad>E<pad><pad>R<pad><pad><pad><pad><pad><pad><pad><pad><pad>P<pad><pad><pad><pad><pad><pad><pad>I<pad><pad><pad><pad><pad><pad>||<pad><pad><pad><pad><pad><pad><pad><pad><pad><pad><pad><pad><pad><pad><pad><pad><pad><pad><pad><pad><pad><pad><pad><pad><pad><pad><pad><pad><pad><pad><pad><pad><pad><pad><pad><pad><pad><pad><pad>AN<pad><pad>|<pad>THE<pad>||<pad><pad><pad>OR<pad>N<pad><pad>A<pad><pad>M<pad><pad>ENT|<pad><pad><pad><pad><pad><pad><pad><pad><pad><pad><pad><pad><pad><pad>B<pad><pad><pad>E<pad><pad><pad><pad>D<pad><pad>|<pad><pad><pad><pad>BR<pad>OU<pad><pad>HT<pad><pad>|<pad><pad><pad><pad>O<pad>N<pad><pad><pad><pad>|<pad><pad><pad><pad><pad>O<pad><pad><pad><pad>F<pad><pad><pad>I<pad><pad><pad>G<pad><pad><pad><pad>U<pad>R<pad><pad>|||<pad><pad><pad><pad><pad><pad><pad><pad><pad><pad><pad><pad><pad>AN<pad><pad><pad><pad><pad><pad>|<pad>M<pad>EN<pad><pad>T<pad><pad><pad>A<pad><pad><pad>B<pad><pad><pad>L<pad>E<pad><pad>|||<pad><pad><pad><pad><pad><pad><pad><pad><pad><pad><pad><pad><pad><pad><pad><pad><pad><pad><pad><pad><pad><pad><pad><pad><pad><pad><pad><pad><pad><pad><pad><pad>\n",
      "2025-09-13 01:26:16,292 - INFO - Computing SHAP values with GradientExplainer\n",
      "2025-09-13 01:43:56,335 - INFO - Raw SHAP values type: <class 'numpy.ndarray'>\n",
      "2025-09-13 01:43:56,336 - INFO - SHAP values shape after conversion: (1, 89600, 279)\n",
      "2025-09-13 01:43:56,338 - INFO - SHAP values shape: (1, 89600, 279)\n",
      "2025-09-13 01:43:56,348 - INFO - SHAP values range: [-14.0138, 17.2427]\n"
     ]
    },
    {
     "name": "stderr",
     "output_type": "stream",
     "text": [
      "Computing metrics:  25%|██████████████▌                                           | 11/44 [3:02:09<9:14:11, 1007.61s/it]"
     ]
    },
    {
     "name": "stdout",
     "output_type": "stream",
     "text": [
      "2025-09-13 01:43:56,453 - INFO - Processing sample 12/44\n",
      "2025-09-13 01:43:56,461 - INFO - Model confidence: 0.8620\n",
      "2025-09-13 01:43:56,462 - INFO - Computing SHAP values\n",
      "2025-09-13 01:43:56,463 - INFO - Created background samples with shape torch.Size([5, 89600])\n",
      "2025-09-13 01:43:56,464 - INFO - Background mean: -0.000002\n",
      "2025-09-13 01:43:56,464 - INFO - Background std: 0.009997\n",
      "2025-09-13 01:43:56,499 - INFO - Model output shape: torch.Size([1, 279])\n",
      "2025-09-13 01:43:56,500 - INFO - Model output mean: 8.586040\n",
      "2025-09-13 01:43:56,501 - INFO - Model output std: 2.898659\n",
      "2025-09-13 01:43:56,501 - INFO - Model output sum: 2395.505371\n",
      "2025-09-13 01:43:56,517 - INFO - Predicted IDs: tensor([[ 0,  0,  0,  0,  0,  0,  0,  0,  0,  0,  0,  0,  0,  5,  0,  0,  0, 13,\n",
      "          0,  5,  5,  0,  0,  0,  0,  0,  0,  0,  0,  0,  0,  0,  0, 10,  0,  0,\n",
      "          0,  0,  0,  0,  4,  0,  0,  0,  0,  0,  0,  0,  0,  0,  0,  0,  0,  0,\n",
      "          0,  0,  0,  0,  0,  0,  0,  0,  0,  0,  0,  0,  0,  0,  0,  0,  0,  0,\n",
      "          0,  0,  0,  0,  0,  0,  0,  0,  0,  0,  9,  0,  0,  4,  6,  0, 11,  5,\n",
      "          0,  4,  0,  0,  0,  0,  8, 13,  0,  9,  0,  0,  7,  0,  0, 17,  0,  0,\n",
      "          5,  9,  0,  0,  0,  0,  0,  0,  0,  0,  0,  0,  0,  0,  0,  0,  0,  0,\n",
      "          0,  0,  0,  0,  5,  0,  0,  0, 14,  0,  0,  0,  4,  0,  0,  0,  0,  0,\n",
      "          0,  0,  8,  0,  0,  0,  0,  0,  0,  0,  0,  0,  0,  0,  0,  8,  0,  9,\n",
      "          0,  0,  0,  0,  4,  0,  0,  0,  0,  8,  9,  0,  0,  4,  0,  0, 20,  0,\n",
      "          0, 10,  0,  0,  0, 21,  0,  0, 10,  0,  0,  0,  7, 13,  0,  0,  4,  4,\n",
      "          0,  0,  0,  0,  0,  0,  0,  0,  0,  0,  0,  0,  0,  8,  9,  0,  0,  7,\n",
      "          0,  0,  0,  4,  0, 17,  7,  0,  0,  0,  0,  0,  0,  0,  0,  0,  0,  4,\n",
      "          0, 24,  0,  0,  0,  0,  0,  0,  0,  0,  4,  0,  0,  0,  0,  0,  0,  0,\n",
      "          0,  0,  0,  0,  0,  0,  0,  0,  0,  0,  0,  0,  0,  0,  0,  0,  0,  0,\n",
      "          0,  0,  0,  0,  0,  0,  0,  0,  0]], device='cuda:0')\n",
      "2025-09-13 01:43:56,519 - INFO - Transcription: ['EREI N THE ORNAMENED OON ON FIGIAR ONA MA B']\n",
      "2025-09-13 01:43:56,530 - INFO - Decoded output string: <pad><pad><pad><pad><pad><pad><pad><pad><pad><pad><pad><pad><pad>E<pad><pad><pad>R<pad>EE<pad><pad><pad><pad><pad><pad><pad><pad><pad><pad><pad><pad>I<pad><pad><pad><pad><pad><pad>|<pad><pad><pad><pad><pad><pad><pad><pad><pad><pad><pad><pad><pad><pad><pad><pad><pad><pad><pad><pad><pad><pad><pad><pad><pad><pad><pad><pad><pad><pad><pad><pad><pad><pad><pad><pad><pad><pad><pad><pad><pad>N<pad><pad>|T<pad>HE<pad>|<pad><pad><pad><pad>OR<pad>N<pad><pad>A<pad><pad>M<pad><pad>EN<pad><pad><pad><pad><pad><pad><pad><pad><pad><pad><pad><pad><pad><pad><pad><pad><pad><pad><pad><pad>E<pad><pad><pad>D<pad><pad><pad>|<pad><pad><pad><pad><pad><pad><pad>O<pad><pad><pad><pad><pad><pad><pad><pad><pad><pad><pad><pad>O<pad>N<pad><pad><pad><pad>|<pad><pad><pad><pad>ON<pad><pad>|<pad><pad>F<pad><pad>I<pad><pad><pad>G<pad><pad>I<pad><pad><pad>AR<pad><pad>||<pad><pad><pad><pad><pad><pad><pad><pad><pad><pad><pad><pad><pad>ON<pad><pad>A<pad><pad><pad>|<pad>MA<pad><pad><pad><pad><pad><pad><pad><pad><pad><pad>|<pad>B<pad><pad><pad><pad><pad><pad><pad><pad>|<pad><pad><pad><pad><pad><pad><pad><pad><pad><pad><pad><pad><pad><pad><pad><pad><pad><pad><pad><pad><pad><pad><pad><pad><pad><pad><pad><pad><pad><pad><pad><pad><pad><pad>\n",
      "2025-09-13 01:43:56,531 - INFO - Computing SHAP values with GradientExplainer\n",
      "2025-09-13 02:01:32,816 - INFO - Raw SHAP values type: <class 'numpy.ndarray'>\n",
      "2025-09-13 02:01:32,816 - INFO - SHAP values shape after conversion: (1, 89600, 279)\n",
      "2025-09-13 02:01:32,819 - INFO - SHAP values shape: (1, 89600, 279)\n",
      "2025-09-13 02:01:32,829 - INFO - SHAP values range: [-26.3473, 18.0117]\n"
     ]
    },
    {
     "name": "stderr",
     "output_type": "stream",
     "text": [
      "Computing metrics:  27%|███████████████▊                                          | 12/44 [3:19:45<9:05:19, 1022.48s/it]"
     ]
    },
    {
     "name": "stdout",
     "output_type": "stream",
     "text": [
      "2025-09-13 02:01:32,933 - INFO - Processing sample 13/44\n",
      "2025-09-13 02:01:32,944 - INFO - Model confidence: 0.9840\n",
      "2025-09-13 02:01:32,945 - INFO - Computing SHAP values\n",
      "2025-09-13 02:01:32,946 - INFO - Created background samples with shape torch.Size([5, 86080])\n",
      "2025-09-13 02:01:32,947 - INFO - Background mean: 0.000010\n",
      "2025-09-13 02:01:32,947 - INFO - Background std: 0.009991\n",
      "2025-09-13 02:01:32,981 - INFO - Model output shape: torch.Size([1, 268])\n",
      "2025-09-13 02:01:32,982 - INFO - Model output mean: 14.471818\n",
      "2025-09-13 02:01:32,983 - INFO - Model output std: 1.340232\n",
      "2025-09-13 02:01:32,983 - INFO - Model output sum: 3878.447266\n",
      "2025-09-13 02:01:32,998 - INFO - Predicted IDs: tensor([[ 0,  0,  0,  0,  0,  0,  0,  0,  0,  0,  0,  0,  0,  0,  0,  0,  0,  0,\n",
      "          0,  0,  0,  0,  0,  0,  0,  0,  0,  0,  0,  0,  0,  0,  0,  0,  8,  9,\n",
      "          0,  0,  0,  0, 15,  0,  0,  0,  0, 22,  4,  4,  4,  4,  4,  4,  0,  0,\n",
      "          0,  0,  0,  0,  0,  0,  0,  0, 16,  9,  0,  0,  0,  0,  0, 20,  0,  0,\n",
      "          0,  8,  0, 13,  0,  0,  6,  0,  0, 16, 16,  9,  0,  7,  6,  6,  5,  5,\n",
      "          0,  0,  0, 15,  0,  0,  0, 22,  4,  4,  4,  4,  4,  4,  0,  0,  0,  0,\n",
      "          0,  0,  0,  0,  0,  0,  0,  0,  0,  0,  0, 11, 11,  0,  0, 10, 12, 12,\n",
      "          4,  4,  4,  0,  0,  0,  0,  0,  0,  8, 18, 18,  0,  9,  0,  4,  4,  4,\n",
      "          0,  0, 18,  0,  0,  0,  8,  8, 13, 13,  0, 26,  0,  0,  4,  4,  0,  0,\n",
      "          0,  0,  0,  0,  0,  0,  0,  0,  9,  0,  0,  5,  0, 25,  0,  5, 13, 13,\n",
      "          4,  4,  4,  0,  0,  0, 14,  0,  0,  0,  0,  0,  0,  8,  8,  5,  5,  0,\n",
      "          0, 12, 12, 12,  4,  4,  4,  4,  4,  0,  0,  0,  0, 21,  0,  0,  0,  0,\n",
      "          0,  5,  0,  6,  0,  4,  4,  4,  0,  0,  0,  0,  0, 21,  0,  0,  8,  0,\n",
      "          0,  0,  0,  8, 14, 14,  0,  4,  4,  4,  0,  0,  0,  0,  0,  0,  0,  0,\n",
      "          0,  0,  0,  0,  0,  0,  0,  0,  0,  0,  0,  0,  0,  0,  0,  0]],\n",
      "       device='cuda:0')\n",
      "2025-09-13 02:01:32,999 - INFO - Transcription: ['ONLY UNFORTUNATELY HIS OWN WORK NEVER DOES GET GOOD']\n",
      "2025-09-13 02:01:33,007 - INFO - Decoded output string: <pad><pad><pad><pad><pad><pad><pad><pad><pad><pad><pad><pad><pad><pad><pad><pad><pad><pad><pad><pad><pad><pad><pad><pad><pad><pad><pad><pad><pad><pad><pad><pad><pad><pad>ON<pad><pad><pad><pad>L<pad><pad><pad><pad>Y||||||<pad><pad><pad><pad><pad><pad><pad><pad><pad><pad>UN<pad><pad><pad><pad><pad>F<pad><pad><pad>O<pad>R<pad><pad>T<pad><pad>UUN<pad>ATTEE<pad><pad><pad>L<pad><pad><pad>Y||||||<pad><pad><pad><pad><pad><pad><pad><pad><pad><pad><pad><pad><pad><pad><pad>HH<pad><pad>ISS|||<pad><pad><pad><pad><pad><pad>OWW<pad>N<pad>|||<pad><pad>W<pad><pad><pad>OORR<pad>K<pad><pad>||<pad><pad><pad><pad><pad><pad><pad><pad><pad><pad>N<pad><pad>E<pad>V<pad>ERR|||<pad><pad><pad>D<pad><pad><pad><pad><pad><pad>OOEE<pad><pad>SSS|||||<pad><pad><pad><pad>G<pad><pad><pad><pad><pad>E<pad>T<pad>|||<pad><pad><pad><pad><pad>G<pad><pad>O<pad><pad><pad><pad>ODD<pad>|||<pad><pad><pad><pad><pad><pad><pad><pad><pad><pad><pad><pad><pad><pad><pad><pad><pad><pad><pad><pad><pad><pad><pad><pad>\n",
      "2025-09-13 02:01:33,007 - INFO - Computing SHAP values with GradientExplainer\n",
      "2025-09-13 02:18:16,497 - INFO - Raw SHAP values type: <class 'numpy.ndarray'>\n",
      "2025-09-13 02:18:16,498 - INFO - SHAP values shape after conversion: (1, 86080, 268)\n",
      "2025-09-13 02:18:16,500 - INFO - SHAP values shape: (1, 86080, 268)\n",
      "2025-09-13 02:18:16,509 - INFO - SHAP values range: [-6.6807, 5.9376]\n"
     ]
    },
    {
     "name": "stderr",
     "output_type": "stream",
     "text": [
      "Computing metrics:  30%|█████████████████▏                                        | 13/44 [3:36:29<8:45:20, 1016.78s/it]"
     ]
    },
    {
     "name": "stdout",
     "output_type": "stream",
     "text": [
      "2025-09-13 02:18:16,611 - INFO - Processing sample 14/44\n",
      "2025-09-13 02:18:16,620 - INFO - Model confidence: 0.9262\n",
      "2025-09-13 02:18:16,621 - INFO - Computing SHAP values\n",
      "2025-09-13 02:18:16,622 - INFO - Created background samples with shape torch.Size([5, 86080])\n",
      "2025-09-13 02:18:16,623 - INFO - Background mean: 0.000008\n",
      "2025-09-13 02:18:16,623 - INFO - Background std: 0.009982\n",
      "2025-09-13 02:18:16,682 - INFO - Model output shape: torch.Size([1, 268])\n",
      "2025-09-13 02:18:16,683 - INFO - Model output mean: 9.575314\n",
      "2025-09-13 02:18:16,684 - INFO - Model output std: 2.490049\n",
      "2025-09-13 02:18:16,684 - INFO - Model output sum: 2566.184082\n",
      "2025-09-13 02:18:16,699 - INFO - Predicted IDs: tensor([[ 0,  0,  0,  0,  0,  0,  0,  0,  0,  0,  0,  0,  0,  0,  0,  0,  0,  0,\n",
      "          0,  0,  0,  0,  0,  0,  0,  0,  0,  0,  0,  0,  0,  0,  0,  0,  8,  9,\n",
      "          0,  0,  0,  0,  0, 15,  0,  0,  0, 22, 22,  4,  4,  4,  4,  4,  0,  0,\n",
      "          0,  0,  0,  0,  0,  0,  0,  0, 10,  9,  0,  0,  0,  0,  0, 18,  0,  0,\n",
      "          0,  0,  8, 13,  0,  0,  6,  0,  0, 16,  0,  9,  0,  0,  7,  6,  0,  5,\n",
      "          0,  0,  0, 15,  0,  0,  0, 22,  0,  0,  4,  4,  4,  4,  0,  0,  0,  0,\n",
      "          0,  0,  0,  0,  0,  0,  0,  0,  0,  0,  0,  0,  0,  0, 10,  6,  0,  0,\n",
      "          0,  4,  0,  0,  0,  0,  0,  0,  0,  8,  0,  0,  0,  0,  0,  0,  0,  4,\n",
      "          4,  0, 18,  0,  0,  0,  8,  0, 13,  0,  0,  0,  4,  0,  0,  0,  0,  0,\n",
      "          0,  0,  0,  0,  0,  0,  0,  0,  0,  0,  5,  0,  0, 25,  0,  0,  5, 13,\n",
      "          0,  0,  4,  4,  0,  0, 25,  0,  0,  0,  0,  5,  0,  0,  0, 13,  0, 22,\n",
      "          0,  0,  0,  4,  4,  0,  0,  0,  0,  0,  0,  0,  0,  0, 21,  0,  0,  0,\n",
      "          0,  5,  0,  6,  0,  0,  4,  4,  0,  0,  0,  0,  0, 21,  0,  0,  8,  0,\n",
      "          0,  0,  0,  8,  0, 14,  0,  0,  4,  0,  0,  0,  0,  0,  0,  0,  0,  0,\n",
      "          0,  0,  0,  0,  0,  0,  0,  0,  0,  0,  0,  0,  0,  0,  0,  0]],\n",
      "       device='cuda:0')\n",
      "2025-09-13 02:18:16,700 - INFO - Transcription: ['ONLY INWORTUNATELY IT O WOR EVER VERY GET GOOD']\n",
      "2025-09-13 02:18:16,708 - INFO - Decoded output string: <pad><pad><pad><pad><pad><pad><pad><pad><pad><pad><pad><pad><pad><pad><pad><pad><pad><pad><pad><pad><pad><pad><pad><pad><pad><pad><pad><pad><pad><pad><pad><pad><pad><pad>ON<pad><pad><pad><pad><pad>L<pad><pad><pad>YY|||||<pad><pad><pad><pad><pad><pad><pad><pad><pad><pad>IN<pad><pad><pad><pad><pad>W<pad><pad><pad><pad>OR<pad><pad>T<pad><pad>U<pad>N<pad><pad>AT<pad>E<pad><pad><pad>L<pad><pad><pad>Y<pad><pad>||||<pad><pad><pad><pad><pad><pad><pad><pad><pad><pad><pad><pad><pad><pad><pad><pad><pad><pad>IT<pad><pad><pad>|<pad><pad><pad><pad><pad><pad><pad>O<pad><pad><pad><pad><pad><pad><pad>||<pad>W<pad><pad><pad>O<pad>R<pad><pad><pad>|<pad><pad><pad><pad><pad><pad><pad><pad><pad><pad><pad><pad><pad><pad><pad>E<pad><pad>V<pad><pad>ER<pad><pad>||<pad><pad>V<pad><pad><pad><pad>E<pad><pad><pad>R<pad>Y<pad><pad><pad>||<pad><pad><pad><pad><pad><pad><pad><pad><pad>G<pad><pad><pad><pad>E<pad>T<pad><pad>||<pad><pad><pad><pad><pad>G<pad><pad>O<pad><pad><pad><pad>O<pad>D<pad><pad>|<pad><pad><pad><pad><pad><pad><pad><pad><pad><pad><pad><pad><pad><pad><pad><pad><pad><pad><pad><pad><pad><pad><pad><pad><pad>\n",
      "2025-09-13 02:18:16,708 - INFO - Computing SHAP values with GradientExplainer\n",
      "2025-09-13 02:35:01,436 - INFO - Raw SHAP values type: <class 'numpy.ndarray'>\n",
      "2025-09-13 02:35:01,436 - INFO - SHAP values shape after conversion: (1, 86080, 268)\n",
      "2025-09-13 02:35:01,438 - INFO - SHAP values shape: (1, 86080, 268)\n",
      "2025-09-13 02:35:01,448 - INFO - SHAP values range: [-17.3448, 12.7516]\n"
     ]
    },
    {
     "name": "stderr",
     "output_type": "stream",
     "text": [
      "Computing metrics:  32%|██████████████████▍                                       | 14/44 [3:53:14<8:26:36, 1013.20s/it]"
     ]
    },
    {
     "name": "stdout",
     "output_type": "stream",
     "text": [
      "2025-09-13 02:35:01,545 - INFO - Processing sample 15/44\n",
      "2025-09-13 02:35:01,554 - INFO - Model confidence: 0.8805\n",
      "2025-09-13 02:35:01,554 - INFO - Computing SHAP values\n",
      "2025-09-13 02:35:01,556 - INFO - Created background samples with shape torch.Size([5, 86080])\n",
      "2025-09-13 02:35:01,556 - INFO - Background mean: -0.000006\n",
      "2025-09-13 02:35:01,557 - INFO - Background std: 0.010033\n",
      "2025-09-13 02:35:01,590 - INFO - Model output shape: torch.Size([1, 268])\n",
      "2025-09-13 02:35:01,591 - INFO - Model output mean: 8.696639\n",
      "2025-09-13 02:35:01,592 - INFO - Model output std: 2.600076\n",
      "2025-09-13 02:35:01,593 - INFO - Model output sum: 2330.699219\n",
      "2025-09-13 02:35:01,607 - INFO - Predicted IDs: tensor([[ 0,  0,  0,  0,  0,  0,  0,  0,  0,  0,  0,  0,  0,  0,  0,  0,  0,  0,\n",
      "          0,  0,  0,  0,  0,  0,  0,  0,  0,  0,  0,  0,  0,  0,  0,  0,  8,  9,\n",
      "          9,  0,  0,  0,  0, 15,  0,  0, 22,  0,  0,  4,  4,  4,  4,  4,  0,  0,\n",
      "          0,  0,  0,  0,  0,  0,  0,  0,  8,  0,  0,  0,  0,  4,  0, 18,  0,  0,\n",
      "          0,  0,  8,  0,  0,  0,  0,  4,  0,  0,  0,  0,  0,  0,  8,  0,  0,  0,\n",
      "          0,  0,  0,  0,  0,  7,  0,  0,  0,  0,  0,  4,  4,  0,  0,  0,  0,  0,\n",
      "          0,  0,  0,  0,  0,  0,  0,  0,  0,  0,  0,  0,  0,  0,  8,  0,  0,  0,\n",
      "          4,  0,  0,  0,  0,  0,  0,  0,  0,  8,  0,  0,  0,  0,  0,  0,  0,  0,\n",
      "          4,  0,  0,  0,  0,  0,  0,  0,  0,  0,  0,  0,  4,  0,  0,  0,  0,  0,\n",
      "          0,  0,  0,  0,  0,  0,  0,  0,  0,  0,  5,  0,  0,  0,  0,  0,  0,  7,\n",
      "          0,  0,  0,  4,  0,  0, 25,  0,  0,  0,  0,  5,  0,  0,  0, 13,  0, 22,\n",
      "          0,  0,  0,  4,  0,  0,  0,  0,  0,  0,  0,  0,  0,  0, 21,  0,  0,  0,\n",
      "          8,  0,  0, 14,  0,  0,  4,  0,  0,  0,  0,  0,  0, 21,  0,  8,  8,  0,\n",
      "          0,  0,  8,  0,  0, 14,  0,  0,  4,  0,  0,  0,  0,  0,  0,  0,  0,  0,\n",
      "          0,  0,  0,  0,  0,  0,  0,  0,  0,  0,  0,  0,  0,  0,  0,  0]],\n",
      "       device='cuda:0')\n",
      "2025-09-13 02:35:01,608 - INFO - Transcription: ['ONLY O WO OA O O  EA VERY GOD GOOD']\n",
      "2025-09-13 02:35:01,615 - INFO - Decoded output string: <pad><pad><pad><pad><pad><pad><pad><pad><pad><pad><pad><pad><pad><pad><pad><pad><pad><pad><pad><pad><pad><pad><pad><pad><pad><pad><pad><pad><pad><pad><pad><pad><pad><pad>ONN<pad><pad><pad><pad>L<pad><pad>Y<pad><pad>|||||<pad><pad><pad><pad><pad><pad><pad><pad><pad><pad>O<pad><pad><pad><pad>|<pad>W<pad><pad><pad><pad>O<pad><pad><pad><pad>|<pad><pad><pad><pad><pad><pad>O<pad><pad><pad><pad><pad><pad><pad><pad>A<pad><pad><pad><pad><pad>||<pad><pad><pad><pad><pad><pad><pad><pad><pad><pad><pad><pad><pad><pad><pad><pad><pad><pad><pad>O<pad><pad><pad>|<pad><pad><pad><pad><pad><pad><pad><pad>O<pad><pad><pad><pad><pad><pad><pad><pad>|<pad><pad><pad><pad><pad><pad><pad><pad><pad><pad><pad>|<pad><pad><pad><pad><pad><pad><pad><pad><pad><pad><pad><pad><pad><pad><pad>E<pad><pad><pad><pad><pad><pad>A<pad><pad><pad>|<pad><pad>V<pad><pad><pad><pad>E<pad><pad><pad>R<pad>Y<pad><pad><pad>|<pad><pad><pad><pad><pad><pad><pad><pad><pad><pad>G<pad><pad><pad>O<pad><pad>D<pad><pad>|<pad><pad><pad><pad><pad><pad>G<pad>OO<pad><pad><pad>O<pad><pad>D<pad><pad>|<pad><pad><pad><pad><pad><pad><pad><pad><pad><pad><pad><pad><pad><pad><pad><pad><pad><pad><pad><pad><pad><pad><pad><pad><pad>\n",
      "2025-09-13 02:35:01,616 - INFO - Computing SHAP values with GradientExplainer\n",
      "2025-09-13 02:51:47,088 - INFO - Raw SHAP values type: <class 'numpy.ndarray'>\n",
      "2025-09-13 02:51:47,089 - INFO - SHAP values shape after conversion: (1, 86080, 268)\n",
      "2025-09-13 02:51:47,091 - INFO - SHAP values shape: (1, 86080, 268)\n",
      "2025-09-13 02:51:47,101 - INFO - SHAP values range: [-7.8984, 8.2997]\n"
     ]
    },
    {
     "name": "stderr",
     "output_type": "stream",
     "text": [
      "Computing metrics:  34%|███████████████████▊                                      | 15/44 [4:09:59<8:08:36, 1010.93s/it]"
     ]
    },
    {
     "name": "stdout",
     "output_type": "stream",
     "text": [
      "2025-09-13 02:51:47,198 - INFO - Processing sample 16/44\n",
      "2025-09-13 02:51:47,206 - INFO - Model confidence: 0.8698\n",
      "2025-09-13 02:51:47,207 - INFO - Computing SHAP values\n",
      "2025-09-13 02:51:47,208 - INFO - Created background samples with shape torch.Size([5, 86080])\n",
      "2025-09-13 02:51:47,209 - INFO - Background mean: 0.000004\n",
      "2025-09-13 02:51:47,210 - INFO - Background std: 0.009993\n",
      "2025-09-13 02:51:47,245 - INFO - Model output shape: torch.Size([1, 268])\n",
      "2025-09-13 02:51:47,245 - INFO - Model output mean: 8.387856\n",
      "2025-09-13 02:51:47,246 - INFO - Model output std: 2.502334\n",
      "2025-09-13 02:51:47,247 - INFO - Model output sum: 2247.945557\n",
      "2025-09-13 02:51:47,261 - INFO - Predicted IDs: tensor([[ 0,  0,  0,  0,  0,  0,  0,  0,  0,  0,  0,  0,  0,  0,  0,  0,  0,  0,\n",
      "          0,  0,  0,  0,  0,  0,  0,  0,  0,  0,  0,  0,  0,  0,  0,  0,  8,  0,\n",
      "          0,  9,  0,  0,  0,  0, 15,  0,  0,  0, 22,  0,  0,  4,  4,  0,  0,  0,\n",
      "          0,  0,  0,  0,  0,  0,  0,  0,  0,  8,  0,  0,  0,  4,  0,  0,  0,  0,\n",
      "          0,  8,  0,  0,  0,  0,  0,  4,  0,  0,  0,  0,  0,  0,  8,  0,  0,  0,\n",
      "          4,  0,  0,  0,  0,  0,  8,  0,  0,  0,  0,  0,  4,  0,  0,  0,  0,  0,\n",
      "          0,  0,  0,  0,  0,  0,  0,  0,  0,  0,  0,  0,  0,  0,  8,  0,  0,  0,\n",
      "          4,  0,  0,  0,  0,  0,  0,  0,  0,  8,  0,  0,  0,  0,  0,  0,  4,  4,\n",
      "          0,  0,  0,  0,  0,  0,  0,  8,  0,  0,  0,  0,  0,  0,  0,  0,  0,  0,\n",
      "          0,  0,  0,  0,  0,  0,  0,  0,  0,  0,  5,  0,  0,  0,  0,  0,  0,  0,\n",
      "          0,  0,  0,  4,  0,  0, 25,  0,  0,  0,  0,  5,  0,  0, 13,  0, 22,  0,\n",
      "          0,  0,  0,  4,  0,  0,  0,  0,  0,  0,  0,  0,  0,  0, 21,  0,  0,  0,\n",
      "          8,  0,  0, 14,  0,  0,  4,  0,  0,  0,  0,  0,  0, 21,  0,  8,  0,  0,\n",
      "          0,  0,  8,  0,  0, 14,  0,  0,  4,  0,  0,  0,  0,  0,  0,  0,  0,  0,\n",
      "          0,  0,  0,  0,  0,  0,  0,  0,  0,  0,  0,  0,  0,  0,  0,  0]],\n",
      "       device='cuda:0')\n",
      "2025-09-13 02:51:47,262 - INFO - Transcription: ['ONLY O O O O O O OE VERY GOD GOOD']\n",
      "2025-09-13 02:51:47,269 - INFO - Decoded output string: <pad><pad><pad><pad><pad><pad><pad><pad><pad><pad><pad><pad><pad><pad><pad><pad><pad><pad><pad><pad><pad><pad><pad><pad><pad><pad><pad><pad><pad><pad><pad><pad><pad><pad>O<pad><pad>N<pad><pad><pad><pad>L<pad><pad><pad>Y<pad><pad>||<pad><pad><pad><pad><pad><pad><pad><pad><pad><pad><pad><pad>O<pad><pad><pad>|<pad><pad><pad><pad><pad>O<pad><pad><pad><pad><pad>|<pad><pad><pad><pad><pad><pad>O<pad><pad><pad>|<pad><pad><pad><pad><pad>O<pad><pad><pad><pad><pad>|<pad><pad><pad><pad><pad><pad><pad><pad><pad><pad><pad><pad><pad><pad><pad><pad><pad><pad><pad>O<pad><pad><pad>|<pad><pad><pad><pad><pad><pad><pad><pad>O<pad><pad><pad><pad><pad><pad>||<pad><pad><pad><pad><pad><pad><pad>O<pad><pad><pad><pad><pad><pad><pad><pad><pad><pad><pad><pad><pad><pad><pad><pad><pad><pad><pad><pad>E<pad><pad><pad><pad><pad><pad><pad><pad><pad><pad>|<pad><pad>V<pad><pad><pad><pad>E<pad><pad>R<pad>Y<pad><pad><pad><pad>|<pad><pad><pad><pad><pad><pad><pad><pad><pad><pad>G<pad><pad><pad>O<pad><pad>D<pad><pad>|<pad><pad><pad><pad><pad><pad>G<pad>O<pad><pad><pad><pad>O<pad><pad>D<pad><pad>|<pad><pad><pad><pad><pad><pad><pad><pad><pad><pad><pad><pad><pad><pad><pad><pad><pad><pad><pad><pad><pad><pad><pad><pad><pad>\n",
      "2025-09-13 02:51:47,269 - INFO - Computing SHAP values with GradientExplainer\n",
      "2025-09-13 03:08:34,872 - INFO - Raw SHAP values type: <class 'numpy.ndarray'>\n",
      "2025-09-13 03:08:34,873 - INFO - SHAP values shape after conversion: (1, 86080, 268)\n",
      "2025-09-13 03:08:34,875 - INFO - SHAP values shape: (1, 86080, 268)\n",
      "2025-09-13 03:08:34,884 - INFO - SHAP values range: [-18.2961, 18.1667]\n"
     ]
    },
    {
     "name": "stderr",
     "output_type": "stream",
     "text": [
      "Computing metrics:  36%|█████████████████████                                     | 16/44 [4:26:47<7:51:19, 1009.98s/it]"
     ]
    },
    {
     "name": "stdout",
     "output_type": "stream",
     "text": [
      "2025-09-13 03:08:34,983 - INFO - Processing sample 17/44\n",
      "2025-09-13 03:08:34,995 - INFO - Model confidence: 0.9794\n",
      "2025-09-13 03:08:34,995 - INFO - Computing SHAP values\n",
      "2025-09-13 03:08:34,996 - INFO - Created background samples with shape torch.Size([5, 35920])\n",
      "2025-09-13 03:08:34,997 - INFO - Background mean: 0.000043\n",
      "2025-09-13 03:08:34,998 - INFO - Background std: 0.010002\n",
      "2025-09-13 03:08:35,021 - INFO - Model output shape: torch.Size([1, 112])\n",
      "2025-09-13 03:08:35,022 - INFO - Model output mean: 12.479897\n",
      "2025-09-13 03:08:35,022 - INFO - Model output std: 1.312408\n",
      "2025-09-13 03:08:35,023 - INFO - Model output sum: 1397.748413\n",
      "2025-09-13 03:08:35,033 - INFO - Predicted IDs: tensor([[ 0,  0,  0,  0,  0,  0,  0,  0,  0,  0,  0,  0,  0,  0,  0,  0,  0, 24,\n",
      "          0,  0, 22,  0,  0,  4,  0, 11,  0,  7, 13, 13,  0,  0, 13, 13,  0, 22,\n",
      "          0,  4,  4,  0, 30,  0, 16,  0,  0, 10, 15, 15,  0,  0,  6,  0,  0,  0,\n",
      "          5, 13, 13,  0,  4,  4,  0,  0,  0,  0,  0,  0,  0,  0,  0,  0,  0,  0,\n",
      "          0,  0,  0, 17, 17,  0,  0,  4,  0,  0,  0,  0,  0,  0,  0,  0,  0,  0,\n",
      "          0,  7,  0,  0,  0,  0,  4,  4,  4,  0,  0,  0,  0,  0,  0,  0,  0,  0,\n",
      "          0,  0,  0,  0]], device='cuda:0')\n",
      "2025-09-13 03:08:35,034 - INFO - Transcription: ['BY HARRY QUILTER M A']\n",
      "2025-09-13 03:08:35,037 - INFO - Decoded output string: <pad><pad><pad><pad><pad><pad><pad><pad><pad><pad><pad><pad><pad><pad><pad><pad><pad>B<pad><pad>Y<pad><pad>|<pad>H<pad>ARR<pad><pad>RR<pad>Y<pad>||<pad>Q<pad>U<pad><pad>ILL<pad><pad>T<pad><pad><pad>ERR<pad>||<pad><pad><pad><pad><pad><pad><pad><pad><pad><pad><pad><pad><pad><pad><pad>MM<pad><pad>|<pad><pad><pad><pad><pad><pad><pad><pad><pad><pad><pad>A<pad><pad><pad><pad>|||<pad><pad><pad><pad><pad><pad><pad><pad><pad><pad><pad><pad><pad>\n",
      "2025-09-13 03:08:35,038 - INFO - Computing SHAP values with GradientExplainer\n",
      "2025-09-13 03:13:38,088 - INFO - Raw SHAP values type: <class 'numpy.ndarray'>\n",
      "2025-09-13 03:13:38,089 - INFO - SHAP values shape after conversion: (1, 35920, 112)\n",
      "2025-09-13 03:13:38,092 - INFO - SHAP values shape: (1, 35920, 112)\n",
      "2025-09-13 03:13:38,094 - INFO - SHAP values range: [-4.1527, 4.8043]\n"
     ]
    },
    {
     "name": "stderr",
     "output_type": "stream",
     "text": [
      "Computing metrics:  39%|██████████████████████▊                                    | 17/44 [4:31:50<5:58:50, 797.43s/it]"
     ]
    },
    {
     "name": "stdout",
     "output_type": "stream",
     "text": [
      "2025-09-13 03:13:38,116 - INFO - Processing sample 18/44\n",
      "2025-09-13 03:13:38,123 - INFO - Model confidence: 0.9250\n",
      "2025-09-13 03:13:38,123 - INFO - Computing SHAP values\n",
      "2025-09-13 03:13:38,124 - INFO - Created background samples with shape torch.Size([5, 35920])\n",
      "2025-09-13 03:13:38,125 - INFO - Background mean: -0.000036\n",
      "2025-09-13 03:13:38,126 - INFO - Background std: 0.009986\n",
      "2025-09-13 03:13:38,145 - INFO - Model output shape: torch.Size([1, 112])\n",
      "2025-09-13 03:13:38,146 - INFO - Model output mean: 9.804263\n",
      "2025-09-13 03:13:38,147 - INFO - Model output std: 2.115717\n",
      "2025-09-13 03:13:38,148 - INFO - Model output sum: 1098.077393\n",
      "2025-09-13 03:13:38,160 - INFO - Predicted IDs: tensor([[ 0,  0,  0,  0,  0,  0,  0,  0,  0,  0,  0,  0,  0,  0,  0,  0,  0,  0,\n",
      "          0,  0, 10,  0,  4,  4, 11,  0,  0,  7, 13,  0,  0, 13,  0,  0, 10,  0,\n",
      "          0, 14,  0,  4,  0,  0, 24, 13,  0,  0,  8,  0,  0,  0,  6,  0,  0,  0,\n",
      "          5, 13,  0,  0,  0,  4,  0,  0,  0,  0,  0,  0,  0,  0,  0,  0,  0,  0,\n",
      "          7,  0,  9, 14, 14,  0,  0,  4,  0,  0,  0,  0,  0,  0,  0,  0,  0,  0,\n",
      "          7,  0,  0,  0,  0,  0,  4,  4,  0,  0,  0,  0,  0,  0,  0,  0,  0,  0,\n",
      "          0,  0,  0,  0]], device='cuda:0')\n",
      "2025-09-13 03:13:38,161 - INFO - Transcription: ['I HARRID BROTER AND A']\n",
      "2025-09-13 03:13:38,164 - INFO - Decoded output string: <pad><pad><pad><pad><pad><pad><pad><pad><pad><pad><pad><pad><pad><pad><pad><pad><pad><pad><pad><pad>I<pad>||H<pad><pad>AR<pad><pad>R<pad><pad>I<pad><pad>D<pad>|<pad><pad>BR<pad><pad>O<pad><pad><pad>T<pad><pad><pad>ER<pad><pad><pad>|<pad><pad><pad><pad><pad><pad><pad><pad><pad><pad><pad><pad>A<pad>NDD<pad><pad>|<pad><pad><pad><pad><pad><pad><pad><pad><pad><pad>A<pad><pad><pad><pad><pad>||<pad><pad><pad><pad><pad><pad><pad><pad><pad><pad><pad><pad><pad><pad>\n",
      "2025-09-13 03:13:38,164 - INFO - Computing SHAP values with GradientExplainer\n",
      "2025-09-13 03:18:41,215 - INFO - Raw SHAP values type: <class 'numpy.ndarray'>\n",
      "2025-09-13 03:18:41,216 - INFO - SHAP values shape after conversion: (1, 35920, 112)\n",
      "2025-09-13 03:18:41,217 - INFO - SHAP values shape: (1, 35920, 112)\n",
      "2025-09-13 03:18:41,219 - INFO - SHAP values range: [-51.0816, 41.0886]\n"
     ]
    },
    {
     "name": "stderr",
     "output_type": "stream",
     "text": [
      "Computing metrics:  41%|████████████████████████▏                                  | 18/44 [4:36:54<4:41:11, 648.90s/it]"
     ]
    },
    {
     "name": "stdout",
     "output_type": "stream",
     "text": [
      "2025-09-13 03:18:41,242 - INFO - Processing sample 19/44\n",
      "2025-09-13 03:18:41,249 - INFO - Model confidence: 0.8731\n",
      "2025-09-13 03:18:41,250 - INFO - Computing SHAP values\n",
      "2025-09-13 03:18:41,252 - INFO - Created background samples with shape torch.Size([5, 35920])\n",
      "2025-09-13 03:18:41,252 - INFO - Background mean: 0.000011\n",
      "2025-09-13 03:18:41,253 - INFO - Background std: 0.009979\n",
      "2025-09-13 03:18:41,272 - INFO - Model output shape: torch.Size([1, 112])\n",
      "2025-09-13 03:18:41,273 - INFO - Model output mean: 8.583707\n",
      "2025-09-13 03:18:41,274 - INFO - Model output std: 2.521043\n",
      "2025-09-13 03:18:41,275 - INFO - Model output sum: 961.375122\n",
      "2025-09-13 03:18:41,285 - INFO - Predicted IDs: tensor([[ 0,  0,  0,  0,  0,  0,  0,  0,  0,  0,  0,  0,  0,  0,  0,  0,  0,  0,\n",
      "          0, 10,  0,  0,  4,  4, 21,  0,  0,  5,  0,  0,  6,  0,  4,  0,  0, 10,\n",
      "          0,  6,  0,  4,  0,  0,  0,  0,  0,  0,  8,  0,  0, 25,  0,  0,  0,  0,\n",
      "          0,  5, 13,  0,  0,  4,  4,  0,  0,  0,  0,  0,  0,  0,  0,  0,  0,  0,\n",
      "          0,  7,  9,  0,  0,  0,  0,  4,  0,  0,  0,  0,  0,  0,  0,  0,  7,  0,\n",
      "          0,  0,  0,  0,  0,  0,  0,  4,  4,  0,  0,  0,  0,  0,  0,  0,  0,  0,\n",
      "          0,  0,  0,  0]], device='cuda:0')\n",
      "2025-09-13 03:18:41,286 - INFO - Transcription: ['I GET IT OVER AN A']\n",
      "2025-09-13 03:18:41,289 - INFO - Decoded output string: <pad><pad><pad><pad><pad><pad><pad><pad><pad><pad><pad><pad><pad><pad><pad><pad><pad><pad><pad>I<pad><pad>||G<pad><pad>E<pad><pad>T<pad>|<pad><pad>I<pad>T<pad>|<pad><pad><pad><pad><pad><pad>O<pad><pad>V<pad><pad><pad><pad><pad>ER<pad><pad>||<pad><pad><pad><pad><pad><pad><pad><pad><pad><pad><pad><pad>AN<pad><pad><pad><pad>|<pad><pad><pad><pad><pad><pad><pad><pad>A<pad><pad><pad><pad><pad><pad><pad><pad>||<pad><pad><pad><pad><pad><pad><pad><pad><pad><pad><pad><pad><pad>\n",
      "2025-09-13 03:18:41,290 - INFO - Computing SHAP values with GradientExplainer\n",
      "2025-09-13 03:23:45,138 - INFO - Raw SHAP values type: <class 'numpy.ndarray'>\n",
      "2025-09-13 03:23:45,139 - INFO - SHAP values shape after conversion: (1, 35920, 112)\n",
      "2025-09-13 03:23:45,140 - INFO - SHAP values shape: (1, 35920, 112)\n",
      "2025-09-13 03:23:45,142 - INFO - SHAP values range: [-20.1630, 14.9863]\n"
     ]
    },
    {
     "name": "stderr",
     "output_type": "stream",
     "text": [
      "Computing metrics:  43%|█████████████████████████▍                                 | 19/44 [4:41:57<3:47:12, 545.29s/it]"
     ]
    },
    {
     "name": "stdout",
     "output_type": "stream",
     "text": [
      "2025-09-13 03:23:45,169 - INFO - Processing sample 20/44\n",
      "2025-09-13 03:23:45,176 - INFO - Model confidence: 0.8662\n",
      "2025-09-13 03:23:45,177 - INFO - Computing SHAP values\n",
      "2025-09-13 03:23:45,178 - INFO - Created background samples with shape torch.Size([5, 35920])\n",
      "2025-09-13 03:23:45,178 - INFO - Background mean: -0.000027\n",
      "2025-09-13 03:23:45,179 - INFO - Background std: 0.010019\n",
      "2025-09-13 03:23:45,198 - INFO - Model output shape: torch.Size([1, 112])\n",
      "2025-09-13 03:23:45,199 - INFO - Model output mean: 8.292957\n",
      "2025-09-13 03:23:45,200 - INFO - Model output std: 2.329733\n",
      "2025-09-13 03:23:45,200 - INFO - Model output sum: 928.811157\n",
      "2025-09-13 03:23:45,210 - INFO - Predicted IDs: tensor([[ 0,  0,  0,  0,  0,  0,  0,  0,  0,  0,  0,  0,  0,  0,  0,  0,  0,  0,\n",
      "          0,  0, 10,  0,  4,  4,  0, 11,  0,  5,  0,  0, 13,  0,  0,  0,  0,  7,\n",
      "          0,  0,  0,  4,  0,  0, 24,  0,  0,  0,  8,  0,  0,  0,  6,  0,  0,  0,\n",
      "          0,  8,  0,  0,  4,  4,  0,  0,  0,  0,  0,  0,  0,  0,  0,  0,  0,  0,\n",
      "          0,  7,  9,  0, 14,  0,  0,  4,  0,  0,  0,  0,  0,  0,  0,  0,  7,  0,\n",
      "          0,  0,  0,  0,  0,  0,  0,  0,  4,  0,  0,  0,  0,  0,  0,  0,  0,  0,\n",
      "          0,  0,  0,  0]], device='cuda:0')\n",
      "2025-09-13 03:23:45,211 - INFO - Transcription: ['I HERA BOTO AND A']\n",
      "2025-09-13 03:23:45,214 - INFO - Decoded output string: <pad><pad><pad><pad><pad><pad><pad><pad><pad><pad><pad><pad><pad><pad><pad><pad><pad><pad><pad><pad>I<pad>||<pad>H<pad>E<pad><pad>R<pad><pad><pad><pad>A<pad><pad><pad>|<pad><pad>B<pad><pad><pad>O<pad><pad><pad>T<pad><pad><pad><pad>O<pad><pad>||<pad><pad><pad><pad><pad><pad><pad><pad><pad><pad><pad><pad><pad>AN<pad>D<pad><pad>|<pad><pad><pad><pad><pad><pad><pad><pad>A<pad><pad><pad><pad><pad><pad><pad><pad><pad>|<pad><pad><pad><pad><pad><pad><pad><pad><pad><pad><pad><pad><pad>\n",
      "2025-09-13 03:23:45,215 - INFO - Computing SHAP values with GradientExplainer\n",
      "2025-09-13 03:28:49,406 - INFO - Raw SHAP values type: <class 'numpy.ndarray'>\n",
      "2025-09-13 03:28:49,406 - INFO - SHAP values shape after conversion: (1, 35920, 112)\n",
      "2025-09-13 03:28:49,408 - INFO - SHAP values shape: (1, 35920, 112)\n",
      "2025-09-13 03:28:49,410 - INFO - SHAP values range: [-3.5699, 4.9009]\n"
     ]
    },
    {
     "name": "stderr",
     "output_type": "stream",
     "text": [
      "Computing metrics:  45%|██████████████████████████▊                                | 20/44 [4:47:02<3:09:10, 472.92s/it]"
     ]
    },
    {
     "name": "stdout",
     "output_type": "stream",
     "text": [
      "2025-09-13 03:28:49,430 - INFO - Processing sample 21/44\n",
      "2025-09-13 03:28:49,441 - INFO - Model confidence: 0.9681\n",
      "2025-09-13 03:28:49,442 - INFO - Computing SHAP values\n",
      "2025-09-13 03:28:49,443 - INFO - Created background samples with shape torch.Size([5, 76080])\n",
      "2025-09-13 03:28:49,443 - INFO - Background mean: -0.000007\n",
      "2025-09-13 03:28:49,444 - INFO - Background std: 0.010010\n",
      "2025-09-13 03:28:49,475 - INFO - Model output shape: torch.Size([1, 237])\n",
      "2025-09-13 03:28:49,476 - INFO - Model output mean: 14.257250\n",
      "2025-09-13 03:28:49,477 - INFO - Model output std: 1.651236\n",
      "2025-09-13 03:28:49,477 - INFO - Model output sum: 3378.968262\n",
      "2025-09-13 03:28:49,490 - INFO - Predicted IDs: tensor([[ 0,  0,  0,  0,  0,  0,  0,  0,  0,  0,  0,  0,  0,  0,  0,  0,  6,  0,\n",
      "         11,  5,  0,  4,  4, 15,  0, 10,  6,  0,  0,  6,  0, 15,  5,  0,  4,  0,\n",
      "         21,  0,  0, 10, 13, 13,  0, 15, 15,  0,  4,  4,  4, 11,  0,  7, 14, 14,\n",
      "          4,  4, 24,  0,  5,  0,  0,  5,  9,  9,  4,  4,  0,  7,  0,  0,  0, 12,\n",
      "         12,  0, 15, 15,  0,  5,  5,  0,  0,  0,  5,  0, 23,  0,  4,  4,  0,  0,\n",
      "          0,  0,  0,  0,  0,  0,  0,  0,  0,  0,  0,  0,  0,  0,  0,  0,  0,  0,\n",
      "          0,  0,  0,  0, 24,  0,  0, 16,  0,  6,  4,  4,  0,  0, 12, 12, 11,  0,\n",
      "          5,  5,  0,  4,  4,  0, 11, 11,  5,  7,  7, 13,  0, 14, 14,  4,  4,  4,\n",
      "          6, 11,  5,  4,  4,  0,  0, 13,  0,  0,  0,  0,  7,  0,  0,  0, 23,  0,\n",
      "          0, 12, 12,  4,  4,  0,  0,  0,  7,  9, 14, 14,  4,  4,  0,  0,  0,  0,\n",
      "          0,  8,  8,  0, 23,  0,  5,  9,  9,  5,  0, 14,  4,  4,  6, 11,  5,  5,\n",
      "          4, 14,  0,  8,  0,  0,  0,  8, 13, 13,  0,  4,  4,  4,  4,  0,  0,  0,\n",
      "          0,  0,  0,  0,  0,  0,  0,  0,  0,  0,  0,  0,  0,  0,  0,  0,  0,  0,\n",
      "          0,  0,  0]], device='cuda:0')\n",
      "2025-09-13 03:28:49,492 - INFO - Transcription: ['THE LITTLE GIRL HAD BEEN ASLEEP BUT SHE HEARD THE RAPS AND OPENED THE DOOR']\n",
      "2025-09-13 03:28:49,498 - INFO - Decoded output string: <pad><pad><pad><pad><pad><pad><pad><pad><pad><pad><pad><pad><pad><pad><pad><pad>T<pad>HE<pad>||L<pad>IT<pad><pad>T<pad>LE<pad>|<pad>G<pad><pad>IRR<pad>LL<pad>|||H<pad>ADD||B<pad>E<pad><pad>ENN||<pad>A<pad><pad><pad>SS<pad>LL<pad>EE<pad><pad><pad>E<pad>P<pad>||<pad><pad><pad><pad><pad><pad><pad><pad><pad><pad><pad><pad><pad><pad><pad><pad><pad><pad><pad><pad><pad><pad><pad><pad>B<pad><pad>U<pad>T||<pad><pad>SSH<pad>EE<pad>||<pad>HHEAAR<pad>DD|||THE||<pad><pad>R<pad><pad><pad><pad>A<pad><pad><pad>P<pad><pad>SS||<pad><pad><pad>ANDD||<pad><pad><pad><pad><pad>OO<pad>P<pad>ENNE<pad>D||THEE|D<pad>O<pad><pad><pad>ORR<pad>||||<pad><pad><pad><pad><pad><pad><pad><pad><pad><pad><pad><pad><pad><pad><pad><pad><pad><pad><pad><pad><pad><pad><pad><pad>\n",
      "2025-09-13 03:28:49,499 - INFO - Computing SHAP values with GradientExplainer\n",
      "2025-09-13 03:42:03,167 - INFO - Raw SHAP values type: <class 'numpy.ndarray'>\n",
      "2025-09-13 03:42:03,168 - INFO - SHAP values shape after conversion: (1, 76080, 237)\n",
      "2025-09-13 03:42:03,170 - INFO - SHAP values shape: (1, 76080, 237)\n",
      "2025-09-13 03:42:03,177 - INFO - SHAP values range: [-13.4807, 9.9572]\n"
     ]
    },
    {
     "name": "stderr",
     "output_type": "stream",
     "text": [
      "Computing metrics:  48%|████████████████████████████▏                              | 21/44 [5:00:16<3:38:12, 569.25s/it]"
     ]
    },
    {
     "name": "stdout",
     "output_type": "stream",
     "text": [
      "2025-09-13 03:42:03,254 - INFO - Processing sample 22/44\n",
      "2025-09-13 03:42:03,262 - INFO - Model confidence: 0.9251\n",
      "2025-09-13 03:42:03,263 - INFO - Computing SHAP values\n",
      "2025-09-13 03:42:03,264 - INFO - Created background samples with shape torch.Size([5, 76080])\n",
      "2025-09-13 03:42:03,265 - INFO - Background mean: 0.000044\n",
      "2025-09-13 03:42:03,265 - INFO - Background std: 0.009986\n",
      "2025-09-13 03:42:03,297 - INFO - Model output shape: torch.Size([1, 237])\n",
      "2025-09-13 03:42:03,298 - INFO - Model output mean: 10.733873\n",
      "2025-09-13 03:42:03,298 - INFO - Model output std: 2.440263\n",
      "2025-09-13 03:42:03,299 - INFO - Model output sum: 2543.928223\n",
      "2025-09-13 03:42:03,312 - INFO - Predicted IDs: tensor([[ 0,  0,  0,  0,  0,  0,  0,  0,  0,  0,  0,  0,  0,  0,  0,  0,  0,  6,\n",
      "         11,  0,  5,  0,  4,  4, 15, 10,  6,  6,  0,  0,  6, 15,  5,  5,  4,  4,\n",
      "         21,  0,  0,  0, 10, 13,  0, 15, 15,  4,  4,  4, 11, 11, 11,  0,  7, 14,\n",
      "          0,  4,  4, 24,  0,  5,  0,  5,  0,  9,  4,  4,  0,  7,  0,  0,  0, 12,\n",
      "          0,  0, 15,  0,  0,  5,  0,  0,  0,  5,  0, 23,  0,  0,  4,  0,  0,  0,\n",
      "          0,  0,  0,  0,  0,  0,  0,  0,  0,  0,  0,  0,  0,  0,  0,  0,  0,  0,\n",
      "          0,  0,  0,  0,  0, 24,  0,  0, 16,  6,  0,  0,  4,  4, 12, 11, 11,  0,\n",
      "          0,  0,  5,  0,  4,  0,  0, 13,  0,  5,  7,  0,  0, 14, 14,  0,  4,  0,\n",
      "          6, 11,  5,  0,  4,  0,  0, 13, 13,  0,  0,  7,  0,  0,  0,  0, 23,  0,\n",
      "         12,  0,  0,  4,  4,  0,  0,  0,  7,  9,  0, 14,  4,  4,  0,  0,  0,  0,\n",
      "          0,  0,  8,  0, 23,  0,  5,  9,  9,  5,  0, 14,  4,  4,  6, 11,  5,  4,\n",
      "          4,  4, 14,  8,  8,  0,  8,  8,  0, 13,  0,  0,  4,  4,  4,  4,  4,  0,\n",
      "          0,  0,  0,  0,  0,  0,  0,  0,  0,  0,  0,  0,  0,  0,  0,  0,  0,  0,\n",
      "          0,  0,  0]], device='cuda:0')\n",
      "2025-09-13 03:42:03,313 - INFO - Transcription: ['THE LITTLE GIRL HAD BEEN ASLEEP BUT SHE READ THE RAPS AND OPENED THE DOOR']\n",
      "2025-09-13 03:42:03,319 - INFO - Decoded output string: <pad><pad><pad><pad><pad><pad><pad><pad><pad><pad><pad><pad><pad><pad><pad><pad><pad>TH<pad>E<pad>||LITT<pad><pad>TLEE||G<pad><pad><pad>IR<pad>LL|||HHH<pad>AD<pad>||B<pad>E<pad>E<pad>N||<pad>A<pad><pad><pad>S<pad><pad>L<pad><pad>E<pad><pad><pad>E<pad>P<pad><pad>|<pad><pad><pad><pad><pad><pad><pad><pad><pad><pad><pad><pad><pad><pad><pad><pad><pad><pad><pad><pad><pad><pad><pad><pad><pad><pad>B<pad><pad>UT<pad><pad>||SHH<pad><pad><pad>E<pad>|<pad><pad>R<pad>EA<pad><pad>DD<pad>|<pad>THE<pad>|<pad><pad>RR<pad><pad>A<pad><pad><pad><pad>P<pad>S<pad><pad>||<pad><pad><pad>AN<pad>D||<pad><pad><pad><pad><pad><pad>O<pad>P<pad>ENNE<pad>D||THE|||DOO<pad>OO<pad>R<pad><pad>|||||<pad><pad><pad><pad><pad><pad><pad><pad><pad><pad><pad><pad><pad><pad><pad><pad><pad><pad><pad><pad><pad><pad>\n",
      "2025-09-13 03:42:03,319 - INFO - Computing SHAP values with GradientExplainer\n",
      "2025-09-13 03:55:14,582 - INFO - Raw SHAP values type: <class 'numpy.ndarray'>\n",
      "2025-09-13 03:55:14,583 - INFO - SHAP values shape after conversion: (1, 76080, 237)\n",
      "2025-09-13 03:55:14,585 - INFO - SHAP values shape: (1, 76080, 237)\n",
      "2025-09-13 03:55:14,593 - INFO - SHAP values range: [-41.6627, 24.4192]\n"
     ]
    },
    {
     "name": "stderr",
     "output_type": "stream",
     "text": [
      "Computing metrics:  50%|█████████████████████████████▌                             | 22/44 [5:13:27<3:53:10, 635.92s/it]"
     ]
    },
    {
     "name": "stdout",
     "output_type": "stream",
     "text": [
      "2025-09-13 03:55:14,672 - INFO - Processing sample 23/44\n",
      "2025-09-13 03:55:14,681 - INFO - Model confidence: 0.8251\n",
      "2025-09-13 03:55:14,681 - INFO - Computing SHAP values\n",
      "2025-09-13 03:55:14,683 - INFO - Created background samples with shape torch.Size([5, 76080])\n",
      "2025-09-13 03:55:14,683 - INFO - Background mean: -0.000007\n",
      "2025-09-13 03:55:14,684 - INFO - Background std: 0.010002\n",
      "2025-09-13 03:55:14,715 - INFO - Model output shape: torch.Size([1, 237])\n",
      "2025-09-13 03:55:14,716 - INFO - Model output mean: 8.957458\n",
      "2025-09-13 03:55:14,716 - INFO - Model output std: 3.164238\n",
      "2025-09-13 03:55:14,717 - INFO - Model output sum: 2122.917480\n",
      "2025-09-13 03:55:14,731 - INFO - Predicted IDs: tensor([[ 0,  0,  0,  0,  0,  0,  0,  0,  0,  0,  0,  0,  0,  0,  0,  0,  0,  0,\n",
      "          0,  7,  0,  4,  4,  0, 15, 10,  6,  0,  0,  0,  6, 15,  5,  5,  4,  4,\n",
      "         21,  0,  0,  0, 10, 13,  0,  0, 15,  0,  4,  4, 18, 11,  0, 16,  0,  0,\n",
      "          0,  4,  4, 24,  0,  0,  5,  9,  0,  4,  4,  0,  7,  0,  0,  0,  4,  0,\n",
      "          0,  0,  0,  0,  5,  0,  0,  0,  5,  0,  0, 23,  0,  0,  4,  4,  0,  0,\n",
      "          0,  0,  0,  0,  0,  0,  0,  0,  0,  0,  0,  0,  0,  0,  0,  0,  0,  0,\n",
      "          0,  0,  0,  0,  0,  0,  0,  0,  0,  7,  0,  0,  0,  4, 12, 11,  0,  0,\n",
      "          0,  0,  5,  0,  0,  0, 25,  0,  0,  0,  5, 13,  0,  0,  0,  4,  4,  6,\n",
      "          0, 11,  5,  0,  4,  0,  0, 13, 13,  0,  0,  7,  0,  0,  0, 24,  0,  0,\n",
      "          0,  0,  4,  4,  0,  0,  0,  0,  0,  0,  0,  0,  4,  0,  0,  0,  0,  0,\n",
      "          0,  8,  0,  0, 23,  0,  0,  4,  8, 20,  0,  0,  4,  4,  6, 11,  5,  0,\n",
      "          4,  0, 21,  0,  0,  0,  0,  8,  0,  0,  0, 14,  0,  0,  4,  4,  4,  0,\n",
      "          0,  0,  0,  0,  0,  0,  0,  0,  0,  0,  0,  0,  0,  0,  0,  0,  0,  0,\n",
      "          0,  0,  0]], device='cuda:0')\n",
      "2025-09-13 03:55:14,732 - INFO - Transcription: ['A LITTLE GIRL WHU BEN A EEP A SHEVER THE RAB  OP OF THE GOD']\n",
      "2025-09-13 03:55:14,739 - INFO - Decoded output string: <pad><pad><pad><pad><pad><pad><pad><pad><pad><pad><pad><pad><pad><pad><pad><pad><pad><pad><pad>A<pad>||<pad>LIT<pad><pad><pad>TLEE||G<pad><pad><pad>IR<pad><pad>L<pad>||WH<pad>U<pad><pad><pad>||B<pad><pad>EN<pad>||<pad>A<pad><pad><pad>|<pad><pad><pad><pad><pad>E<pad><pad><pad>E<pad><pad>P<pad><pad>||<pad><pad><pad><pad><pad><pad><pad><pad><pad><pad><pad><pad><pad><pad><pad><pad><pad><pad><pad><pad><pad><pad><pad><pad><pad><pad><pad><pad><pad>A<pad><pad><pad>|SH<pad><pad><pad><pad>E<pad><pad><pad>V<pad><pad><pad>ER<pad><pad><pad>||T<pad>HE<pad>|<pad><pad>RR<pad><pad>A<pad><pad><pad>B<pad><pad><pad><pad>||<pad><pad><pad><pad><pad><pad><pad><pad>|<pad><pad><pad><pad><pad><pad>O<pad><pad>P<pad><pad>|OF<pad><pad>||THE<pad>|<pad>G<pad><pad><pad><pad>O<pad><pad><pad>D<pad><pad>|||<pad><pad><pad><pad><pad><pad><pad><pad><pad><pad><pad><pad><pad><pad><pad><pad><pad><pad><pad><pad><pad><pad>\n",
      "2025-09-13 03:55:14,739 - INFO - Computing SHAP values with GradientExplainer\n",
      "2025-09-13 04:08:30,579 - INFO - Raw SHAP values type: <class 'numpy.ndarray'>\n",
      "2025-09-13 04:08:30,580 - INFO - SHAP values shape after conversion: (1, 76080, 237)\n",
      "2025-09-13 04:08:30,582 - INFO - SHAP values shape: (1, 76080, 237)\n",
      "2025-09-13 04:08:30,590 - INFO - SHAP values range: [-18.8376, 18.8258]\n"
     ]
    },
    {
     "name": "stderr",
     "output_type": "stream",
     "text": [
      "Computing metrics:  52%|██████████████████████████████▊                            | 23/44 [5:26:43<3:59:23, 683.96s/it]"
     ]
    },
    {
     "name": "stdout",
     "output_type": "stream",
     "text": [
      "2025-09-13 04:08:30,672 - INFO - Processing sample 24/44\n",
      "2025-09-13 04:08:30,680 - INFO - Model confidence: 0.8128\n",
      "2025-09-13 04:08:30,680 - INFO - Computing SHAP values\n",
      "2025-09-13 04:08:30,682 - INFO - Created background samples with shape torch.Size([5, 76080])\n",
      "2025-09-13 04:08:30,682 - INFO - Background mean: 0.000014\n",
      "2025-09-13 04:08:30,683 - INFO - Background std: 0.010003\n",
      "2025-09-13 04:08:30,714 - INFO - Model output shape: torch.Size([1, 237])\n",
      "2025-09-13 04:08:30,715 - INFO - Model output mean: 8.208927\n",
      "2025-09-13 04:08:30,715 - INFO - Model output std: 2.904203\n",
      "2025-09-13 04:08:30,716 - INFO - Model output sum: 1945.515869\n",
      "2025-09-13 04:08:30,729 - INFO - Predicted IDs: tensor([[ 0,  0,  0,  0,  0,  0,  0,  0,  0,  0,  0,  0,  0,  0,  0,  0,  0,  0,\n",
      "          0,  7,  0,  0,  4,  0, 15, 10,  6,  6,  0,  0,  6, 15,  0,  5,  4,  4,\n",
      "          0, 21,  0,  0, 10, 13, 13,  0, 15,  0,  4,  4, 18,  0,  0, 10,  0,  6,\n",
      "         11,  4,  4,  6,  0,  5,  0,  0,  0,  4,  0,  0,  7,  0,  0,  0,  4,  0,\n",
      "          0, 20,  0,  0,  0,  0,  5,  0,  0,  0,  0,  0,  0,  0,  4,  4,  0,  0,\n",
      "          0,  0,  0,  0,  0,  0,  0,  0,  0,  0,  0,  0,  0,  0,  0,  0,  0,  0,\n",
      "          0,  0,  0,  0,  0,  0,  0,  0,  7,  0,  0,  0,  0,  4,  0, 12,  0,  0,\n",
      "          0,  0,  5,  0,  0,  0,  6,  0,  0,  0,  5, 13,  0,  0,  0,  0,  4,  6,\n",
      "          0,  0,  5,  0,  0,  0,  0, 13,  0,  0,  0,  7,  0,  0,  0, 23,  0,  0,\n",
      "          0,  0,  0,  4,  0,  0,  0,  0,  0,  7,  0,  0,  0,  4,  0,  0,  0,  0,\n",
      "          0,  8,  0,  0, 23,  0,  0,  4,  8, 20,  0,  4,  4,  6,  0, 11,  5,  0,\n",
      "          4,  0, 24,  0,  0,  0,  0,  8,  0,  0,  0, 22,  0,  0,  4,  4,  0,  0,\n",
      "          0,  0,  0,  0,  0,  0,  0,  0,  0,  0,  0,  0,  0,  0,  0,  0,  0,  0,\n",
      "          0,  0,  0]], device='cuda:0')\n",
      "2025-09-13 04:08:30,730 - INFO - Transcription: ['A LITTLE GIRL WITH TE A FE A SETER TERAP A OP OF THE BOY']\n",
      "2025-09-13 04:08:30,737 - INFO - Decoded output string: <pad><pad><pad><pad><pad><pad><pad><pad><pad><pad><pad><pad><pad><pad><pad><pad><pad><pad><pad>A<pad><pad>|<pad>LITT<pad><pad>TL<pad>E||<pad>G<pad><pad>IRR<pad>L<pad>||W<pad><pad>I<pad>TH||T<pad>E<pad><pad><pad>|<pad><pad>A<pad><pad><pad>|<pad><pad>F<pad><pad><pad><pad>E<pad><pad><pad><pad><pad><pad><pad>||<pad><pad><pad><pad><pad><pad><pad><pad><pad><pad><pad><pad><pad><pad><pad><pad><pad><pad><pad><pad><pad><pad><pad><pad><pad><pad><pad><pad>A<pad><pad><pad><pad>|<pad>S<pad><pad><pad><pad>E<pad><pad><pad>T<pad><pad><pad>ER<pad><pad><pad><pad>|T<pad><pad>E<pad><pad><pad><pad>R<pad><pad><pad>A<pad><pad><pad>P<pad><pad><pad><pad><pad>|<pad><pad><pad><pad><pad>A<pad><pad><pad>|<pad><pad><pad><pad><pad>O<pad><pad>P<pad><pad>|OF<pad>||T<pad>HE<pad>|<pad>B<pad><pad><pad><pad>O<pad><pad><pad>Y<pad><pad>||<pad><pad><pad><pad><pad><pad><pad><pad><pad><pad><pad><pad><pad><pad><pad><pad><pad><pad><pad><pad><pad><pad><pad>\n",
      "2025-09-13 04:08:30,737 - INFO - Computing SHAP values with GradientExplainer\n",
      "2025-09-13 04:21:46,044 - INFO - Raw SHAP values type: <class 'numpy.ndarray'>\n",
      "2025-09-13 04:21:46,045 - INFO - SHAP values shape after conversion: (1, 76080, 237)\n",
      "2025-09-13 04:21:46,047 - INFO - SHAP values shape: (1, 76080, 237)\n",
      "2025-09-13 04:21:46,055 - INFO - SHAP values range: [-31.1112, 27.4838]\n"
     ]
    },
    {
     "name": "stderr",
     "output_type": "stream",
     "text": [
      "Computing metrics:  55%|████████████████████████████████▏                          | 24/44 [5:39:58<3:59:08, 717.42s/it]"
     ]
    },
    {
     "name": "stdout",
     "output_type": "stream",
     "text": [
      "2025-09-13 04:21:46,132 - INFO - Processing sample 25/44\n",
      "2025-09-13 04:21:46,143 - INFO - Model confidence: 0.9588\n",
      "2025-09-13 04:21:46,144 - INFO - Computing SHAP values\n",
      "2025-09-13 04:21:46,145 - INFO - Created background samples with shape torch.Size([5, 67600])\n",
      "2025-09-13 04:21:46,145 - INFO - Background mean: -0.000014\n",
      "2025-09-13 04:21:46,146 - INFO - Background std: 0.010017\n",
      "2025-09-13 04:21:46,176 - INFO - Model output shape: torch.Size([1, 211])\n",
      "2025-09-13 04:21:46,177 - INFO - Model output mean: 12.746786\n",
      "2025-09-13 04:21:46,178 - INFO - Model output std: 1.793342\n",
      "2025-09-13 04:21:46,178 - INFO - Model output sum: 2689.571777\n",
      "2025-09-13 04:21:46,191 - INFO - Predicted IDs: tensor([[ 0,  0,  0,  0,  0,  0,  0,  0,  0,  0,  0,  0,  0,  0,  0,  0,  0,  6,\n",
      "         11,  0,  5,  0,  4,  4,  0,  0,  0, 26,  0,  0,  0,  0,  0, 10,  0,  9,\n",
      "          0, 21, 21,  0,  4,  4, 11,  0,  7, 12, 12,  0,  4,  0, 20,  0, 15, 15,\n",
      "          8,  0,  0,  8,  0,  0, 14,  0,  0,  0, 10,  9,  0,  4,  4,  4, 14, 14,\n",
      "          0, 10, 12, 12,  0,  0,  0,  0, 21,  0, 13, 13,  0,  0,  0,  0,  7,  0,\n",
      "          0, 19,  5,  5,  4,  4,  4,  0,  0,  7,  9, 14,  4,  4, 22,  0,  0,  8,\n",
      "         16,  0, 13,  4,  4,  0, 20,  0, 13, 13,  0, 10, 10,  5,  5,  9,  9,  0,\n",
      "         14,  0,  0, 12,  4,  4,  0,  0,  7, 13, 13,  5,  4,  4,  4,  0,  0,  0,\n",
      "          7,  0, 12,  0,  0, 26, 26,  0,  0,  0,  0, 10,  9, 21, 21,  4,  4,  4,\n",
      "          0, 20,  0,  0,  0,  8, 13,  0,  4,  4,  0, 22,  0,  0,  8, 16, 16,  0,\n",
      "          4,  4,  4,  4,  4,  4,  4,  0,  0,  0,  0,  0,  0,  0,  0,  0,  0,  0,\n",
      "          0,  0,  0,  0,  0,  0,  0,  0,  0,  0,  0,  0,  0]], device='cuda:0')\n",
      "2025-09-13 04:21:46,192 - INFO - Transcription: ['THE KING HAS FLOODIN DISGRACE AND YOUR FRIENDS ARE ASKING FOR YOU']\n",
      "2025-09-13 04:21:46,198 - INFO - Decoded output string: <pad><pad><pad><pad><pad><pad><pad><pad><pad><pad><pad><pad><pad><pad><pad><pad><pad>TH<pad>E<pad>||<pad><pad><pad>K<pad><pad><pad><pad><pad>I<pad>N<pad>GG<pad>||H<pad>ASS<pad>|<pad>F<pad>LLO<pad><pad>O<pad><pad>D<pad><pad><pad>IN<pad>|||DD<pad>ISS<pad><pad><pad><pad>G<pad>RR<pad><pad><pad><pad>A<pad><pad>CEE|||<pad><pad>AND||Y<pad><pad>OU<pad>R||<pad>F<pad>RR<pad>IIEENN<pad>D<pad><pad>S||<pad><pad>ARRE|||<pad><pad><pad>A<pad>S<pad><pad>KK<pad><pad><pad><pad>INGG|||<pad>F<pad><pad><pad>OR<pad>||<pad>Y<pad><pad>OUU<pad>|||||||<pad><pad><pad><pad><pad><pad><pad><pad><pad><pad><pad><pad><pad><pad><pad><pad><pad><pad><pad><pad><pad><pad><pad><pad>\n",
      "2025-09-13 04:21:46,199 - INFO - Computing SHAP values with GradientExplainer\n",
      "2025-09-13 04:33:03,045 - INFO - Raw SHAP values type: <class 'numpy.ndarray'>\n",
      "2025-09-13 04:33:03,046 - INFO - SHAP values shape after conversion: (1, 67600, 211)\n",
      "2025-09-13 04:33:03,048 - INFO - SHAP values shape: (1, 67600, 211)\n",
      "2025-09-13 04:33:03,054 - INFO - SHAP values range: [-7.1973, 10.3805]\n"
     ]
    },
    {
     "name": "stderr",
     "output_type": "stream",
     "text": [
      "Computing metrics:  57%|█████████████████████████████████▌                         | 25/44 [5:51:15<3:43:20, 705.29s/it]"
     ]
    },
    {
     "name": "stdout",
     "output_type": "stream",
     "text": [
      "2025-09-13 04:33:03,118 - INFO - Processing sample 26/44\n",
      "2025-09-13 04:33:03,126 - INFO - Model confidence: 0.8560\n",
      "2025-09-13 04:33:03,127 - INFO - Computing SHAP values\n",
      "2025-09-13 04:33:03,128 - INFO - Created background samples with shape torch.Size([5, 67600])\n",
      "2025-09-13 04:33:03,129 - INFO - Background mean: -0.000001\n",
      "2025-09-13 04:33:03,130 - INFO - Background std: 0.010009\n",
      "2025-09-13 04:33:03,169 - INFO - Model output shape: torch.Size([1, 211])\n",
      "2025-09-13 04:33:03,170 - INFO - Model output mean: 8.792739\n",
      "2025-09-13 04:33:03,171 - INFO - Model output std: 2.725140\n",
      "2025-09-13 04:33:03,172 - INFO - Model output sum: 1855.267822\n",
      "2025-09-13 04:33:03,184 - INFO - Predicted IDs: tensor([[ 0,  0,  0,  0,  0,  0,  0,  0,  0,  0,  0,  0,  0,  0,  0,  0,  0,  6,\n",
      "          0, 11,  5,  0,  0,  4,  0,  0, 26,  0,  0,  0,  0,  0,  0,  5,  0,  9,\n",
      "          0,  0,  0,  4,  4,  0,  0,  0,  7, 12,  0,  0,  4,  4,  0, 20,  0,  0,\n",
      "          0,  0,  5,  0,  0,  0, 14,  0,  0,  0,  5, 14,  0,  4,  4,  0, 18,  0,\n",
      "          0, 10,  6,  0, 11,  4,  4,  0,  0, 20,  0,  0,  0,  0,  7,  0,  0,  0,\n",
      "          0, 19,  0,  5,  0,  4,  0,  0,  0,  8, 20,  0,  0,  0,  4,  4,  6, 11,\n",
      "          0,  0,  5,  0,  4,  4,  0, 20,  0,  0,  0,  0,  7,  0,  0,  9,  0,  0,\n",
      "          0,  0,  0,  4,  4,  6,  0,  0,  5,  0,  0,  0,  0,  0,  0,  0,  0,  0,\n",
      "          7,  0,  0,  0,  0,  6,  0,  0,  0,  0,  0, 10,  9,  0, 21,  0,  4,  4,\n",
      "          0, 20,  0,  0,  0,  8, 13,  0,  4,  4,  4,  0, 22,  0,  0,  8, 16,  0,\n",
      "          0,  4,  4,  4,  4,  4,  0,  0,  0,  0,  0,  0,  0,  0,  0,  0,  0,  0,\n",
      "          0,  0,  0,  0,  0,  0,  0,  0,  0,  0,  0,  0,  0]], device='cuda:0')\n",
      "2025-09-13 04:33:03,185 - INFO - Transcription: ['THE KEN AS FEDED WITH FACE OF THE FAN TEATING FOR YOU']\n",
      "2025-09-13 04:33:03,192 - INFO - Decoded output string: <pad><pad><pad><pad><pad><pad><pad><pad><pad><pad><pad><pad><pad><pad><pad><pad><pad>T<pad>HE<pad><pad>|<pad><pad>K<pad><pad><pad><pad><pad><pad>E<pad>N<pad><pad><pad>||<pad><pad><pad>AS<pad><pad>||<pad>F<pad><pad><pad><pad>E<pad><pad><pad>D<pad><pad><pad>ED<pad>||<pad>W<pad><pad>IT<pad>H||<pad><pad>F<pad><pad><pad><pad>A<pad><pad><pad><pad>C<pad>E<pad>|<pad><pad><pad>OF<pad><pad><pad>||TH<pad><pad>E<pad>||<pad>F<pad><pad><pad><pad>A<pad><pad>N<pad><pad><pad><pad><pad>||T<pad><pad>E<pad><pad><pad><pad><pad><pad><pad><pad><pad>A<pad><pad><pad><pad>T<pad><pad><pad><pad><pad>IN<pad>G<pad>||<pad>F<pad><pad><pad>OR<pad>|||<pad>Y<pad><pad>OU<pad><pad>|||||<pad><pad><pad><pad><pad><pad><pad><pad><pad><pad><pad><pad><pad><pad><pad><pad><pad><pad><pad><pad><pad><pad><pad><pad><pad>\n",
      "2025-09-13 04:33:03,192 - INFO - Computing SHAP values with GradientExplainer\n",
      "2025-09-13 04:44:18,353 - INFO - Raw SHAP values type: <class 'numpy.ndarray'>\n",
      "2025-09-13 04:44:18,354 - INFO - SHAP values shape after conversion: (1, 67600, 211)\n",
      "2025-09-13 04:44:18,356 - INFO - SHAP values shape: (1, 67600, 211)\n",
      "2025-09-13 04:44:18,362 - INFO - SHAP values range: [-9.3455, 19.1653]\n"
     ]
    },
    {
     "name": "stderr",
     "output_type": "stream",
     "text": [
      "Computing metrics:  59%|██████████████████████████████████▊                        | 26/44 [6:02:31<3:28:53, 696.29s/it]"
     ]
    },
    {
     "name": "stdout",
     "output_type": "stream",
     "text": [
      "2025-09-13 04:44:18,424 - INFO - Processing sample 27/44\n",
      "2025-09-13 04:44:18,432 - INFO - Model confidence: 0.8402\n",
      "2025-09-13 04:44:18,432 - INFO - Computing SHAP values\n",
      "2025-09-13 04:44:18,434 - INFO - Created background samples with shape torch.Size([5, 67600])\n",
      "2025-09-13 04:44:18,434 - INFO - Background mean: 0.000013\n",
      "2025-09-13 04:44:18,435 - INFO - Background std: 0.010004\n",
      "2025-09-13 04:44:18,464 - INFO - Model output shape: torch.Size([1, 211])\n",
      "2025-09-13 04:44:18,465 - INFO - Model output mean: 8.032810\n",
      "2025-09-13 04:44:18,466 - INFO - Model output std: 2.398171\n",
      "2025-09-13 04:44:18,467 - INFO - Model output sum: 1694.922852\n",
      "2025-09-13 04:44:18,479 - INFO - Predicted IDs: tensor([[ 0,  0,  0,  0,  0,  0,  0,  0,  0,  0,  0,  0,  0,  0,  0,  0,  0,  0,\n",
      "          0,  0,  0,  0,  0,  0,  0,  0,  0, 26,  0,  0,  0,  0,  0, 10,  9,  0,\n",
      "          0,  0,  0,  4,  0,  0,  0,  0,  5,  0,  0,  0,  4,  0,  0,  0, 20,  0,\n",
      "          0,  0,  7,  0,  0,  0,  0,  0,  0,  0,  0,  4,  4,  0,  0,  6,  0,  0,\n",
      "          0,  5,  0,  0,  0,  4,  0,  0, 20,  0,  0,  0,  0,  0,  7,  0,  0,  0,\n",
      "          0,  6,  0,  0,  0,  4,  0,  0,  0,  0,  0,  0,  4,  0,  0,  6,  0, 11,\n",
      "          0,  5,  0,  0,  0,  4,  0, 20,  0,  0,  0,  0,  0,  0,  0,  0,  6,  0,\n",
      "          0,  0,  0,  4,  0,  0,  0, 24,  0, 13,  0,  0,  0,  0,  0,  0,  7,  0,\n",
      "          0,  0,  0,  6,  0,  0,  0,  0,  4,  0,  0,  0,  8,  9,  0,  0,  0,  4,\n",
      "          0,  0, 20,  0,  0,  0,  8, 13,  0,  0,  0,  4,  4,  0, 17,  0,  0,  5,\n",
      "          0,  0,  0,  0,  4,  4,  4,  0,  0,  0,  0,  0,  0,  0,  0,  0,  0,  0,\n",
      "          0,  0,  0,  0,  0,  0,  0,  0,  0,  0,  0,  0,  0]], device='cuda:0')\n",
      "2025-09-13 04:44:18,480 - INFO - Transcription: ['KIN E FA TE FAT  THE FT BRAT ON FOR ME']\n",
      "2025-09-13 04:44:18,486 - INFO - Decoded output string: <pad><pad><pad><pad><pad><pad><pad><pad><pad><pad><pad><pad><pad><pad><pad><pad><pad><pad><pad><pad><pad><pad><pad><pad><pad><pad><pad>K<pad><pad><pad><pad><pad>IN<pad><pad><pad><pad>|<pad><pad><pad><pad>E<pad><pad><pad>|<pad><pad><pad>F<pad><pad><pad>A<pad><pad><pad><pad><pad><pad><pad><pad>||<pad><pad>T<pad><pad><pad>E<pad><pad><pad>|<pad><pad>F<pad><pad><pad><pad><pad>A<pad><pad><pad><pad>T<pad><pad><pad>|<pad><pad><pad><pad><pad><pad>|<pad><pad>T<pad>H<pad>E<pad><pad><pad>|<pad>F<pad><pad><pad><pad><pad><pad><pad><pad>T<pad><pad><pad><pad>|<pad><pad><pad>B<pad>R<pad><pad><pad><pad><pad><pad>A<pad><pad><pad><pad>T<pad><pad><pad><pad>|<pad><pad><pad>ON<pad><pad><pad>|<pad><pad>F<pad><pad><pad>OR<pad><pad><pad>||<pad>M<pad><pad>E<pad><pad><pad><pad>|||<pad><pad><pad><pad><pad><pad><pad><pad><pad><pad><pad><pad><pad><pad><pad><pad><pad><pad><pad><pad><pad><pad><pad><pad>\n",
      "2025-09-13 04:44:18,486 - INFO - Computing SHAP values with GradientExplainer\n",
      "2025-09-13 04:55:35,565 - INFO - Raw SHAP values type: <class 'numpy.ndarray'>\n",
      "2025-09-13 04:55:35,566 - INFO - SHAP values shape after conversion: (1, 67600, 211)\n",
      "2025-09-13 04:55:35,568 - INFO - SHAP values shape: (1, 67600, 211)\n",
      "2025-09-13 04:55:35,574 - INFO - SHAP values range: [-26.7931, 17.9407]\n"
     ]
    },
    {
     "name": "stderr",
     "output_type": "stream",
     "text": [
      "Computing metrics:  61%|████████████████████████████████████▏                      | 27/44 [6:13:48<3:15:39, 690.57s/it]"
     ]
    },
    {
     "name": "stdout",
     "output_type": "stream",
     "text": [
      "2025-09-13 04:55:35,639 - INFO - Processing sample 28/44\n",
      "2025-09-13 04:55:35,647 - INFO - Model confidence: 0.8452\n",
      "2025-09-13 04:55:35,648 - INFO - Computing SHAP values\n",
      "2025-09-13 04:55:35,650 - INFO - Created background samples with shape torch.Size([5, 67600])\n",
      "2025-09-13 04:55:35,650 - INFO - Background mean: 0.000026\n",
      "2025-09-13 04:55:35,651 - INFO - Background std: 0.009998\n",
      "2025-09-13 04:55:35,680 - INFO - Model output shape: torch.Size([1, 211])\n",
      "2025-09-13 04:55:35,681 - INFO - Model output mean: 7.944171\n",
      "2025-09-13 04:55:35,682 - INFO - Model output std: 2.448619\n",
      "2025-09-13 04:55:35,683 - INFO - Model output sum: 1676.219971\n",
      "2025-09-13 04:55:35,695 - INFO - Predicted IDs: tensor([[ 0,  0,  0,  0,  0,  0,  0,  0,  0,  0,  0,  0,  0,  0,  0,  0,  0,  0,\n",
      "          0,  0,  0,  0,  0,  0,  0,  0,  0,  0,  0,  0,  0,  0, 10,  9,  0,  0,\n",
      "          0,  0,  0,  4,  0,  6,  0,  0,  5,  0,  0,  0,  4,  0,  0, 20,  0,  0,\n",
      "          0,  0, 10,  0,  0,  0,  6,  0,  0,  0,  4,  4,  4,  4,  0,  0, 11,  0,\n",
      "          0,  5,  0,  0,  0,  4,  0,  0, 20,  0,  0,  0,  0,  0, 10,  0,  0,  0,\n",
      "          0,  6,  0,  0,  0,  0,  0,  0,  0,  0,  0,  0,  4,  0,  0,  0,  6, 11,\n",
      "          0,  5,  0,  0,  4,  0, 20,  0,  0,  0,  0, 10,  0,  0,  0,  6,  0,  0,\n",
      "          0,  0,  4,  0,  0,  0, 24,  0,  0, 13,  0,  0,  0,  0,  0,  0, 10,  0,\n",
      "          0,  0,  0,  6,  0,  0,  0,  4,  0,  0,  0, 10,  9,  0,  0,  0,  4,  0,\n",
      "          0, 20,  0,  0,  0,  8, 13,  0,  0,  4,  4,  0,  0, 22,  0,  0,  0,  8,\n",
      "         16,  0,  0,  4,  4,  4,  0,  0,  0,  0,  0,  0,  0,  0,  0,  0,  0,  0,\n",
      "          0,  0,  0,  0,  0,  0,  0,  0,  0,  0,  0,  0,  0]], device='cuda:0')\n",
      "2025-09-13 04:55:35,696 - INFO - Transcription: ['IN TE FIT HE FIT THE FIT BRIT IN FOR YOU']\n",
      "2025-09-13 04:55:35,702 - INFO - Decoded output string: <pad><pad><pad><pad><pad><pad><pad><pad><pad><pad><pad><pad><pad><pad><pad><pad><pad><pad><pad><pad><pad><pad><pad><pad><pad><pad><pad><pad><pad><pad><pad><pad>IN<pad><pad><pad><pad><pad>|<pad>T<pad><pad>E<pad><pad><pad>|<pad><pad>F<pad><pad><pad><pad>I<pad><pad><pad>T<pad><pad><pad>||||<pad><pad>H<pad><pad>E<pad><pad><pad>|<pad><pad>F<pad><pad><pad><pad><pad>I<pad><pad><pad><pad>T<pad><pad><pad><pad><pad><pad><pad><pad><pad><pad>|<pad><pad><pad>TH<pad>E<pad><pad>|<pad>F<pad><pad><pad><pad>I<pad><pad><pad>T<pad><pad><pad><pad>|<pad><pad><pad>B<pad><pad>R<pad><pad><pad><pad><pad><pad>I<pad><pad><pad><pad>T<pad><pad><pad>|<pad><pad><pad>IN<pad><pad><pad>|<pad><pad>F<pad><pad><pad>OR<pad><pad>||<pad><pad>Y<pad><pad><pad>OU<pad><pad>|||<pad><pad><pad><pad><pad><pad><pad><pad><pad><pad><pad><pad><pad><pad><pad><pad><pad><pad><pad><pad><pad><pad><pad><pad><pad>\n",
      "2025-09-13 04:55:35,702 - INFO - Computing SHAP values with GradientExplainer\n",
      "2025-09-13 05:06:52,293 - INFO - Raw SHAP values type: <class 'numpy.ndarray'>\n",
      "2025-09-13 05:06:52,294 - INFO - SHAP values shape after conversion: (1, 67600, 211)\n",
      "2025-09-13 05:06:52,296 - INFO - SHAP values shape: (1, 67600, 211)\n",
      "2025-09-13 05:06:52,302 - INFO - SHAP values range: [-18.9395, 14.9948]\n"
     ]
    },
    {
     "name": "stderr",
     "output_type": "stream",
     "text": [
      "Computing metrics:  64%|█████████████████████████████████████▌                     | 28/44 [6:25:05<3:03:02, 686.41s/it]"
     ]
    },
    {
     "name": "stdout",
     "output_type": "stream",
     "text": [
      "2025-09-13 05:06:52,364 - INFO - Processing sample 29/44\n",
      "2025-09-13 05:06:52,375 - INFO - Model confidence: 0.9819\n",
      "2025-09-13 05:06:52,376 - INFO - Computing SHAP values\n",
      "2025-09-13 05:06:52,378 - INFO - Created background samples with shape torch.Size([5, 74000])\n",
      "2025-09-13 05:06:52,378 - INFO - Background mean: 0.000014\n",
      "2025-09-13 05:06:52,379 - INFO - Background std: 0.010006\n",
      "2025-09-13 05:06:52,411 - INFO - Model output shape: torch.Size([1, 231])\n",
      "2025-09-13 05:06:52,412 - INFO - Model output mean: 14.882113\n",
      "2025-09-13 05:06:52,412 - INFO - Model output std: 1.427964\n",
      "2025-09-13 05:06:52,413 - INFO - Model output sum: 3437.768066\n",
      "2025-09-13 05:06:52,426 - INFO - Predicted IDs: tensor([[ 0,  0,  0,  0,  0,  0,  0,  0,  0,  0,  0,  0,  0,  0,  0,  0,  0,  0,\n",
      "          0,  0,  0,  0, 10,  0,  0,  4,  4,  0,  0,  0, 24,  0,  5, 21,  0,  0,\n",
      "          0, 21,  0,  5, 14,  4,  4,  4,  4,  0,  0, 13, 13, 16, 21,  0,  0,  0,\n",
      "         21,  0,  5,  0,  0, 14,  0,  0,  0,  8,  0,  0,  0,  4,  4,  4,  4,  4,\n",
      "          0,  0, 15, 15,  0,  0,  0,  0,  0,  0,  8,  8,  9,  9, 21,  0,  4,  4,\n",
      "          0,  0,  7,  0,  0, 21,  0,  0,  0,  8,  0,  0,  4,  4,  4,  6,  6,  0,\n",
      "          8,  0,  4,  4,  0, 12,  0,  0,  5,  0,  9,  0, 14,  4,  4,  4, 11,  0,\n",
      "         10, 17,  4,  4,  0,  0,  7,  0,  0, 18,  0,  0,  0,  0,  0,  0,  7, 22,\n",
      "          0,  4,  4,  4,  4,  0, 24,  0,  0, 16,  6,  4,  4, 11,  0,  5,  4,  4,\n",
      "          0, 18,  8,  8,  0, 16, 15, 14, 14,  0,  4,  9,  0,  8,  0,  6,  6,  4,\n",
      "          4,  0,  0,  0, 14,  0,  0,  0,  0,  8,  0,  0,  4,  4,  0,  0,  0, 12,\n",
      "          0,  0,  0,  0,  0,  0,  8,  0,  4,  4,  4,  4,  0,  0,  0,  0,  0,  0,\n",
      "          0,  0,  0,  0,  0,  0,  0,  0,  0,  0,  0,  0,  0,  0,  0]],\n",
      "       device='cuda:0')\n",
      "2025-09-13 05:06:52,427 - INFO - Transcription: ['I BEGGED RUGGEDO LONG AGO TO SEND HIM AWAY BUT HE WOULD NOT DO SO']\n",
      "2025-09-13 05:06:52,433 - INFO - Decoded output string: <pad><pad><pad><pad><pad><pad><pad><pad><pad><pad><pad><pad><pad><pad><pad><pad><pad><pad><pad><pad><pad><pad>I<pad><pad>||<pad><pad><pad>B<pad>EG<pad><pad><pad>G<pad>ED||||<pad><pad>RRUG<pad><pad><pad>G<pad>E<pad><pad>D<pad><pad><pad>O<pad><pad><pad>|||||<pad><pad>LL<pad><pad><pad><pad><pad><pad>OONNG<pad>||<pad><pad>A<pad><pad>G<pad><pad><pad>O<pad><pad>|||TT<pad>O<pad>||<pad>S<pad><pad>E<pad>N<pad>D|||H<pad>IM||<pad><pad>A<pad><pad>W<pad><pad><pad><pad><pad><pad>AY<pad>||||<pad>B<pad><pad>UT||H<pad>E||<pad>WOO<pad>ULDD<pad>|N<pad>O<pad>TT||<pad><pad><pad>D<pad><pad><pad><pad>O<pad><pad>||<pad><pad><pad>S<pad><pad><pad><pad><pad><pad>O<pad>||||<pad><pad><pad><pad><pad><pad><pad><pad><pad><pad><pad><pad><pad><pad><pad><pad><pad><pad><pad><pad><pad>\n",
      "2025-09-13 05:06:52,433 - INFO - Computing SHAP values with GradientExplainer\n",
      "2025-09-13 05:19:40,459 - INFO - Raw SHAP values type: <class 'numpy.ndarray'>\n",
      "2025-09-13 05:19:40,460 - INFO - SHAP values shape after conversion: (1, 74000, 231)\n",
      "2025-09-13 05:19:40,462 - INFO - SHAP values shape: (1, 74000, 231)\n",
      "2025-09-13 05:19:40,469 - INFO - SHAP values range: [-8.1908, 8.5514]\n"
     ]
    },
    {
     "name": "stderr",
     "output_type": "stream",
     "text": [
      "Computing metrics:  66%|██████████████████████████████████████▉                    | 29/44 [6:37:53<2:57:44, 710.95s/it]"
     ]
    },
    {
     "name": "stdout",
     "output_type": "stream",
     "text": [
      "2025-09-13 05:19:40,544 - INFO - Processing sample 30/44\n",
      "2025-09-13 05:19:40,552 - INFO - Model confidence: 0.8251\n",
      "2025-09-13 05:19:40,553 - INFO - Computing SHAP values\n",
      "2025-09-13 05:19:40,554 - INFO - Created background samples with shape torch.Size([5, 74000])\n",
      "2025-09-13 05:19:40,555 - INFO - Background mean: 0.000033\n",
      "2025-09-13 05:19:40,556 - INFO - Background std: 0.009998\n",
      "2025-09-13 05:19:40,587 - INFO - Model output shape: torch.Size([1, 231])\n",
      "2025-09-13 05:19:40,588 - INFO - Model output mean: 8.040087\n",
      "2025-09-13 05:19:40,589 - INFO - Model output std: 2.820348\n",
      "2025-09-13 05:19:40,589 - INFO - Model output sum: 1857.260010\n",
      "2025-09-13 05:19:40,602 - INFO - Predicted IDs: tensor([[ 0,  0,  0,  0,  0,  0,  0,  0,  0,  0,  0,  0,  0,  0,  0,  0,  0,  0,\n",
      "          0,  0,  0,  0,  0, 10,  0,  0,  4,  4,  0, 24,  0,  0,  0,  5,  0,  0,\n",
      "          0, 21,  0,  0,  0,  4,  4,  0,  0, 13,  0,  0,  0,  5,  0,  0,  0, 14,\n",
      "          0,  0,  0,  4,  0, 13,  0,  0,  5,  0,  0,  0,  0,  0,  0,  0,  0,  0,\n",
      "          4,  0,  0, 18,  0,  0,  0,  0,  0,  7,  0,  0,  0,  0,  4,  6,  0,  0,\n",
      "          0,  5,  0,  0,  4,  0, 21,  0,  0,  5,  0,  0,  0,  0,  0,  6,  0,  0,\n",
      "          0,  0,  0,  4,  0,  0,  0,  0,  0,  7,  9,  0,  0,  0,  0,  4,  0,  0,\n",
      "          0,  0,  0,  0,  0,  0,  0,  0,  0,  0,  0,  0,  0,  0,  0,  0,  0,  0,\n",
      "          0,  0,  5,  0,  0,  0,  0,  4,  0,  0,  0,  0,  0,  5,  0,  0,  0,  0,\n",
      "          0,  0,  0,  0,  5,  0,  0,  0,  0,  0,  0,  0,  0,  8,  0,  0,  0,  4,\n",
      "          0,  0,  0, 24,  0,  5,  0,  0,  0,  7, 16,  0,  0,  0,  0,  6,  0,  0,\n",
      "          0,  0,  0, 16, 15,  0,  0,  4,  0,  0,  0,  0,  0,  0,  0,  0,  0,  0,\n",
      "          0,  0,  0,  0,  0,  0,  0,  0,  0,  0,  0,  0,  0,  0,  0]],\n",
      "       device='cuda:0')\n",
      "2025-09-13 05:19:40,603 - INFO - Transcription: ['I BEG RED RE WA TE GET AN E EEO BEAUTUL']\n",
      "2025-09-13 05:19:40,610 - INFO - Decoded output string: <pad><pad><pad><pad><pad><pad><pad><pad><pad><pad><pad><pad><pad><pad><pad><pad><pad><pad><pad><pad><pad><pad><pad>I<pad><pad>||<pad>B<pad><pad><pad>E<pad><pad><pad>G<pad><pad><pad>||<pad><pad>R<pad><pad><pad>E<pad><pad><pad>D<pad><pad><pad>|<pad>R<pad><pad>E<pad><pad><pad><pad><pad><pad><pad><pad><pad>|<pad><pad>W<pad><pad><pad><pad><pad>A<pad><pad><pad><pad>|T<pad><pad><pad>E<pad><pad>|<pad>G<pad><pad>E<pad><pad><pad><pad><pad>T<pad><pad><pad><pad><pad>|<pad><pad><pad><pad><pad>AN<pad><pad><pad><pad>|<pad><pad><pad><pad><pad><pad><pad><pad><pad><pad><pad><pad><pad><pad><pad><pad><pad><pad><pad><pad><pad><pad>E<pad><pad><pad><pad>|<pad><pad><pad><pad><pad>E<pad><pad><pad><pad><pad><pad><pad><pad>E<pad><pad><pad><pad><pad><pad><pad><pad>O<pad><pad><pad>|<pad><pad><pad>B<pad>E<pad><pad><pad>AU<pad><pad><pad><pad>T<pad><pad><pad><pad><pad>UL<pad><pad>|<pad><pad><pad><pad><pad><pad><pad><pad><pad><pad><pad><pad><pad><pad><pad><pad><pad><pad><pad><pad><pad><pad><pad><pad><pad>\n",
      "2025-09-13 05:19:40,611 - INFO - Computing SHAP values with GradientExplainer\n",
      "2025-09-13 05:32:30,592 - INFO - Raw SHAP values type: <class 'numpy.ndarray'>\n",
      "2025-09-13 05:32:30,593 - INFO - SHAP values shape after conversion: (1, 74000, 231)\n",
      "2025-09-13 05:32:30,595 - INFO - SHAP values shape: (1, 74000, 231)\n",
      "2025-09-13 05:32:30,602 - INFO - SHAP values range: [-18.5550, 18.0024]\n"
     ]
    },
    {
     "name": "stderr",
     "output_type": "stream",
     "text": [
      "Computing metrics:  68%|████████████████████████████████████████▏                  | 30/44 [6:50:43<2:50:01, 728.70s/it]"
     ]
    },
    {
     "name": "stdout",
     "output_type": "stream",
     "text": [
      "2025-09-13 05:32:30,675 - INFO - Processing sample 31/44\n",
      "2025-09-13 05:32:30,684 - INFO - Model confidence: 0.8747\n",
      "2025-09-13 05:32:30,684 - INFO - Computing SHAP values\n",
      "2025-09-13 05:32:30,685 - INFO - Created background samples with shape torch.Size([5, 74000])\n",
      "2025-09-13 05:32:30,686 - INFO - Background mean: -0.000025\n",
      "2025-09-13 05:32:30,687 - INFO - Background std: 0.009998\n",
      "2025-09-13 05:32:30,717 - INFO - Model output shape: torch.Size([1, 231])\n",
      "2025-09-13 05:32:30,718 - INFO - Model output mean: 8.025425\n",
      "2025-09-13 05:32:30,719 - INFO - Model output std: 2.560385\n",
      "2025-09-13 05:32:30,719 - INFO - Model output sum: 1853.873169\n",
      "2025-09-13 05:32:30,732 - INFO - Predicted IDs: tensor([[ 0,  0,  0,  0,  0,  0,  0,  0,  0,  0,  0,  0,  0,  0,  0,  0,  0,  0,\n",
      "          0,  0,  0,  0,  0, 10,  0,  0,  4,  4,  0, 24,  0,  0,  0,  5,  0,  0,\n",
      "          0, 21,  0,  0,  0,  0,  4,  4,  0,  0, 15,  0,  0,  5,  0,  0,  0,  6,\n",
      "          0,  0,  5,  0,  0,  4,  0,  0,  0,  0,  0,  0,  0,  0,  0,  0,  0,  0,\n",
      "          0,  0,  0,  0,  0,  9,  0,  0,  0,  5,  0,  0,  0,  0,  0,  0,  0,  0,\n",
      "          5, 13,  0,  0,  4, 21,  0,  0,  0,  5,  0,  0,  0,  0,  0,  0,  0,  0,\n",
      "          0,  0,  0,  0,  0,  0,  0,  0,  0,  0,  0,  0,  0,  0,  0,  0,  0,  0,\n",
      "          0,  0,  0,  0,  0,  0,  0,  0,  0,  0,  0,  0,  0,  0,  0,  0,  0,  0,\n",
      "          0,  0,  0,  0,  0,  0,  0,  4,  0,  0,  0,  0,  0,  0,  0,  0,  0,  0,\n",
      "          0,  0,  0,  0,  0,  0,  0,  0,  0,  0,  0,  0,  0,  0,  0,  0,  0,  0,\n",
      "          0,  0,  0,  0,  0,  0,  0,  0,  0,  0,  0,  0,  0,  0,  0,  4,  0,  0,\n",
      "          0,  0,  0,  0,  0,  0,  0,  0,  0,  0,  0,  0,  0,  0,  0,  0,  0,  0,\n",
      "          0,  0,  0,  0,  0,  0,  0,  0,  0,  0,  0,  0,  0,  0,  0]],\n",
      "       device='cuda:0')\n",
      "2025-09-13 05:32:30,733 - INFO - Transcription: ['I BEG LETE NEER GE']\n",
      "2025-09-13 05:32:30,740 - INFO - Decoded output string: <pad><pad><pad><pad><pad><pad><pad><pad><pad><pad><pad><pad><pad><pad><pad><pad><pad><pad><pad><pad><pad><pad><pad>I<pad><pad>||<pad>B<pad><pad><pad>E<pad><pad><pad>G<pad><pad><pad><pad>||<pad><pad>L<pad><pad>E<pad><pad><pad>T<pad><pad>E<pad><pad>|<pad><pad><pad><pad><pad><pad><pad><pad><pad><pad><pad><pad><pad><pad><pad><pad><pad>N<pad><pad><pad>E<pad><pad><pad><pad><pad><pad><pad><pad>ER<pad><pad>|G<pad><pad><pad>E<pad><pad><pad><pad><pad><pad><pad><pad><pad><pad><pad><pad><pad><pad><pad><pad><pad><pad><pad><pad><pad><pad><pad><pad><pad><pad><pad><pad><pad><pad><pad><pad><pad><pad><pad><pad><pad><pad><pad><pad><pad><pad><pad><pad><pad><pad><pad><pad><pad><pad><pad>|<pad><pad><pad><pad><pad><pad><pad><pad><pad><pad><pad><pad><pad><pad><pad><pad><pad><pad><pad><pad><pad><pad><pad><pad><pad><pad><pad><pad><pad><pad><pad><pad><pad><pad><pad><pad><pad><pad><pad><pad><pad><pad><pad>|<pad><pad><pad><pad><pad><pad><pad><pad><pad><pad><pad><pad><pad><pad><pad><pad><pad><pad><pad><pad><pad><pad><pad><pad><pad><pad><pad><pad><pad><pad><pad><pad><pad><pad><pad>\n",
      "2025-09-13 05:32:30,740 - INFO - Computing SHAP values with GradientExplainer\n",
      "2025-09-13 05:45:22,778 - INFO - Raw SHAP values type: <class 'numpy.ndarray'>\n",
      "2025-09-13 05:45:22,779 - INFO - SHAP values shape after conversion: (1, 74000, 231)\n",
      "2025-09-13 05:45:22,782 - INFO - SHAP values shape: (1, 74000, 231)\n",
      "2025-09-13 05:45:22,790 - INFO - SHAP values range: [-12.4599, 10.7392]\n"
     ]
    },
    {
     "name": "stderr",
     "output_type": "stream",
     "text": [
      "Computing metrics:  70%|█████████████████████████████████████████▌                 | 31/44 [7:03:35<2:40:42, 741.75s/it]"
     ]
    },
    {
     "name": "stdout",
     "output_type": "stream",
     "text": [
      "2025-09-13 05:45:22,870 - INFO - Processing sample 32/44\n",
      "2025-09-13 05:45:22,878 - INFO - Model confidence: 0.8931\n",
      "2025-09-13 05:45:22,878 - INFO - Computing SHAP values\n",
      "2025-09-13 05:45:22,880 - INFO - Created background samples with shape torch.Size([5, 74000])\n",
      "2025-09-13 05:45:22,880 - INFO - Background mean: -0.000005\n",
      "2025-09-13 05:45:22,881 - INFO - Background std: 0.010001\n",
      "2025-09-13 05:45:22,922 - INFO - Model output shape: torch.Size([1, 231])\n",
      "2025-09-13 05:45:22,923 - INFO - Model output mean: 7.846727\n",
      "2025-09-13 05:45:22,923 - INFO - Model output std: 2.003201\n",
      "2025-09-13 05:45:22,924 - INFO - Model output sum: 1812.593994\n",
      "2025-09-13 05:45:22,937 - INFO - Predicted IDs: tensor([[ 0,  0,  0,  0,  0,  0,  0,  0,  0,  0,  0,  0,  0,  0,  0,  0,  0,  0,\n",
      "          0,  0,  0,  0,  0, 10,  0,  0,  0,  4,  0,  0, 24,  0,  0,  5,  0,  0,\n",
      "          0, 21,  0,  0,  0,  0,  0,  4,  0,  0,  0,  0,  0,  5,  0,  0,  0,  6,\n",
      "          0,  0,  5,  0,  0,  4,  0,  0,  0,  0,  0,  0,  0,  0,  0,  0,  0,  0,\n",
      "          0,  0,  0,  0,  0,  0,  0,  0,  0,  0,  5,  0,  0,  0,  6,  0,  0,  0,\n",
      "          5,  0,  0,  0,  4,  0,  0,  0,  0,  5,  0,  0,  0,  0,  0,  0,  0,  0,\n",
      "          0,  0,  0,  0,  0,  0,  0,  0,  0,  0,  0,  0,  0,  0,  0,  0,  0,  0,\n",
      "          0,  0,  0,  0,  0,  0,  0,  0,  0,  0,  0,  0,  0,  0,  0,  0,  0,  0,\n",
      "          0,  0,  0,  0,  0,  0,  0,  0,  0,  0,  0,  0,  0,  0,  0,  0,  0,  0,\n",
      "          0,  0,  0,  0,  0,  0,  0,  0,  0,  0,  0,  0,  0,  0,  0,  0,  0,  0,\n",
      "          0,  0,  0,  0,  0,  0,  0,  0,  0,  0,  0,  0,  0,  0,  0,  0,  0,  0,\n",
      "          0,  0,  0,  0,  0,  0,  0,  0,  0,  0,  0,  0,  0,  0,  0,  0,  0,  0,\n",
      "          0,  0,  0,  0,  0,  0,  0,  0,  0,  0,  0,  0,  0,  0,  0]],\n",
      "       device='cuda:0')\n",
      "2025-09-13 05:45:22,938 - INFO - Transcription: ['I BEG ETE ETE E']\n",
      "2025-09-13 05:45:22,944 - INFO - Decoded output string: <pad><pad><pad><pad><pad><pad><pad><pad><pad><pad><pad><pad><pad><pad><pad><pad><pad><pad><pad><pad><pad><pad><pad>I<pad><pad><pad>|<pad><pad>B<pad><pad>E<pad><pad><pad>G<pad><pad><pad><pad><pad>|<pad><pad><pad><pad><pad>E<pad><pad><pad>T<pad><pad>E<pad><pad>|<pad><pad><pad><pad><pad><pad><pad><pad><pad><pad><pad><pad><pad><pad><pad><pad><pad><pad><pad><pad><pad><pad>E<pad><pad><pad>T<pad><pad><pad>E<pad><pad><pad>|<pad><pad><pad><pad>E<pad><pad><pad><pad><pad><pad><pad><pad><pad><pad><pad><pad><pad><pad><pad><pad><pad><pad><pad><pad><pad><pad><pad><pad><pad><pad><pad><pad><pad><pad><pad><pad><pad><pad><pad><pad><pad><pad><pad><pad><pad><pad><pad><pad><pad><pad><pad><pad><pad><pad><pad><pad><pad><pad><pad><pad><pad><pad><pad><pad><pad><pad><pad><pad><pad><pad><pad><pad><pad><pad><pad><pad><pad><pad><pad><pad><pad><pad><pad><pad><pad><pad><pad><pad><pad><pad><pad><pad><pad><pad><pad><pad><pad><pad><pad><pad><pad><pad><pad><pad><pad><pad><pad><pad><pad><pad><pad><pad><pad><pad><pad><pad><pad><pad><pad><pad><pad><pad><pad><pad><pad><pad><pad><pad><pad><pad><pad><pad><pad><pad><pad>\n",
      "2025-09-13 05:45:22,945 - INFO - Computing SHAP values with GradientExplainer\n",
      "2025-09-13 05:58:14,480 - INFO - Raw SHAP values type: <class 'numpy.ndarray'>\n",
      "2025-09-13 05:58:14,482 - INFO - SHAP values shape after conversion: (1, 74000, 231)\n",
      "2025-09-13 05:58:14,484 - INFO - SHAP values shape: (1, 74000, 231)\n",
      "2025-09-13 05:58:14,491 - INFO - SHAP values range: [-16.1726, 17.8172]\n"
     ]
    },
    {
     "name": "stderr",
     "output_type": "stream",
     "text": [
      "Computing metrics:  73%|██████████████████████████████████████████▉                | 32/44 [7:16:27<2:30:08, 750.73s/it]"
     ]
    },
    {
     "name": "stdout",
     "output_type": "stream",
     "text": [
      "2025-09-13 05:58:14,568 - INFO - Processing sample 33/44\n",
      "2025-09-13 05:58:14,579 - INFO - Model confidence: 0.9714\n",
      "2025-09-13 05:58:14,580 - INFO - Computing SHAP values\n",
      "2025-09-13 05:58:14,581 - INFO - Created background samples with shape torch.Size([5, 65440])\n",
      "2025-09-13 05:58:14,582 - INFO - Background mean: 0.000033\n",
      "2025-09-13 05:58:14,583 - INFO - Background std: 0.009999\n",
      "2025-09-13 05:58:14,612 - INFO - Model output shape: torch.Size([1, 204])\n",
      "2025-09-13 05:58:14,613 - INFO - Model output mean: 14.246077\n",
      "2025-09-13 05:58:14,614 - INFO - Model output std: 1.490782\n",
      "2025-09-13 05:58:14,614 - INFO - Model output sum: 2906.199463\n",
      "2025-09-13 05:58:14,638 - INFO - Predicted IDs: tensor([[ 0,  0,  0,  0,  0,  0,  0,  0,  0,  0,  0,  0,  0,  0,  0,  0,  0,  0,\n",
      "          0,  0,  0,  0, 10,  4,  4,  4,  4,  4,  0,  0,  0,  0,  7, 15,  0,  0,\n",
      "          0,  0, 12,  0,  0,  0,  8,  0,  4,  4,  0,  0,  0,  8, 20,  0,  0,  0,\n",
      "         20,  5,  5, 13,  5,  5, 14,  0,  4,  4,  6,  8,  4,  4,  0, 11,  5,  5,\n",
      "         15, 23, 23,  0,  4, 22,  0,  8, 16, 13,  4,  4, 24, 13,  8,  8,  6, 11,\n",
      "         11,  5, 13,  0,  4,  4,  6,  0,  8,  0,  4,  4,  4,  0,  5,  0, 12, 12,\n",
      "          0,  0, 19,  0,  0,  0,  0,  7,  0, 23,  5,  5,  4,  4,  0,  0,  0,  0,\n",
      "          0,  0,  0, 24,  0, 16,  6,  4,  4, 11,  5,  4,  4,  0, 18,  8,  0, 16,\n",
      "         15,  0, 14,  0,  4,  4,  9,  0,  8,  0,  6,  6,  4,  4,  4,  0,  0,  0,\n",
      "         21,  0,  0,  0,  0,  0,  0,  0,  0,  8,  0,  4,  4,  4,  4,  4,  4,  0,\n",
      "          0,  0,  0,  0,  0,  0,  0,  0,  0,  0,  0,  0,  0,  0,  0,  0,  0,  0,\n",
      "          0,  0,  0,  0,  0,  0]], device='cuda:0')\n",
      "2025-09-13 05:58:14,639 - INFO - Transcription: ['I ALSO OFFERED TO HELP YOUR BROTHER TO ESCAPE BUT HE WOULD NOT GO']\n",
      "2025-09-13 05:58:14,645 - INFO - Decoded output string: <pad><pad><pad><pad><pad><pad><pad><pad><pad><pad><pad><pad><pad><pad><pad><pad><pad><pad><pad><pad><pad><pad>I|||||<pad><pad><pad><pad>AL<pad><pad><pad><pad>S<pad><pad><pad>O<pad>||<pad><pad><pad>OF<pad><pad><pad>FEEREED<pad>||TO||<pad>HEELPP<pad>|Y<pad>OUR||BROOTHHER<pad>||T<pad>O<pad>|||<pad>E<pad>SS<pad><pad>C<pad><pad><pad><pad>A<pad>PEE||<pad><pad><pad><pad><pad><pad><pad>B<pad>UT||HE||<pad>WO<pad>UL<pad>D<pad>||N<pad>O<pad>TT|||<pad><pad><pad>G<pad><pad><pad><pad><pad><pad><pad><pad>O<pad>||||||<pad><pad><pad><pad><pad><pad><pad><pad><pad><pad><pad><pad><pad><pad><pad><pad><pad><pad><pad><pad><pad><pad><pad><pad><pad>\n",
      "2025-09-13 05:58:14,646 - INFO - Computing SHAP values with GradientExplainer\n",
      "2025-09-13 06:09:05,481 - INFO - Raw SHAP values type: <class 'numpy.ndarray'>\n",
      "2025-09-13 06:09:05,482 - INFO - SHAP values shape after conversion: (1, 65440, 204)\n",
      "2025-09-13 06:09:05,484 - INFO - SHAP values shape: (1, 65440, 204)\n",
      "2025-09-13 06:09:05,490 - INFO - SHAP values range: [-11.8795, 9.8121]\n"
     ]
    },
    {
     "name": "stderr",
     "output_type": "stream",
     "text": [
      "Computing metrics:  75%|████████████████████████████████████████████▎              | 33/44 [7:27:18<2:12:08, 720.81s/it]"
     ]
    },
    {
     "name": "stdout",
     "output_type": "stream",
     "text": [
      "2025-09-13 06:09:05,563 - INFO - Processing sample 34/44\n",
      "2025-09-13 06:09:05,571 - INFO - Model confidence: 0.8415\n",
      "2025-09-13 06:09:05,571 - INFO - Computing SHAP values\n",
      "2025-09-13 06:09:05,573 - INFO - Created background samples with shape torch.Size([5, 65440])\n",
      "2025-09-13 06:09:05,574 - INFO - Background mean: -0.000017\n",
      "2025-09-13 06:09:05,574 - INFO - Background std: 0.009976\n",
      "2025-09-13 06:09:05,602 - INFO - Model output shape: torch.Size([1, 204])\n",
      "2025-09-13 06:09:05,603 - INFO - Model output mean: 8.820007\n",
      "2025-09-13 06:09:05,604 - INFO - Model output std: 3.192631\n",
      "2025-09-13 06:09:05,605 - INFO - Model output sum: 1799.281494\n",
      "2025-09-13 06:09:05,628 - INFO - Predicted IDs: tensor([[ 0,  0,  0,  0,  0,  0,  0,  0,  0,  0,  0,  0,  0,  0,  0,  0,  0,  0,\n",
      "          0,  0,  0,  0,  0, 10,  0,  4,  4,  4,  0,  0,  0,  0,  7, 15,  0,  0,\n",
      "          0,  0, 12,  0,  0,  8,  0,  4,  4,  4,  0,  0,  0,  8, 20,  0,  0,  0,\n",
      "         20,  0,  5, 13,  0,  5,  0,  4,  4,  6,  0,  8,  0,  0,  4,  4,  0, 16,\n",
      "         23,  0,  0,  0,  6,  0,  5, 13,  0,  0,  4,  4,  0,  0,  8,  0,  0,  0,\n",
      "          0,  0,  0,  0,  0,  0,  6,  0,  0,  8,  0,  0,  0,  0,  0,  0,  0, 12,\n",
      "          0,  0,  0,  6,  0,  0,  0,  7,  0,  0,  0,  6,  5,  0,  0,  4,  0,  0,\n",
      "          0,  0,  0,  0,  0,  7,  0,  0,  0,  0,  0,  0,  0,  4,  0,  0,  8,  0,\n",
      "          0,  0,  0,  4,  0,  0,  0,  8,  0,  0,  0,  0,  4,  4,  0,  0,  0,  0,\n",
      "          0, 21,  0,  0,  0,  0,  0,  8,  0,  0,  0,  0,  0,  0,  4,  4,  4,  4,\n",
      "          0,  0,  0,  0,  0,  0,  0,  0,  0,  0,  0,  0,  0,  0,  0,  0,  0,  0,\n",
      "          0,  0,  0,  0,  0,  0]], device='cuda:0')\n",
      "2025-09-13 06:09:05,630 - INFO - Transcription: ['I ALSO OFFERE TO UPTER OTOSTATE A O O GO']\n",
      "2025-09-13 06:09:05,635 - INFO - Decoded output string: <pad><pad><pad><pad><pad><pad><pad><pad><pad><pad><pad><pad><pad><pad><pad><pad><pad><pad><pad><pad><pad><pad><pad>I<pad>|||<pad><pad><pad><pad>AL<pad><pad><pad><pad>S<pad><pad>O<pad>|||<pad><pad><pad>OF<pad><pad><pad>F<pad>ER<pad>E<pad>||T<pad>O<pad><pad>||<pad>UP<pad><pad><pad>T<pad>ER<pad><pad>||<pad><pad>O<pad><pad><pad><pad><pad><pad><pad><pad><pad>T<pad><pad>O<pad><pad><pad><pad><pad><pad><pad>S<pad><pad><pad>T<pad><pad><pad>A<pad><pad><pad>TE<pad><pad>|<pad><pad><pad><pad><pad><pad><pad>A<pad><pad><pad><pad><pad><pad><pad>|<pad><pad>O<pad><pad><pad><pad>|<pad><pad><pad>O<pad><pad><pad><pad>||<pad><pad><pad><pad><pad>G<pad><pad><pad><pad><pad>O<pad><pad><pad><pad><pad><pad>||||<pad><pad><pad><pad><pad><pad><pad><pad><pad><pad><pad><pad><pad><pad><pad><pad><pad><pad><pad><pad><pad><pad><pad><pad>\n",
      "2025-09-13 06:09:05,636 - INFO - Computing SHAP values with GradientExplainer\n",
      "2025-09-13 06:19:55,226 - INFO - Raw SHAP values type: <class 'numpy.ndarray'>\n",
      "2025-09-13 06:19:55,228 - INFO - SHAP values shape after conversion: (1, 65440, 204)\n",
      "2025-09-13 06:19:55,230 - INFO - SHAP values shape: (1, 65440, 204)\n",
      "2025-09-13 06:19:55,235 - INFO - SHAP values range: [-12.7563, 10.8293]\n"
     ]
    },
    {
     "name": "stderr",
     "output_type": "stream",
     "text": [
      "Computing metrics:  77%|█████████████████████████████████████████████▌             | 34/44 [7:38:08<1:56:34, 699.49s/it]"
     ]
    },
    {
     "name": "stdout",
     "output_type": "stream",
     "text": [
      "2025-09-13 06:19:55,294 - INFO - Processing sample 35/44\n",
      "2025-09-13 06:19:55,302 - INFO - Model confidence: 0.8882\n",
      "2025-09-13 06:19:55,303 - INFO - Computing SHAP values\n",
      "2025-09-13 06:19:55,305 - INFO - Created background samples with shape torch.Size([5, 65440])\n",
      "2025-09-13 06:19:55,305 - INFO - Background mean: 0.000039\n",
      "2025-09-13 06:19:55,306 - INFO - Background std: 0.010004\n",
      "2025-09-13 06:19:55,334 - INFO - Model output shape: torch.Size([1, 204])\n",
      "2025-09-13 06:19:55,335 - INFO - Model output mean: 7.241989\n",
      "2025-09-13 06:19:55,336 - INFO - Model output std: 1.408818\n",
      "2025-09-13 06:19:55,336 - INFO - Model output sum: 1477.365723\n",
      "2025-09-13 06:19:55,348 - INFO - Predicted IDs: tensor([[ 0,  0,  0,  0,  0,  0,  0,  0,  0,  0,  0,  0,  0,  0,  0,  0,  0,  0,\n",
      "          0,  0,  0,  0,  0, 10,  0,  0,  4,  4,  0,  0,  0,  0,  8, 20,  0,  0,\n",
      "          0,  0, 12,  0,  0,  8,  0,  0,  0,  4,  0,  0,  0,  8, 20,  0,  0,  0,\n",
      "          0,  6,  0,  0,  5,  0,  0,  0,  4,  0,  0,  0,  0,  0,  0,  0,  0,  0,\n",
      "          0,  0,  0,  0,  0,  0,  0,  0,  0,  0,  0,  0,  0,  0,  0,  0,  0,  0,\n",
      "          0,  0,  0,  0,  0,  0,  0,  0,  0,  0,  0,  0,  0,  0,  0,  0,  0,  0,\n",
      "          0,  0,  0, 20,  0,  0,  0, 10,  0,  0,  0,  0,  0,  0,  4,  0,  0,  0,\n",
      "          0,  0,  0,  0,  0,  0,  0,  0,  0,  0,  0,  0,  0,  0,  0,  0,  0,  0,\n",
      "          0,  0,  0,  0,  0,  0,  0,  0,  0,  0,  0,  0,  0,  0,  0,  0,  0,  0,\n",
      "          0,  0,  0,  0,  0,  0, 10,  0,  0,  0,  0,  0, 15,  0,  0,  0,  4,  0,\n",
      "          0,  0,  0,  0,  0,  0,  0,  0,  0,  0,  0,  0,  0,  0,  0,  0,  0,  0,\n",
      "          0,  0,  0,  0,  0,  0]], device='cuda:0')\n",
      "2025-09-13 06:19:55,349 - INFO - Transcription: ['I OFSO OFTE FI IL']\n",
      "2025-09-13 06:19:55,355 - INFO - Decoded output string: <pad><pad><pad><pad><pad><pad><pad><pad><pad><pad><pad><pad><pad><pad><pad><pad><pad><pad><pad><pad><pad><pad><pad>I<pad><pad>||<pad><pad><pad><pad>OF<pad><pad><pad><pad>S<pad><pad>O<pad><pad><pad>|<pad><pad><pad>OF<pad><pad><pad><pad>T<pad><pad>E<pad><pad><pad>|<pad><pad><pad><pad><pad><pad><pad><pad><pad><pad><pad><pad><pad><pad><pad><pad><pad><pad><pad><pad><pad><pad><pad><pad><pad><pad><pad><pad><pad><pad><pad><pad><pad><pad><pad><pad><pad><pad><pad><pad><pad><pad><pad><pad><pad><pad><pad><pad>F<pad><pad><pad>I<pad><pad><pad><pad><pad><pad>|<pad><pad><pad><pad><pad><pad><pad><pad><pad><pad><pad><pad><pad><pad><pad><pad><pad><pad><pad><pad><pad><pad><pad><pad><pad><pad><pad><pad><pad><pad><pad><pad><pad><pad><pad><pad><pad><pad><pad><pad><pad><pad><pad><pad><pad>I<pad><pad><pad><pad><pad>L<pad><pad><pad>|<pad><pad><pad><pad><pad><pad><pad><pad><pad><pad><pad><pad><pad><pad><pad><pad><pad><pad><pad><pad><pad><pad><pad><pad><pad>\n",
      "2025-09-13 06:19:55,356 - INFO - Computing SHAP values with GradientExplainer\n",
      "2025-09-13 06:30:43,456 - INFO - Raw SHAP values type: <class 'numpy.ndarray'>\n",
      "2025-09-13 06:30:43,457 - INFO - SHAP values shape after conversion: (1, 65440, 204)\n",
      "2025-09-13 06:30:43,459 - INFO - SHAP values shape: (1, 65440, 204)\n",
      "2025-09-13 06:30:43,465 - INFO - SHAP values range: [-12.2569, 11.2451]\n"
     ]
    },
    {
     "name": "stderr",
     "output_type": "stream",
     "text": [
      "Computing metrics:  80%|██████████████████████████████████████████████▉            | 35/44 [7:48:56<1:42:36, 684.11s/it]"
     ]
    },
    {
     "name": "stdout",
     "output_type": "stream",
     "text": [
      "2025-09-13 06:30:43,526 - INFO - Processing sample 36/44\n",
      "2025-09-13 06:30:43,534 - INFO - Model confidence: 0.8957\n",
      "2025-09-13 06:30:43,534 - INFO - Computing SHAP values\n",
      "2025-09-13 06:30:43,536 - INFO - Created background samples with shape torch.Size([5, 65440])\n",
      "2025-09-13 06:30:43,536 - INFO - Background mean: -0.000024\n",
      "2025-09-13 06:30:43,537 - INFO - Background std: 0.009999\n",
      "2025-09-13 06:30:43,565 - INFO - Model output shape: torch.Size([1, 204])\n",
      "2025-09-13 06:30:43,566 - INFO - Model output mean: 7.392611\n",
      "2025-09-13 06:30:43,567 - INFO - Model output std: 1.489266\n",
      "2025-09-13 06:30:43,567 - INFO - Model output sum: 1508.092529\n",
      "2025-09-13 06:30:43,580 - INFO - Predicted IDs: tensor([[ 0,  0,  0,  0,  0,  0,  0,  0,  0,  0,  0,  0,  0,  0,  0,  0,  0,  0,\n",
      "          0,  0,  0,  0,  0, 10,  0,  0,  0,  4,  0,  0,  0,  0,  8, 20,  0,  0,\n",
      "          0,  0,  0,  0,  0,  0,  0,  0,  0,  0,  0,  0,  0,  8, 20,  0,  0,  0,\n",
      "          0,  6,  0,  0,  5,  0,  0,  0,  0,  0,  0,  0,  0,  0,  0,  0,  0,  0,\n",
      "          0,  0,  0,  0,  0,  0,  0,  0,  0,  0,  0,  0,  0,  0,  0,  0,  0,  0,\n",
      "          0,  0,  0,  0,  0,  0,  0,  0,  0,  0,  0,  0,  0,  0,  0,  0,  0,  0,\n",
      "          0,  0,  0,  0,  0,  0,  0,  0,  0,  0,  0,  0,  0,  0,  0,  0,  0,  0,\n",
      "          0,  0,  0,  0,  0,  0,  0,  0,  0,  0,  0,  0,  0,  0,  0,  0,  0,  0,\n",
      "          0,  0,  0,  0,  0,  0,  0,  0,  0,  0,  0,  0,  0,  0,  0,  0,  0,  0,\n",
      "          0,  0, 17,  0,  0,  0, 10,  0,  0,  0,  0, 15,  0,  0,  0,  4,  0,  0,\n",
      "          0,  0,  0,  0,  0,  0,  0,  0,  0,  0,  0,  0,  0,  0,  0,  0,  0,  0,\n",
      "          0,  0,  0,  0,  0,  0]], device='cuda:0')\n",
      "2025-09-13 06:30:43,581 - INFO - Transcription: ['I OFOFTEMIL']\n",
      "2025-09-13 06:30:43,586 - INFO - Decoded output string: <pad><pad><pad><pad><pad><pad><pad><pad><pad><pad><pad><pad><pad><pad><pad><pad><pad><pad><pad><pad><pad><pad><pad>I<pad><pad><pad>|<pad><pad><pad><pad>OF<pad><pad><pad><pad><pad><pad><pad><pad><pad><pad><pad><pad><pad><pad><pad>OF<pad><pad><pad><pad>T<pad><pad>E<pad><pad><pad><pad><pad><pad><pad><pad><pad><pad><pad><pad><pad><pad><pad><pad><pad><pad><pad><pad><pad><pad><pad><pad><pad><pad><pad><pad><pad><pad><pad><pad><pad><pad><pad><pad><pad><pad><pad><pad><pad><pad><pad><pad><pad><pad><pad><pad><pad><pad><pad><pad><pad><pad><pad><pad><pad><pad><pad><pad><pad><pad><pad><pad><pad><pad><pad><pad><pad><pad><pad><pad><pad><pad><pad><pad><pad><pad><pad><pad><pad><pad><pad><pad><pad><pad><pad><pad><pad><pad><pad><pad><pad><pad><pad><pad><pad><pad><pad><pad><pad><pad><pad><pad><pad>M<pad><pad><pad>I<pad><pad><pad><pad>L<pad><pad><pad>|<pad><pad><pad><pad><pad><pad><pad><pad><pad><pad><pad><pad><pad><pad><pad><pad><pad><pad><pad><pad><pad><pad><pad><pad><pad><pad>\n",
      "2025-09-13 06:30:43,587 - INFO - Computing SHAP values with GradientExplainer\n",
      "2025-09-13 06:41:35,166 - INFO - Raw SHAP values type: <class 'numpy.ndarray'>\n",
      "2025-09-13 06:41:35,167 - INFO - SHAP values shape after conversion: (1, 65440, 204)\n",
      "2025-09-13 06:41:35,169 - INFO - SHAP values shape: (1, 65440, 204)\n",
      "2025-09-13 06:41:35,175 - INFO - SHAP values range: [-25.9680, 20.6082]\n"
     ]
    },
    {
     "name": "stderr",
     "output_type": "stream",
     "text": [
      "Computing metrics:  82%|████████████████████████████████████████████████▎          | 36/44 [7:59:48<1:29:55, 674.39s/it]"
     ]
    },
    {
     "name": "stdout",
     "output_type": "stream",
     "text": [
      "2025-09-13 06:41:35,234 - INFO - Processing sample 37/44\n",
      "2025-09-13 06:41:35,245 - INFO - Model confidence: 0.9816\n",
      "2025-09-13 06:41:35,245 - INFO - Computing SHAP values\n",
      "2025-09-13 06:41:35,247 - INFO - Created background samples with shape torch.Size([5, 64880])\n",
      "2025-09-13 06:41:35,247 - INFO - Background mean: 0.000019\n",
      "2025-09-13 06:41:35,248 - INFO - Background std: 0.010015\n",
      "2025-09-13 06:41:35,276 - INFO - Model output shape: torch.Size([1, 202])\n",
      "2025-09-13 06:41:35,277 - INFO - Model output mean: 14.015937\n",
      "2025-09-13 06:41:35,278 - INFO - Model output std: 1.447209\n",
      "2025-09-13 06:41:35,279 - INFO - Model output sum: 2831.219238\n",
      "2025-09-13 06:41:35,291 - INFO - Predicted IDs: tensor([[ 0,  0,  0,  0,  0,  0,  0,  0,  0,  0,  0,  0,  0,  0,  0,  0,  0,  0,\n",
      "          0,  0,  0,  0,  0,  0,  0,  0,  0, 11, 11,  0,  0,  5,  0,  4,  4,  4,\n",
      "          0,  0,  0,  0,  5,  0,  7,  7,  0,  6,  0,  0, 12,  0,  4,  4,  0,  0,\n",
      "          7,  9,  0, 14,  4,  4,  4,  4,  4,  0, 12, 12,  0, 15, 15,  5,  5,  0,\n",
      "          0,  5,  0, 23, 23,  0,  0, 12,  0,  4,  4,  0,  0, 25,  0,  0,  0,  5,\n",
      "         13, 13,  0, 22,  0,  4,  0, 12, 12,  0,  6,  0,  0,  0,  5,  7,  7,  0,\n",
      "         14,  0, 10, 10,  0,  0, 15,  0,  0, 22,  0,  4,  4,  4,  4,  0,  0,  0,\n",
      "         13, 13,  0,  5,  0,  0, 23, 23, 15,  0,  0,  0,  0, 10,  0,  5,  5, 14,\n",
      "          4,  4,  4,  6, 11,  0,  5,  4,  4,  9,  9,  0,  0,  5, 18,  0,  4,  4,\n",
      "          0, 26,  0,  0,  0,  0, 10,  9,  0, 21,  4,  4,  4,  4,  4,  4,  0,  0,\n",
      "          0,  0,  0,  0,  0,  0,  0,  0,  0,  0,  0,  0,  0,  0,  0,  0,  0,  0,\n",
      "          0,  0,  0,  0]], device='cuda:0')\n",
      "2025-09-13 06:41:35,292 - INFO - Transcription: ['HE EATS AND SLEEPS VERY STEADILY REPLIED THE NEW KING']\n",
      "2025-09-13 06:41:35,298 - INFO - Decoded output string: <pad><pad><pad><pad><pad><pad><pad><pad><pad><pad><pad><pad><pad><pad><pad><pad><pad><pad><pad><pad><pad><pad><pad><pad><pad><pad><pad>HH<pad><pad>E<pad>|||<pad><pad><pad><pad>E<pad>AA<pad>T<pad><pad>S<pad>||<pad><pad>AN<pad>D|||||<pad>SS<pad>LLEE<pad><pad>E<pad>PP<pad><pad>S<pad>||<pad><pad>V<pad><pad><pad>ERR<pad>Y<pad>|<pad>SS<pad>T<pad><pad><pad>EAA<pad>D<pad>II<pad><pad>L<pad><pad>Y<pad>||||<pad><pad><pad>RR<pad>E<pad><pad>PPL<pad><pad><pad><pad>I<pad>EED|||TH<pad>E||NN<pad><pad>EW<pad>||<pad>K<pad><pad><pad><pad>IN<pad>G||||||<pad><pad><pad><pad><pad><pad><pad><pad><pad><pad><pad><pad><pad><pad><pad><pad><pad><pad><pad><pad><pad><pad><pad><pad>\n",
      "2025-09-13 06:41:35,298 - INFO - Computing SHAP values with GradientExplainer\n",
      "2025-09-13 06:52:19,647 - INFO - Raw SHAP values type: <class 'numpy.ndarray'>\n",
      "2025-09-13 06:52:19,648 - INFO - SHAP values shape after conversion: (1, 64880, 202)\n",
      "2025-09-13 06:52:19,650 - INFO - SHAP values shape: (1, 64880, 202)\n",
      "2025-09-13 06:52:19,656 - INFO - SHAP values range: [-154.7836, 223.7631]\n"
     ]
    },
    {
     "name": "stderr",
     "output_type": "stream",
     "text": [
      "Computing metrics:  84%|█████████████████████████████████████████████████▌         | 37/44 [8:10:32<1:17:37, 665.42s/it]"
     ]
    },
    {
     "name": "stdout",
     "output_type": "stream",
     "text": [
      "2025-09-13 06:52:19,714 - INFO - Processing sample 38/44\n",
      "2025-09-13 06:52:19,722 - INFO - Model confidence: 0.8379\n",
      "2025-09-13 06:52:19,723 - INFO - Computing SHAP values\n",
      "2025-09-13 06:52:19,724 - INFO - Created background samples with shape torch.Size([5, 64880])\n",
      "2025-09-13 06:52:19,724 - INFO - Background mean: 0.000005\n",
      "2025-09-13 06:52:19,725 - INFO - Background std: 0.010009\n",
      "2025-09-13 06:52:19,752 - INFO - Model output shape: torch.Size([1, 202])\n",
      "2025-09-13 06:52:19,753 - INFO - Model output mean: 8.142442\n",
      "2025-09-13 06:52:19,753 - INFO - Model output std: 3.036869\n",
      "2025-09-13 06:52:19,754 - INFO - Model output sum: 1644.773315\n",
      "2025-09-13 06:52:19,766 - INFO - Predicted IDs: tensor([[ 0,  0,  0,  0,  0,  0,  0,  0,  0,  0,  0,  0,  0,  0,  0,  0,  0,  0,\n",
      "          0,  0,  0,  0,  0,  0,  0,  0,  0,  0,  0,  0,  0, 10,  6,  0,  0,  4,\n",
      "          0,  0,  0,  0,  0, 10,  0,  0,  0,  0,  0,  0,  0,  4,  0,  0,  0,  0,\n",
      "         10,  0,  0,  0,  0,  0,  0,  0,  0,  0,  4,  0,  0,  0,  0,  0,  0,  0,\n",
      "         10,  0,  0,  0,  0,  0,  4,  0,  0,  0,  0,  0,  0,  0,  0,  0,  0,  0,\n",
      "          0,  0,  0,  0,  0,  0,  0,  0,  0,  0,  0,  0, 24,  0,  0,  5,  6,  0,\n",
      "          0,  6,  0,  0,  5, 13,  0,  4,  4,  4,  0,  0,  0,  0,  0,  4,  0, 13,\n",
      "          0,  0,  5,  0,  0,  0,  0, 23,  0, 15,  0,  0,  0,  0, 10,  0,  5,  0,\n",
      "          0,  4,  0,  0,  0,  0,  0,  0,  4,  0,  0,  0,  0,  5,  0,  0,  0,  0,\n",
      "          0,  6,  0,  0, 10,  0,  0,  0,  0,  0,  0,  0,  0,  4,  4,  4,  0,  0,\n",
      "          0,  0,  0,  0,  0,  0,  0,  0,  0,  0,  0,  0,  0,  0,  0,  0,  0,  0,\n",
      "          0,  0,  0,  0]], device='cuda:0')\n",
      "2025-09-13 06:52:19,767 - INFO - Transcription: ['IT I I I BETTER  REPLIE  ETI']\n",
      "2025-09-13 06:52:19,776 - INFO - Decoded output string: <pad><pad><pad><pad><pad><pad><pad><pad><pad><pad><pad><pad><pad><pad><pad><pad><pad><pad><pad><pad><pad><pad><pad><pad><pad><pad><pad><pad><pad><pad><pad>IT<pad><pad>|<pad><pad><pad><pad><pad>I<pad><pad><pad><pad><pad><pad><pad>|<pad><pad><pad><pad>I<pad><pad><pad><pad><pad><pad><pad><pad><pad>|<pad><pad><pad><pad><pad><pad><pad>I<pad><pad><pad><pad><pad>|<pad><pad><pad><pad><pad><pad><pad><pad><pad><pad><pad><pad><pad><pad><pad><pad><pad><pad><pad><pad><pad><pad><pad>B<pad><pad>ET<pad><pad>T<pad><pad>ER<pad>|||<pad><pad><pad><pad><pad>|<pad>R<pad><pad>E<pad><pad><pad><pad>P<pad>L<pad><pad><pad><pad>I<pad>E<pad><pad>|<pad><pad><pad><pad><pad><pad>|<pad><pad><pad><pad>E<pad><pad><pad><pad><pad>T<pad><pad>I<pad><pad><pad><pad><pad><pad><pad><pad>|||<pad><pad><pad><pad><pad><pad><pad><pad><pad><pad><pad><pad><pad><pad><pad><pad><pad><pad><pad><pad><pad><pad><pad><pad>\n",
      "2025-09-13 06:52:19,777 - INFO - Computing SHAP values with GradientExplainer\n",
      "2025-09-13 07:03:02,953 - INFO - Raw SHAP values type: <class 'numpy.ndarray'>\n",
      "2025-09-13 07:03:02,954 - INFO - SHAP values shape after conversion: (1, 64880, 202)\n",
      "2025-09-13 07:03:02,956 - INFO - SHAP values shape: (1, 64880, 202)\n",
      "2025-09-13 07:03:02,961 - INFO - SHAP values range: [-17.3258, 30.6699]\n"
     ]
    },
    {
     "name": "stderr",
     "output_type": "stream",
     "text": [
      "Computing metrics:  86%|██████████████████████████████████████████████████▉        | 38/44 [8:21:15<1:05:52, 658.79s/it]"
     ]
    },
    {
     "name": "stdout",
     "output_type": "stream",
     "text": [
      "2025-09-13 07:03:03,025 - INFO - Processing sample 39/44\n",
      "2025-09-13 07:03:03,033 - INFO - Model confidence: 0.8849\n",
      "2025-09-13 07:03:03,034 - INFO - Computing SHAP values\n",
      "2025-09-13 07:03:03,035 - INFO - Created background samples with shape torch.Size([5, 64880])\n",
      "2025-09-13 07:03:03,036 - INFO - Background mean: -0.000024\n",
      "2025-09-13 07:03:03,036 - INFO - Background std: 0.009985\n",
      "2025-09-13 07:03:03,064 - INFO - Model output shape: torch.Size([1, 202])\n",
      "2025-09-13 07:03:03,065 - INFO - Model output mean: 8.011395\n",
      "2025-09-13 07:03:03,066 - INFO - Model output std: 2.149034\n",
      "2025-09-13 07:03:03,066 - INFO - Model output sum: 1618.301758\n",
      "2025-09-13 07:03:03,078 - INFO - Predicted IDs: tensor([[ 0,  0,  0,  0,  0,  0,  0,  0,  0,  0,  0,  0,  0,  0,  0,  0,  0,  0,\n",
      "          0,  0,  0,  0,  0,  0,  0,  0,  0,  0,  0,  0,  0, 10, 20,  0,  0,  4,\n",
      "          0, 22,  0,  0,  8, 16,  0,  0,  0,  0,  0,  4,  0,  0,  0,  0,  0,  0,\n",
      "          0,  0,  0,  0,  0,  0,  4,  0,  0,  0,  0,  0,  0,  0,  0,  0,  0,  0,\n",
      "          0,  0,  0,  0,  4,  0,  0,  0,  0,  0,  0,  0,  0,  0,  0,  0,  0,  0,\n",
      "          0,  0,  0,  0,  0,  0,  0,  0,  0,  0,  0, 24,  0,  0,  0,  5,  6,  0,\n",
      "          0,  0,  6,  0,  5, 13,  0,  0,  0,  0,  0,  0,  0,  0,  0,  4,  0,  0,\n",
      "          0,  0,  0,  0,  0,  0,  0,  0,  0,  0,  0,  0,  0, 22,  0,  0,  0,  0,\n",
      "          4,  0,  0,  0,  0,  0,  0,  0,  0,  0,  0,  0,  0,  0,  0,  0,  4,  0,\n",
      "          0,  0,  0,  0,  0,  0,  0,  0,  0,  0,  0,  0,  0,  0,  4,  0,  0,  0,\n",
      "          0,  0,  0,  0,  0,  0,  0,  0,  0,  0,  0,  0,  0,  0,  0,  0,  0,  0,\n",
      "          0,  0,  0,  0]], device='cuda:0')\n",
      "2025-09-13 07:03:03,080 - INFO - Transcription: ['IF YOU   BETTER Y']\n",
      "2025-09-13 07:03:03,085 - INFO - Decoded output string: <pad><pad><pad><pad><pad><pad><pad><pad><pad><pad><pad><pad><pad><pad><pad><pad><pad><pad><pad><pad><pad><pad><pad><pad><pad><pad><pad><pad><pad><pad><pad>IF<pad><pad>|<pad>Y<pad><pad>OU<pad><pad><pad><pad><pad>|<pad><pad><pad><pad><pad><pad><pad><pad><pad><pad><pad><pad>|<pad><pad><pad><pad><pad><pad><pad><pad><pad><pad><pad><pad><pad><pad><pad>|<pad><pad><pad><pad><pad><pad><pad><pad><pad><pad><pad><pad><pad><pad><pad><pad><pad><pad><pad><pad><pad><pad><pad><pad>B<pad><pad><pad>ET<pad><pad><pad>T<pad>ER<pad><pad><pad><pad><pad><pad><pad><pad><pad>|<pad><pad><pad><pad><pad><pad><pad><pad><pad><pad><pad><pad><pad><pad><pad>Y<pad><pad><pad><pad>|<pad><pad><pad><pad><pad><pad><pad><pad><pad><pad><pad><pad><pad><pad><pad>|<pad><pad><pad><pad><pad><pad><pad><pad><pad><pad><pad><pad><pad><pad><pad>|<pad><pad><pad><pad><pad><pad><pad><pad><pad><pad><pad><pad><pad><pad><pad><pad><pad><pad><pad><pad><pad><pad><pad><pad><pad>\n",
      "2025-09-13 07:03:03,086 - INFO - Computing SHAP values with GradientExplainer\n",
      "2025-09-13 07:13:45,650 - INFO - Raw SHAP values type: <class 'numpy.ndarray'>\n",
      "2025-09-13 07:13:45,651 - INFO - SHAP values shape after conversion: (1, 64880, 202)\n",
      "2025-09-13 07:13:45,653 - INFO - SHAP values shape: (1, 64880, 202)\n",
      "2025-09-13 07:13:45,658 - INFO - SHAP values range: [-18.0031, 12.7383]\n"
     ]
    },
    {
     "name": "stderr",
     "output_type": "stream",
     "text": [
      "Computing metrics:  89%|██████████████████████████████████████████████████████       | 39/44 [8:31:58<54:29, 653.96s/it]"
     ]
    },
    {
     "name": "stdout",
     "output_type": "stream",
     "text": [
      "2025-09-13 07:13:45,718 - INFO - Processing sample 40/44\n",
      "2025-09-13 07:13:45,726 - INFO - Model confidence: 0.9285\n",
      "2025-09-13 07:13:45,727 - INFO - Computing SHAP values\n",
      "2025-09-13 07:13:45,728 - INFO - Created background samples with shape torch.Size([5, 64880])\n",
      "2025-09-13 07:13:45,729 - INFO - Background mean: 0.000019\n",
      "2025-09-13 07:13:45,729 - INFO - Background std: 0.009995\n",
      "2025-09-13 07:13:45,756 - INFO - Model output shape: torch.Size([1, 202])\n",
      "2025-09-13 07:13:45,757 - INFO - Model output mean: 8.078877\n",
      "2025-09-13 07:13:45,758 - INFO - Model output std: 2.086922\n",
      "2025-09-13 07:13:45,759 - INFO - Model output sum: 1631.933350\n",
      "2025-09-13 07:13:45,771 - INFO - Predicted IDs: tensor([[ 0,  0,  0,  0,  0,  0,  0,  0,  0,  0,  0,  0,  0,  0,  0,  0,  0,  0,\n",
      "          0,  0,  0,  0,  0,  0,  0,  0,  0,  0,  0,  0,  0,  0,  0,  0,  0,  0,\n",
      "          0,  0,  0,  8,  0,  0,  0,  0,  0,  0,  0,  0,  0,  0,  0,  0,  0,  0,\n",
      "          0,  0,  0,  0,  0,  0,  0,  0,  0,  0,  0,  0,  0,  0,  0,  0,  0,  0,\n",
      "          0,  0,  0,  0,  0,  0,  0,  0,  0,  0,  0,  0,  0,  0,  0,  0,  0,  0,\n",
      "          0,  0,  0,  0,  0,  0,  0,  0,  0,  0,  0,  0, 25,  0,  0,  0,  5,  0,\n",
      "          0, 13,  0,  0,  0,  0,  0,  0,  0,  0,  0, 22,  0,  0,  0,  0,  0,  0,\n",
      "          0,  0,  0,  0,  0,  0,  0,  0,  0,  0,  0,  0,  0,  0,  0,  0,  0,  0,\n",
      "          0,  0,  0,  0,  0,  0,  0,  0,  0,  0,  0,  0,  0,  0,  0,  0,  0,  0,\n",
      "          0,  0,  0,  0,  0,  0,  0,  0,  0,  0,  0,  0,  0,  0,  0,  0,  0,  0,\n",
      "          0,  0,  0,  0,  0,  0,  0,  0,  0,  0,  0,  0,  0,  0,  0,  0,  0,  0,\n",
      "          0,  0,  0,  0]], device='cuda:0')\n",
      "2025-09-13 07:13:45,772 - INFO - Transcription: ['OVERY']\n",
      "2025-09-13 07:13:45,779 - INFO - Decoded output string: <pad><pad><pad><pad><pad><pad><pad><pad><pad><pad><pad><pad><pad><pad><pad><pad><pad><pad><pad><pad><pad><pad><pad><pad><pad><pad><pad><pad><pad><pad><pad><pad><pad><pad><pad><pad><pad><pad><pad>O<pad><pad><pad><pad><pad><pad><pad><pad><pad><pad><pad><pad><pad><pad><pad><pad><pad><pad><pad><pad><pad><pad><pad><pad><pad><pad><pad><pad><pad><pad><pad><pad><pad><pad><pad><pad><pad><pad><pad><pad><pad><pad><pad><pad><pad><pad><pad><pad><pad><pad><pad><pad><pad><pad><pad><pad><pad><pad><pad><pad><pad><pad>V<pad><pad><pad>E<pad><pad>R<pad><pad><pad><pad><pad><pad><pad><pad><pad>Y<pad><pad><pad><pad><pad><pad><pad><pad><pad><pad><pad><pad><pad><pad><pad><pad><pad><pad><pad><pad><pad><pad><pad><pad><pad><pad><pad><pad><pad><pad><pad><pad><pad><pad><pad><pad><pad><pad><pad><pad><pad><pad><pad><pad><pad><pad><pad><pad><pad><pad><pad><pad><pad><pad><pad><pad><pad><pad><pad><pad><pad><pad><pad><pad><pad><pad><pad><pad><pad><pad><pad><pad><pad><pad><pad><pad><pad><pad><pad><pad><pad><pad>\n",
      "2025-09-13 07:13:45,780 - INFO - Computing SHAP values with GradientExplainer\n",
      "2025-09-13 07:24:30,498 - INFO - Raw SHAP values type: <class 'numpy.ndarray'>\n",
      "2025-09-13 07:24:30,498 - INFO - SHAP values shape after conversion: (1, 64880, 202)\n",
      "2025-09-13 07:24:30,501 - INFO - SHAP values shape: (1, 64880, 202)\n",
      "2025-09-13 07:24:30,506 - INFO - SHAP values range: [-6.0345, 5.9481]\n"
     ]
    },
    {
     "name": "stderr",
     "output_type": "stream",
     "text": [
      "Computing metrics:  91%|███████████████████████████████████████████████████████▍     | 40/44 [8:42:43<43:24, 651.22s/it]"
     ]
    },
    {
     "name": "stdout",
     "output_type": "stream",
     "text": [
      "2025-09-13 07:24:30,564 - INFO - Processing sample 41/44\n",
      "2025-09-13 07:24:30,576 - INFO - Model confidence: 0.9807\n",
      "2025-09-13 07:24:30,576 - INFO - Computing SHAP values\n",
      "2025-09-13 07:24:30,578 - INFO - Created background samples with shape torch.Size([5, 58720])\n",
      "2025-09-13 07:24:30,578 - INFO - Background mean: 0.000001\n",
      "2025-09-13 07:24:30,579 - INFO - Background std: 0.010011\n",
      "2025-09-13 07:24:30,605 - INFO - Model output shape: torch.Size([1, 183])\n",
      "2025-09-13 07:24:30,606 - INFO - Model output mean: 14.068755\n",
      "2025-09-13 07:24:30,607 - INFO - Model output std: 1.719267\n",
      "2025-09-13 07:24:30,608 - INFO - Model output sum: 2574.582275\n",
      "2025-09-13 07:24:30,619 - INFO - Predicted IDs: tensor([[ 0,  0,  0,  0,  0,  0,  0,  0,  0,  0,  0,  0,  0,  0,  0,  0,  0,  0,\n",
      "          0,  0,  0,  0,  0,  0,  0,  0,  0,  0,  0,  0, 10,  0,  4,  0, 11,  0,\n",
      "          8,  0, 23,  5,  4,  4, 11,  5,  0,  4,  4, 14,  0,  0,  8,  5,  5, 12,\n",
      "         12,  0,  9,  0, 27, 27,  6,  4,  4,  0, 18,  0,  0,  8, 13, 13,  0,  0,\n",
      "         26,  0,  4,  4,  4,  0,  0,  0,  6,  0,  8,  0,  0,  0,  0,  0,  8,  0,\n",
      "          0,  0,  4,  4,  0,  0,  0,  0,  0, 11,  0,  0,  0,  0,  0,  0,  0,  7,\n",
      "         13, 13,  0,  0, 14, 14,  0,  4,  4,  4,  4,  0,  0,  0,  0,  0,  0,  0,\n",
      "          0,  0,  0, 12,  0,  7, 10, 10,  0, 14,  4,  4,  4, 12, 11, 11, 11,  0,\n",
      "          7, 21, 21,  0,  0,  0, 21,  0,  0,  0, 22,  4,  4,  4,  4,  0,  0,  0,\n",
      "          0,  0,  0,  0,  0,  0,  0,  0,  0,  0,  0,  0,  0,  0,  0,  0,  0,  0,\n",
      "          0,  0,  0]], device='cuda:0')\n",
      "2025-09-13 07:24:30,620 - INFO - Transcription: [\"I HOPE HE DOESN'T WORK TOO HARD SAID SHAGGY\"]\n",
      "2025-09-13 07:24:30,626 - INFO - Decoded output string: <pad><pad><pad><pad><pad><pad><pad><pad><pad><pad><pad><pad><pad><pad><pad><pad><pad><pad><pad><pad><pad><pad><pad><pad><pad><pad><pad><pad><pad><pad>I<pad>|<pad>H<pad>O<pad>PE||HE<pad>||D<pad><pad>OEESS<pad>N<pad>''T||<pad>W<pad><pad>ORR<pad><pad>K<pad>|||<pad><pad><pad>T<pad>O<pad><pad><pad><pad><pad>O<pad><pad><pad>||<pad><pad><pad><pad><pad>H<pad><pad><pad><pad><pad><pad><pad>ARR<pad><pad>DD<pad>||||<pad><pad><pad><pad><pad><pad><pad><pad><pad><pad>S<pad>AII<pad>D|||SHHH<pad>AGG<pad><pad><pad>G<pad><pad><pad>Y||||<pad><pad><pad><pad><pad><pad><pad><pad><pad><pad><pad><pad><pad><pad><pad><pad><pad><pad><pad><pad><pad><pad><pad><pad>\n",
      "2025-09-13 07:24:30,627 - INFO - Computing SHAP values with GradientExplainer\n",
      "2025-09-13 07:33:55,682 - INFO - Raw SHAP values type: <class 'numpy.ndarray'>\n",
      "2025-09-13 07:33:55,683 - INFO - SHAP values shape after conversion: (1, 58720, 183)\n",
      "2025-09-13 07:33:55,685 - INFO - SHAP values shape: (1, 58720, 183)\n",
      "2025-09-13 07:33:55,691 - INFO - SHAP values range: [-36.5787, 31.4083]\n"
     ]
    },
    {
     "name": "stderr",
     "output_type": "stream",
     "text": [
      "Computing metrics:  93%|████████████████████████████████████████████████████████▊    | 41/44 [8:52:08<31:16, 625.41s/it]"
     ]
    },
    {
     "name": "stdout",
     "output_type": "stream",
     "text": [
      "2025-09-13 07:33:55,742 - INFO - Processing sample 42/44\n",
      "2025-09-13 07:33:55,750 - INFO - Model confidence: 0.8141\n",
      "2025-09-13 07:33:55,750 - INFO - Computing SHAP values\n",
      "2025-09-13 07:33:55,751 - INFO - Created background samples with shape torch.Size([5, 58720])\n",
      "2025-09-13 07:33:55,752 - INFO - Background mean: -0.000030\n",
      "2025-09-13 07:33:55,753 - INFO - Background std: 0.009985\n",
      "2025-09-13 07:33:55,779 - INFO - Model output shape: torch.Size([1, 183])\n",
      "2025-09-13 07:33:55,780 - INFO - Model output mean: 8.106383\n",
      "2025-09-13 07:33:55,781 - INFO - Model output std: 3.068791\n",
      "2025-09-13 07:33:55,781 - INFO - Model output sum: 1483.468140\n",
      "2025-09-13 07:33:55,793 - INFO - Predicted IDs: tensor([[ 0,  0,  0,  0,  0,  0,  0,  0,  0,  0,  0,  0,  0,  0,  0,  0,  0,  0,\n",
      "          0,  0,  0,  0,  0,  0,  0,  0,  0,  0, 10,  0,  0,  0,  4,  4, 18,  0,\n",
      "         16, 15,  0,  0,  4, 24,  0,  5,  0,  0,  4,  4, 21,  0,  5,  0,  6,  0,\n",
      "          4,  4,  6,  0,  0,  5,  0,  0,  4,  4, 18,  0,  0,  8,  0,  0,  0,  6,\n",
      "          0,  0,  4,  0,  0,  0,  0,  0,  6,  0,  0,  0,  0,  8,  0,  0,  0,  0,\n",
      "          0,  4,  0,  6,  0,  5,  0,  0,  4,  0, 11,  0,  0,  0,  0,  0, 10,  0,\n",
      "          0,  0,  9,  0,  0,  0,  0,  4,  4,  4,  0,  0,  0,  0,  0,  0,  0,  0,\n",
      "          0,  0,  0,  0,  0,  0,  0,  0,  0,  0,  0,  4,  0,  0,  0,  0,  0,  0,\n",
      "          0,  0,  0,  0,  0,  0,  0,  0,  0,  0,  0,  0,  0,  4,  4,  0,  0,  0,\n",
      "          0,  0,  0,  0,  0,  0,  0,  0,  0,  0,  0,  0,  0,  0,  0,  0,  0,  0,\n",
      "          0,  0,  0]], device='cuda:0')\n",
      "2025-09-13 07:33:55,794 - INFO - Transcription: ['I WUL BE GET TE WOT TO TE HIN']\n",
      "2025-09-13 07:33:55,800 - INFO - Decoded output string: <pad><pad><pad><pad><pad><pad><pad><pad><pad><pad><pad><pad><pad><pad><pad><pad><pad><pad><pad><pad><pad><pad><pad><pad><pad><pad><pad><pad>I<pad><pad><pad>||W<pad>UL<pad><pad>|B<pad>E<pad><pad>||G<pad>E<pad>T<pad>||T<pad><pad>E<pad><pad>||W<pad><pad>O<pad><pad><pad>T<pad><pad>|<pad><pad><pad><pad><pad>T<pad><pad><pad><pad>O<pad><pad><pad><pad><pad>|<pad>T<pad>E<pad><pad>|<pad>H<pad><pad><pad><pad><pad>I<pad><pad><pad>N<pad><pad><pad><pad>|||<pad><pad><pad><pad><pad><pad><pad><pad><pad><pad><pad><pad><pad><pad><pad><pad><pad><pad><pad>|<pad><pad><pad><pad><pad><pad><pad><pad><pad><pad><pad><pad><pad><pad><pad><pad><pad><pad><pad>||<pad><pad><pad><pad><pad><pad><pad><pad><pad><pad><pad><pad><pad><pad><pad><pad><pad><pad><pad><pad><pad><pad><pad><pad>\n",
      "2025-09-13 07:33:55,800 - INFO - Computing SHAP values with GradientExplainer\n",
      "2025-09-13 07:43:20,330 - INFO - Raw SHAP values type: <class 'numpy.ndarray'>\n",
      "2025-09-13 07:43:20,331 - INFO - SHAP values shape after conversion: (1, 58720, 183)\n",
      "2025-09-13 07:43:20,332 - INFO - SHAP values shape: (1, 58720, 183)\n",
      "2025-09-13 07:43:20,337 - INFO - SHAP values range: [-13.1799, 10.1067]\n"
     ]
    },
    {
     "name": "stderr",
     "output_type": "stream",
     "text": [
      "Computing metrics:  95%|██████████████████████████████████████████████████████████▏  | 42/44 [9:01:33<20:14, 607.18s/it]"
     ]
    },
    {
     "name": "stdout",
     "output_type": "stream",
     "text": [
      "2025-09-13 07:43:20,382 - INFO - Processing sample 43/44\n",
      "2025-09-13 07:43:20,390 - INFO - Model confidence: 0.8482\n",
      "2025-09-13 07:43:20,390 - INFO - Computing SHAP values\n",
      "2025-09-13 07:43:20,392 - INFO - Created background samples with shape torch.Size([5, 58720])\n",
      "2025-09-13 07:43:20,392 - INFO - Background mean: -0.000006\n",
      "2025-09-13 07:43:20,393 - INFO - Background std: 0.009985\n",
      "2025-09-13 07:43:19,613 - INFO - Model output shape: torch.Size([1, 183])\n",
      "2025-09-13 07:43:19,614 - INFO - Model output mean: 7.922424\n",
      "2025-09-13 07:43:19,615 - INFO - Model output std: 2.530515\n",
      "2025-09-13 07:43:19,615 - INFO - Model output sum: 1449.803711\n",
      "2025-09-13 07:43:19,626 - INFO - Predicted IDs: tensor([[ 0,  0,  0,  0,  0,  0,  0,  0,  0,  0,  0,  0,  0,  0,  0,  0,  0,  0,\n",
      "          0,  0,  0,  0,  0,  0,  0,  0,  0,  0,  0,  7,  9, 14,  4,  4,  0,  0,\n",
      "         10,  0,  0,  0,  4,  6,  0,  5,  0,  0,  4,  4, 21,  0,  8,  0,  6,  0,\n",
      "          0,  4,  6,  0,  0,  5,  0,  0,  0,  4,  0,  0,  0,  8,  0,  0,  0,  6,\n",
      "          0,  0,  4,  0,  0,  0,  0,  0,  6,  0,  0, 13,  0,  5,  5,  0,  0,  0,\n",
      "          5,  0,  4,  0,  0,  0,  0,  0,  0,  0, 23,  0,  0,  0,  0,  0,  8,  0,\n",
      "          0,  0,  9,  0,  0,  0,  0,  4,  4,  0,  0,  0,  0,  0,  0,  0,  0,  0,\n",
      "          0,  0,  0,  0,  0,  0,  0,  0,  0,  0,  0,  0,  0,  0,  0,  0,  0,  0,\n",
      "          0,  0,  0,  0,  0,  0,  0,  0,  0,  0,  0,  0,  0,  0,  0,  0,  0,  0,\n",
      "          0,  0,  0,  0,  0,  0,  0,  0,  0,  0,  0,  0,  0,  0,  0,  0,  0,  0,\n",
      "          0,  0,  0]], device='cuda:0')\n",
      "2025-09-13 07:43:19,627 - INFO - Transcription: ['AND I TE GOT TE OT TREE PON']\n",
      "2025-09-13 07:43:19,632 - INFO - Decoded output string: <pad><pad><pad><pad><pad><pad><pad><pad><pad><pad><pad><pad><pad><pad><pad><pad><pad><pad><pad><pad><pad><pad><pad><pad><pad><pad><pad><pad><pad>AND||<pad><pad>I<pad><pad><pad>|T<pad>E<pad><pad>||G<pad>O<pad>T<pad><pad>|T<pad><pad>E<pad><pad><pad>|<pad><pad><pad>O<pad><pad><pad>T<pad><pad>|<pad><pad><pad><pad><pad>T<pad><pad>R<pad>EE<pad><pad><pad>E<pad>|<pad><pad><pad><pad><pad><pad><pad>P<pad><pad><pad><pad><pad>O<pad><pad><pad>N<pad><pad><pad><pad>||<pad><pad><pad><pad><pad><pad><pad><pad><pad><pad><pad><pad><pad><pad><pad><pad><pad><pad><pad><pad><pad><pad><pad><pad><pad><pad><pad><pad><pad><pad><pad><pad><pad><pad><pad><pad><pad><pad><pad><pad><pad><pad><pad><pad><pad><pad><pad><pad><pad><pad><pad><pad><pad><pad><pad><pad><pad><pad><pad><pad><pad><pad><pad><pad><pad><pad>\n",
      "2025-09-13 07:43:19,633 - INFO - Computing SHAP values with GradientExplainer\n",
      "2025-09-13 07:52:45,380 - INFO - Raw SHAP values type: <class 'numpy.ndarray'>\n",
      "2025-09-13 07:52:45,380 - INFO - SHAP values shape after conversion: (1, 58720, 183)\n",
      "2025-09-13 07:52:45,382 - INFO - SHAP values shape: (1, 58720, 183)\n",
      "2025-09-13 07:52:45,387 - INFO - SHAP values range: [-11.1335, 11.8696]\n"
     ]
    },
    {
     "name": "stderr",
     "output_type": "stream",
     "text": [
      "Computing metrics:  98%|███████████████████████████████████████████████████████████▌ | 43/44 [9:10:58<09:54, 594.54s/it]"
     ]
    },
    {
     "name": "stdout",
     "output_type": "stream",
     "text": [
      "2025-09-13 07:52:45,435 - INFO - Processing sample 44/44\n",
      "2025-09-13 07:52:45,443 - INFO - Model confidence: 0.8616\n",
      "2025-09-13 07:52:45,444 - INFO - Computing SHAP values\n",
      "2025-09-13 07:52:45,445 - INFO - Created background samples with shape torch.Size([5, 58720])\n",
      "2025-09-13 07:52:45,445 - INFO - Background mean: 0.000024\n",
      "2025-09-13 07:52:45,446 - INFO - Background std: 0.009987\n",
      "2025-09-13 07:52:45,484 - INFO - Model output shape: torch.Size([1, 183])\n",
      "2025-09-13 07:52:45,485 - INFO - Model output mean: 8.439185\n",
      "2025-09-13 07:52:45,485 - INFO - Model output std: 2.268975\n",
      "2025-09-13 07:52:45,486 - INFO - Model output sum: 1544.370850\n",
      "2025-09-13 07:52:45,498 - INFO - Predicted IDs: tensor([[ 0,  0,  0,  0,  0,  0,  0,  0,  0,  0,  0,  0,  0,  0,  0,  0,  0,  0,\n",
      "          0,  0,  0,  0,  0,  0,  0,  0,  0,  0,  0,  7,  9,  0,  0,  4,  0,  0,\n",
      "         10,  0,  0,  0,  4, 24,  0,  5,  0,  0,  4,  4,  6,  0,  5,  0,  0,  0,\n",
      "          0,  4,  6,  0,  0,  5,  0,  0,  0,  4,  0, 18,  8,  0,  8,  0,  0, 26,\n",
      "          0,  0,  4,  4,  0,  0,  0,  6,  0,  0,  0,  0,  0,  0,  8,  0,  0,  0,\n",
      "          0,  4,  4,  6, 11,  0,  5,  4,  0,  0, 24,  0,  0,  0,  0,  8,  0,  0,\n",
      "          0,  0, 25,  0,  0,  0,  4,  4,  4,  0,  0,  0,  0,  0,  0,  0,  0,  0,\n",
      "          0,  0,  0,  0,  0,  0,  0,  0,  0,  0,  0,  0,  0,  0,  0,  0,  0,  0,\n",
      "          0,  0,  0,  0,  0,  0,  0,  0,  0,  0,  0,  0,  0,  0,  0,  0,  0,  0,\n",
      "          0,  0,  0,  0,  0,  0,  0,  0,  0,  0,  0,  0,  0,  0,  0,  0,  0,  0,\n",
      "          0,  0,  0]], device='cuda:0')\n",
      "2025-09-13 07:52:45,499 - INFO - Transcription: ['AN I BE TE TE WOOK TO THE BOV']\n",
      "2025-09-13 07:52:45,504 - INFO - Decoded output string: <pad><pad><pad><pad><pad><pad><pad><pad><pad><pad><pad><pad><pad><pad><pad><pad><pad><pad><pad><pad><pad><pad><pad><pad><pad><pad><pad><pad><pad>AN<pad><pad>|<pad><pad>I<pad><pad><pad>|B<pad>E<pad><pad>||T<pad>E<pad><pad><pad><pad>|T<pad><pad>E<pad><pad><pad>|<pad>WO<pad>O<pad><pad>K<pad><pad>||<pad><pad><pad>T<pad><pad><pad><pad><pad><pad>O<pad><pad><pad><pad>||TH<pad>E|<pad><pad>B<pad><pad><pad><pad>O<pad><pad><pad><pad>V<pad><pad><pad>|||<pad><pad><pad><pad><pad><pad><pad><pad><pad><pad><pad><pad><pad><pad><pad><pad><pad><pad><pad><pad><pad><pad><pad><pad><pad><pad><pad><pad><pad><pad><pad><pad><pad><pad><pad><pad><pad><pad><pad><pad><pad><pad><pad><pad><pad><pad><pad><pad><pad><pad><pad><pad><pad><pad><pad><pad><pad><pad><pad><pad><pad><pad><pad><pad><pad><pad>\n",
      "2025-09-13 07:52:45,504 - INFO - Computing SHAP values with GradientExplainer\n",
      "2025-09-13 08:02:10,248 - INFO - Raw SHAP values type: <class 'numpy.ndarray'>\n",
      "2025-09-13 08:02:10,249 - INFO - SHAP values shape after conversion: (1, 58720, 183)\n",
      "2025-09-13 08:02:10,251 - INFO - SHAP values shape: (1, 58720, 183)\n",
      "2025-09-13 08:02:10,255 - INFO - SHAP values range: [-18.7153, 10.7428]\n"
     ]
    },
    {
     "name": "stderr",
     "output_type": "stream",
     "text": [
      "Computing metrics: 100%|█████████████████████████████████████████████████████████████| 44/44 [9:20:23<00:00, 764.16s/it]\n"
     ]
    }
   ],
   "source": [
    "# Compute metrics and get visualization data\n",
    "logger.info(\"Computing metrics...\")\n",
    "compute_metrics(processor, device, wrapped_model, model, vocab, test_set)"
   ]
  }
 ],
 "metadata": {
  "kernelspec": {
   "display_name": "Python 3 (ipykernel)",
   "language": "python",
   "name": "python3"
  },
  "language_info": {
   "codemirror_mode": {
    "name": "ipython",
    "version": 3
   },
   "file_extension": ".py",
   "mimetype": "text/x-python",
   "name": "python",
   "nbconvert_exporter": "python",
   "pygments_lexer": "ipython3",
   "version": "3.11.11"
  }
 },
 "nbformat": 4,
 "nbformat_minor": 5
}
